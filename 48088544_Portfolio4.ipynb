{
 "cells": [
  {
   "cell_type": "markdown",
   "id": "a9e74b1e",
   "metadata": {},
   "source": [
    "# Portfolio Part 4 - Analysis of Coffee Quality Data (CQI May-2023)"
   ]
  },
  {
   "cell_type": "markdown",
   "id": "553e3667",
   "metadata": {},
   "source": [
    "The explanation of each column:"
   ]
  },
  {
   "cell_type": "markdown",
   "id": "f010a972",
   "metadata": {},
   "source": [
    "|Column|Meaning|\n",
    "|:-----:|:-----:|\n",
    "| Unnamed: 0           | An auto-generated index or unique identifier for each entry in the dataset.                                  |\n",
    "| ID                   | A unique identifier assigned to each coffee sample.                                                          |\n",
    "| Country of Origin    | The country where the coffee beans were grown.                                                               |\n",
    "| Farm Name            | The name of the farm where the coffee was produced.                                                          |\n",
    "| Lot Number           | A batch number assigned to a particular lot of coffee beans.                                                 |\n",
    "| Mill                 | The facility where the coffee beans were processed.                                                          |\n",
    "| ICO Number           | The identification number assigned by the International Coffee Organization.                                 |\n",
    "| Company              | The company that owns or markets the coffee.                                                                 |\n",
    "| Altitude             | The elevation at which the coffee farm is located, typically measured in meters or feet.                     |\n",
    "| Region               | The specific area within the country where the coffee is grown.                                               |\n",
    "| Producer             | The name of the individual or company that produced the coffee.                                               |\n",
    "| Number of Bags       | The number of bags that the coffee lot contains.                                                             |\n",
    "| Bag Weight           | The weight of each bag, usually given in kilograms or pounds.                                                |\n",
    "| In-Country Partner   | The local partner or organization associated with the coffee.                                                 |\n",
    "| Harvest Year         | The year in which the coffee was harvested.                                                                  |\n",
    "| Grading Date         | The date on which the coffee was graded or assessed for quality.                                              |\n",
    "| Owner                | The owner of the coffee at the time of grading.                                                              |\n",
    "| Variety              | The specific variety or species of the coffee plant.                                                         |\n",
    "| Status               | The current status of the coffee (e.g., active, inactive).                                                    |\n",
    "| Processing Method    | The method used to process the coffee beans, such as washed, dry, or honey.                                  |\n",
    "| Aroma                | Refers to the scent or fragrance of the coffee.                                                              |\n",
    "| Flavor               | The flavor of coffee is evaluated based on the taste, including any sweetness, bitterness, acidity, and other flavor notes.         |\n",
    "| Aftertaste           | Refers to the lingering taste that remains in the mouth after swallowing the coffee.                                    |\n",
    "| Acidity              | Acidity in coffee refers to the brightness or liveliness of the taste.                |\n",
    "| Body                 | The body of coffee refers to the thickness or viscosity of the coffee in the mouth.                    |\n",
    "| Balance              | Balance refers to how well the different flavor components of the coffee work together.                                |\n",
    "| Uniformity           | Uniformity refers to the consistency of the coffee from cup to cup.                                 |\n",
    "| Clean Cup            | A clean cup refers to a coffee that is free of any off-flavors or defects, such as sourness, mustiness, or staleness.                        |\n",
    "| Sweetness            | It can be described as caramel-like, fruity, or floral, and is a desirable quality in coffee.                                                             |\n",
    "| Overall              | An overall score that represents the general quality of the coffee.                                           |\n",
    "| Defects              | The number of defects found in the coffee sample.                                                            |\n",
    "| Total Cup Points     | The total score awarded to the coffee based on various sensory evaluations.                                  |\n",
    "| Moisture Percentage  | The amount of moisture present in the coffee, typically expressed as a percentage.                           |\n",
    "| Category One Defects | Major defects observed in the coffee samples.                                                                |\n",
    "| Quakers              | A term used to describe underdeveloped or poorly roasted beans that appear lighter in color.                 |\n",
    "| Color                | The color of the roasted beans, which can indicate the roast level.                                          |\n",
    "| Category Two Defects | Minor defects observed in the coffee samples.                                                                |\n",
    "| Expiration           | The date after which the coffee is considered to be less optimal for use.                                    |\n",
    "| Certification Body   | The organization that certified the coffee, if applicable.                                                    |\n",
    "| Certification Address| The address of the certification body.                                                                       |\n",
    "| Certification Contact| Contact information for the certification body.                                                               |\n"
   ]
  },
  {
   "cell_type": "markdown",
   "id": "8104dff0",
   "metadata": {},
   "source": [
    "For the sensory evaluations (coffee quality scores), the assessment depends on 9 factors: Aroma, Flavor, Aftertaste, Acidity, Body, Balance, Uniformity, Clean Cup, and Sweetness. The 'Total Cup Points' result is literally the total of the 9 features mentioned above."
   ]
  },
  {
   "cell_type": "markdown",
   "id": "1017d2c8",
   "metadata": {},
   "source": [
    "In this notebook, we will explore the 'Coffee Quality Data (CQI May-2023)' data through several key steps:\n",
    "1. ***Explore the data*** We will begin by visualizing interesting aspects of the data, such as identifying the best coffee based on mean values and other relevant insights.\n",
    "2. ***Data preparation*** This step involves preparing the data for analysis. We will demonstrate how we handle the dataset by deciding to drop unnecessary columns and encode categorical variables into numeric values for further analysis\n",
    "3. ***Study the correlation*** Next, we will examine the correlation between the 'Coffee quality scores' and other features in the dataset. We will select the variables that we believe are most helpful for predicting the quality scores.\n",
    "4. ***Split the dataset*** We will split the dataset into training and testing sets, following a ratio of 80:20, where 80% of the data will be used for training the model and 20% for testing its performance.\n",
    "5. ***Train a linear regression model*** A modeling technique will be applied to predict the focus target variable. Further details on the specific analysis and modeling technique for predicting 'Flavour' will be discussed in subsequent sections.\n",
    "6. ***Model Evaluation using Cross-Validation*** This step involves evaluating the performance of our trained model using cross-validation. Cross-validation helps to assess how well the model generalizes to new data by splitting the dataset into multiple subsets and training the model on different combinations of these subsets."
   ]
  },
  {
   "cell_type": "markdown",
   "id": "0578e1b2",
   "metadata": {},
   "source": [
    "# (1) Explore the data\n"
   ]
  },
  {
   "cell_type": "code",
   "execution_count": 23,
   "id": "77efdac3",
   "metadata": {},
   "outputs": [],
   "source": [
    "# Import necessary libraries\n",
    "import pandas as pd\n",
    "import numpy as np\n",
    "import matplotlib.pyplot as plt\n",
    "import seaborn as sns\n",
    "import plotly.express as px\n",
    "\n",
    "\n",
    "%matplotlib inline\n",
    "\n",
    "from sklearn.model_selection import train_test_split, GridSearchCV, cross_val_score\n",
    "from sklearn.linear_model import LinearRegression\n",
    "from sklearn.metrics import accuracy_score\n",
    "from sklearn.neighbors import KNeighborsClassifier\n",
    "from sklearn.preprocessing import LabelEncoder\n",
    "from sklearn.metrics import mean_squared_error\n",
    "\n",
    "# Define function to bold text\n",
    "def bold_text(text):\n",
    "    return \"\\033[1m\" + text + \"\\033[0m\"\n",
    "\n",
    "# Initialize scaler and encoders\n",
    "label_Encoder = LabelEncoder()\n"
   ]
  },
  {
   "cell_type": "code",
   "execution_count": 24,
   "id": "603d2adb",
   "metadata": {},
   "outputs": [
    {
     "name": "stdout",
     "output_type": "stream",
     "text": [
      "\u001b[1mFirst few rows of the dataset:\u001b[0m\n"
     ]
    },
    {
     "data": {
      "text/html": [
       "<div>\n",
       "<style scoped>\n",
       "    .dataframe tbody tr th:only-of-type {\n",
       "        vertical-align: middle;\n",
       "    }\n",
       "\n",
       "    .dataframe tbody tr th {\n",
       "        vertical-align: top;\n",
       "    }\n",
       "\n",
       "    .dataframe thead th {\n",
       "        text-align: right;\n",
       "    }\n",
       "</style>\n",
       "<table border=\"1\" class=\"dataframe\">\n",
       "  <thead>\n",
       "    <tr style=\"text-align: right;\">\n",
       "      <th></th>\n",
       "      <th>Unnamed: 0</th>\n",
       "      <th>ID</th>\n",
       "      <th>Country of Origin</th>\n",
       "      <th>Farm Name</th>\n",
       "      <th>Lot Number</th>\n",
       "      <th>Mill</th>\n",
       "      <th>ICO Number</th>\n",
       "      <th>Company</th>\n",
       "      <th>Altitude</th>\n",
       "      <th>Region</th>\n",
       "      <th>...</th>\n",
       "      <th>Total Cup Points</th>\n",
       "      <th>Moisture Percentage</th>\n",
       "      <th>Category One Defects</th>\n",
       "      <th>Quakers</th>\n",
       "      <th>Color</th>\n",
       "      <th>Category Two Defects</th>\n",
       "      <th>Expiration</th>\n",
       "      <th>Certification Body</th>\n",
       "      <th>Certification Address</th>\n",
       "      <th>Certification Contact</th>\n",
       "    </tr>\n",
       "  </thead>\n",
       "  <tbody>\n",
       "    <tr>\n",
       "      <th>0</th>\n",
       "      <td>0</td>\n",
       "      <td>0</td>\n",
       "      <td>Colombia</td>\n",
       "      <td>Finca El Paraiso</td>\n",
       "      <td>CQU2022015</td>\n",
       "      <td>Finca El Paraiso</td>\n",
       "      <td>NaN</td>\n",
       "      <td>Coffee Quality Union</td>\n",
       "      <td>1700-1930</td>\n",
       "      <td>Piendamo,Cauca</td>\n",
       "      <td>...</td>\n",
       "      <td>89.33</td>\n",
       "      <td>11.8</td>\n",
       "      <td>0</td>\n",
       "      <td>0</td>\n",
       "      <td>green</td>\n",
       "      <td>3</td>\n",
       "      <td>September 21st, 2023</td>\n",
       "      <td>Japan Coffee Exchange</td>\n",
       "      <td>〒413-0002 静岡県熱海市伊豆山１１７３−５８ 1173-58 Izusan, Ata...</td>\n",
       "      <td>松澤　宏樹　Koju Matsuzawa - +81(0)9085642901</td>\n",
       "    </tr>\n",
       "    <tr>\n",
       "      <th>1</th>\n",
       "      <td>1</td>\n",
       "      <td>1</td>\n",
       "      <td>Taiwan</td>\n",
       "      <td>Royal Bean Geisha Estate</td>\n",
       "      <td>The 2022 Pacific Rim Coffee Summit,T037</td>\n",
       "      <td>Royal Bean Geisha Estate</td>\n",
       "      <td>NaN</td>\n",
       "      <td>Taiwan Coffee Laboratory</td>\n",
       "      <td>1200</td>\n",
       "      <td>Chiayi</td>\n",
       "      <td>...</td>\n",
       "      <td>87.58</td>\n",
       "      <td>10.5</td>\n",
       "      <td>0</td>\n",
       "      <td>0</td>\n",
       "      <td>blue-green</td>\n",
       "      <td>0</td>\n",
       "      <td>November 15th, 2023</td>\n",
       "      <td>Taiwan Coffee Laboratory 台灣咖啡研究室</td>\n",
       "      <td>QAHWAH CO., LTD 4F, No. 225, Sec. 3, Beixin Rd...</td>\n",
       "      <td>Lin, Jen-An Neil 林仁安 - 886-289116612</td>\n",
       "    </tr>\n",
       "    <tr>\n",
       "      <th>2</th>\n",
       "      <td>2</td>\n",
       "      <td>2</td>\n",
       "      <td>Laos</td>\n",
       "      <td>OKLAO coffee farms</td>\n",
       "      <td>The 2022 Pacific Rim Coffee Summit,LA01</td>\n",
       "      <td>oklao coffee processing plant</td>\n",
       "      <td>NaN</td>\n",
       "      <td>Taiwan Coffee Laboratory</td>\n",
       "      <td>1300</td>\n",
       "      <td>Laos Borofen Plateau</td>\n",
       "      <td>...</td>\n",
       "      <td>87.42</td>\n",
       "      <td>10.4</td>\n",
       "      <td>0</td>\n",
       "      <td>0</td>\n",
       "      <td>yellowish</td>\n",
       "      <td>2</td>\n",
       "      <td>November 15th, 2023</td>\n",
       "      <td>Taiwan Coffee Laboratory 台灣咖啡研究室</td>\n",
       "      <td>QAHWAH CO., LTD 4F, No. 225, Sec. 3, Beixin Rd...</td>\n",
       "      <td>Lin, Jen-An Neil 林仁安 - 886-289116612</td>\n",
       "    </tr>\n",
       "    <tr>\n",
       "      <th>3</th>\n",
       "      <td>3</td>\n",
       "      <td>3</td>\n",
       "      <td>Costa Rica</td>\n",
       "      <td>La Cumbre</td>\n",
       "      <td>CQU2022017</td>\n",
       "      <td>La Montana Tarrazu MIll</td>\n",
       "      <td>NaN</td>\n",
       "      <td>Coffee Quality Union</td>\n",
       "      <td>1900</td>\n",
       "      <td>Los Santos,Tarrazu</td>\n",
       "      <td>...</td>\n",
       "      <td>87.17</td>\n",
       "      <td>11.8</td>\n",
       "      <td>0</td>\n",
       "      <td>0</td>\n",
       "      <td>green</td>\n",
       "      <td>0</td>\n",
       "      <td>September 21st, 2023</td>\n",
       "      <td>Japan Coffee Exchange</td>\n",
       "      <td>〒413-0002 静岡県熱海市伊豆山１１７３−５８ 1173-58 Izusan, Ata...</td>\n",
       "      <td>松澤　宏樹　Koju Matsuzawa - +81(0)9085642901</td>\n",
       "    </tr>\n",
       "    <tr>\n",
       "      <th>4</th>\n",
       "      <td>4</td>\n",
       "      <td>4</td>\n",
       "      <td>Colombia</td>\n",
       "      <td>Finca Santuario</td>\n",
       "      <td>CQU2023002</td>\n",
       "      <td>Finca Santuario</td>\n",
       "      <td>NaN</td>\n",
       "      <td>Coffee Quality Union</td>\n",
       "      <td>1850-2100</td>\n",
       "      <td>Popayan,Cauca</td>\n",
       "      <td>...</td>\n",
       "      <td>87.08</td>\n",
       "      <td>11.6</td>\n",
       "      <td>0</td>\n",
       "      <td>2</td>\n",
       "      <td>yellow-green</td>\n",
       "      <td>2</td>\n",
       "      <td>March 5th, 2024</td>\n",
       "      <td>Japan Coffee Exchange</td>\n",
       "      <td>〒413-0002 静岡県熱海市伊豆山１１７３−５８ 1173-58 Izusan, Ata...</td>\n",
       "      <td>松澤　宏樹　Koju Matsuzawa - +81(0)9085642901</td>\n",
       "    </tr>\n",
       "  </tbody>\n",
       "</table>\n",
       "<p>5 rows × 41 columns</p>\n",
       "</div>"
      ],
      "text/plain": [
       "   Unnamed: 0  ID Country of Origin                 Farm Name  \\\n",
       "0           0   0          Colombia          Finca El Paraiso   \n",
       "1           1   1            Taiwan  Royal Bean Geisha Estate   \n",
       "2           2   2              Laos        OKLAO coffee farms   \n",
       "3           3   3        Costa Rica                 La Cumbre   \n",
       "4           4   4          Colombia           Finca Santuario   \n",
       "\n",
       "                                Lot Number                           Mill  \\\n",
       "0                               CQU2022015               Finca El Paraiso   \n",
       "1  The 2022 Pacific Rim Coffee Summit,T037       Royal Bean Geisha Estate   \n",
       "2  The 2022 Pacific Rim Coffee Summit,LA01  oklao coffee processing plant   \n",
       "3                               CQU2022017        La Montana Tarrazu MIll   \n",
       "4                               CQU2023002                Finca Santuario   \n",
       "\n",
       "  ICO Number                   Company   Altitude                Region  ...  \\\n",
       "0        NaN      Coffee Quality Union  1700-1930        Piendamo,Cauca  ...   \n",
       "1        NaN  Taiwan Coffee Laboratory       1200                Chiayi  ...   \n",
       "2        NaN  Taiwan Coffee Laboratory       1300  Laos Borofen Plateau  ...   \n",
       "3        NaN      Coffee Quality Union       1900    Los Santos,Tarrazu  ...   \n",
       "4        NaN      Coffee Quality Union  1850-2100         Popayan,Cauca  ...   \n",
       "\n",
       "  Total Cup Points  Moisture Percentage Category One Defects Quakers  \\\n",
       "0            89.33                 11.8                    0       0   \n",
       "1            87.58                 10.5                    0       0   \n",
       "2            87.42                 10.4                    0       0   \n",
       "3            87.17                 11.8                    0       0   \n",
       "4            87.08                 11.6                    0       2   \n",
       "\n",
       "          Color Category Two Defects            Expiration  \\\n",
       "0         green                    3  September 21st, 2023   \n",
       "1    blue-green                    0   November 15th, 2023   \n",
       "2     yellowish                    2   November 15th, 2023   \n",
       "3         green                    0  September 21st, 2023   \n",
       "4  yellow-green                    2       March 5th, 2024   \n",
       "\n",
       "                 Certification Body  \\\n",
       "0             Japan Coffee Exchange   \n",
       "1  Taiwan Coffee Laboratory 台灣咖啡研究室   \n",
       "2  Taiwan Coffee Laboratory 台灣咖啡研究室   \n",
       "3             Japan Coffee Exchange   \n",
       "4             Japan Coffee Exchange   \n",
       "\n",
       "                               Certification Address  \\\n",
       "0  〒413-0002 静岡県熱海市伊豆山１１７３−５８ 1173-58 Izusan, Ata...   \n",
       "1  QAHWAH CO., LTD 4F, No. 225, Sec. 3, Beixin Rd...   \n",
       "2  QAHWAH CO., LTD 4F, No. 225, Sec. 3, Beixin Rd...   \n",
       "3  〒413-0002 静岡県熱海市伊豆山１１７３−５８ 1173-58 Izusan, Ata...   \n",
       "4  〒413-0002 静岡県熱海市伊豆山１１７３−５８ 1173-58 Izusan, Ata...   \n",
       "\n",
       "                     Certification Contact  \n",
       "0  松澤　宏樹　Koju Matsuzawa - +81(0)9085642901  \n",
       "1     Lin, Jen-An Neil 林仁安 - 886-289116612  \n",
       "2     Lin, Jen-An Neil 林仁安 - 886-289116612  \n",
       "3  松澤　宏樹　Koju Matsuzawa - +81(0)9085642901  \n",
       "4  松澤　宏樹　Koju Matsuzawa - +81(0)9085642901  \n",
       "\n",
       "[5 rows x 41 columns]"
      ]
     },
     "execution_count": 24,
     "metadata": {},
     "output_type": "execute_result"
    }
   ],
   "source": [
    "# Import the dataset from a CSV file\n",
    "original_dataset = pd.read_csv('df_arabica_clean.csv')\n",
    "\n",
    "# Display the first few rows of the dataset to understand its structure\n",
    "print(bold_text(\"First few rows of the dataset:\"))\n",
    "original_dataset.head()"
   ]
  },
  {
   "cell_type": "code",
   "execution_count": 25,
   "id": "a5f8ae1d",
   "metadata": {},
   "outputs": [
    {
     "name": "stdout",
     "output_type": "stream",
     "text": [
      "Index(['Unnamed: 0', 'ID', 'Country of Origin', 'Farm Name', 'Lot Number',\n",
      "       'Mill', 'ICO Number', 'Company', 'Altitude', 'Region', 'Producer',\n",
      "       'Number of Bags', 'Bag Weight', 'In-Country Partner', 'Harvest Year',\n",
      "       'Grading Date', 'Owner', 'Variety', 'Status', 'Processing Method',\n",
      "       'Aroma', 'Flavor', 'Aftertaste', 'Acidity', 'Body', 'Balance',\n",
      "       'Uniformity', 'Clean Cup', 'Sweetness', 'Overall', 'Defects',\n",
      "       'Total Cup Points', 'Moisture Percentage', 'Category One Defects',\n",
      "       'Quakers', 'Color', 'Category Two Defects', 'Expiration',\n",
      "       'Certification Body', 'Certification Address', 'Certification Contact'],\n",
      "      dtype='object')\n"
     ]
    }
   ],
   "source": [
    "# Display all the columns in this data set\n",
    "print(original_dataset.keys())"
   ]
  },
  {
   "cell_type": "code",
   "execution_count": 26,
   "id": "8fc2cbd8",
   "metadata": {},
   "outputs": [
    {
     "name": "stdout",
     "output_type": "stream",
     "text": [
      "\u001b[1mStatistical summary of the dataset:\u001b[0m\n"
     ]
    },
    {
     "data": {
      "text/html": [
       "<div>\n",
       "<style scoped>\n",
       "    .dataframe tbody tr th:only-of-type {\n",
       "        vertical-align: middle;\n",
       "    }\n",
       "\n",
       "    .dataframe tbody tr th {\n",
       "        vertical-align: top;\n",
       "    }\n",
       "\n",
       "    .dataframe thead th {\n",
       "        text-align: right;\n",
       "    }\n",
       "</style>\n",
       "<table border=\"1\" class=\"dataframe\">\n",
       "  <thead>\n",
       "    <tr style=\"text-align: right;\">\n",
       "      <th></th>\n",
       "      <th>Unnamed: 0</th>\n",
       "      <th>ID</th>\n",
       "      <th>Number of Bags</th>\n",
       "      <th>Aroma</th>\n",
       "      <th>Flavor</th>\n",
       "      <th>Aftertaste</th>\n",
       "      <th>Acidity</th>\n",
       "      <th>Body</th>\n",
       "      <th>Balance</th>\n",
       "      <th>Uniformity</th>\n",
       "      <th>Clean Cup</th>\n",
       "      <th>Sweetness</th>\n",
       "      <th>Overall</th>\n",
       "      <th>Defects</th>\n",
       "      <th>Total Cup Points</th>\n",
       "      <th>Moisture Percentage</th>\n",
       "      <th>Category One Defects</th>\n",
       "      <th>Quakers</th>\n",
       "      <th>Category Two Defects</th>\n",
       "    </tr>\n",
       "  </thead>\n",
       "  <tbody>\n",
       "    <tr>\n",
       "      <th>count</th>\n",
       "      <td>207.000000</td>\n",
       "      <td>207.000000</td>\n",
       "      <td>207.000000</td>\n",
       "      <td>207.000000</td>\n",
       "      <td>207.000000</td>\n",
       "      <td>207.000000</td>\n",
       "      <td>207.00000</td>\n",
       "      <td>207.000000</td>\n",
       "      <td>207.000000</td>\n",
       "      <td>207.000000</td>\n",
       "      <td>207.0</td>\n",
       "      <td>207.0</td>\n",
       "      <td>207.000000</td>\n",
       "      <td>207.0</td>\n",
       "      <td>207.000000</td>\n",
       "      <td>207.000000</td>\n",
       "      <td>207.000000</td>\n",
       "      <td>207.000000</td>\n",
       "      <td>207.000000</td>\n",
       "    </tr>\n",
       "    <tr>\n",
       "      <th>mean</th>\n",
       "      <td>103.000000</td>\n",
       "      <td>103.000000</td>\n",
       "      <td>155.449275</td>\n",
       "      <td>7.721063</td>\n",
       "      <td>7.744734</td>\n",
       "      <td>7.599758</td>\n",
       "      <td>7.69029</td>\n",
       "      <td>7.640918</td>\n",
       "      <td>7.644058</td>\n",
       "      <td>9.990338</td>\n",
       "      <td>10.0</td>\n",
       "      <td>10.0</td>\n",
       "      <td>7.676812</td>\n",
       "      <td>0.0</td>\n",
       "      <td>83.706570</td>\n",
       "      <td>10.735266</td>\n",
       "      <td>0.135266</td>\n",
       "      <td>0.690821</td>\n",
       "      <td>2.251208</td>\n",
       "    </tr>\n",
       "    <tr>\n",
       "      <th>std</th>\n",
       "      <td>59.899917</td>\n",
       "      <td>59.899917</td>\n",
       "      <td>244.484868</td>\n",
       "      <td>0.287626</td>\n",
       "      <td>0.279613</td>\n",
       "      <td>0.275911</td>\n",
       "      <td>0.25951</td>\n",
       "      <td>0.233499</td>\n",
       "      <td>0.256299</td>\n",
       "      <td>0.103306</td>\n",
       "      <td>0.0</td>\n",
       "      <td>0.0</td>\n",
       "      <td>0.306359</td>\n",
       "      <td>0.0</td>\n",
       "      <td>1.730417</td>\n",
       "      <td>1.247468</td>\n",
       "      <td>0.592070</td>\n",
       "      <td>1.686918</td>\n",
       "      <td>2.950183</td>\n",
       "    </tr>\n",
       "    <tr>\n",
       "      <th>min</th>\n",
       "      <td>0.000000</td>\n",
       "      <td>0.000000</td>\n",
       "      <td>1.000000</td>\n",
       "      <td>6.500000</td>\n",
       "      <td>6.750000</td>\n",
       "      <td>6.670000</td>\n",
       "      <td>6.83000</td>\n",
       "      <td>6.830000</td>\n",
       "      <td>6.670000</td>\n",
       "      <td>8.670000</td>\n",
       "      <td>10.0</td>\n",
       "      <td>10.0</td>\n",
       "      <td>6.670000</td>\n",
       "      <td>0.0</td>\n",
       "      <td>78.000000</td>\n",
       "      <td>0.000000</td>\n",
       "      <td>0.000000</td>\n",
       "      <td>0.000000</td>\n",
       "      <td>0.000000</td>\n",
       "    </tr>\n",
       "    <tr>\n",
       "      <th>25%</th>\n",
       "      <td>51.500000</td>\n",
       "      <td>51.500000</td>\n",
       "      <td>1.000000</td>\n",
       "      <td>7.580000</td>\n",
       "      <td>7.580000</td>\n",
       "      <td>7.420000</td>\n",
       "      <td>7.50000</td>\n",
       "      <td>7.500000</td>\n",
       "      <td>7.500000</td>\n",
       "      <td>10.000000</td>\n",
       "      <td>10.0</td>\n",
       "      <td>10.0</td>\n",
       "      <td>7.500000</td>\n",
       "      <td>0.0</td>\n",
       "      <td>82.580000</td>\n",
       "      <td>10.100000</td>\n",
       "      <td>0.000000</td>\n",
       "      <td>0.000000</td>\n",
       "      <td>0.000000</td>\n",
       "    </tr>\n",
       "    <tr>\n",
       "      <th>50%</th>\n",
       "      <td>103.000000</td>\n",
       "      <td>103.000000</td>\n",
       "      <td>14.000000</td>\n",
       "      <td>7.670000</td>\n",
       "      <td>7.750000</td>\n",
       "      <td>7.580000</td>\n",
       "      <td>7.67000</td>\n",
       "      <td>7.670000</td>\n",
       "      <td>7.670000</td>\n",
       "      <td>10.000000</td>\n",
       "      <td>10.0</td>\n",
       "      <td>10.0</td>\n",
       "      <td>7.670000</td>\n",
       "      <td>0.0</td>\n",
       "      <td>83.750000</td>\n",
       "      <td>10.800000</td>\n",
       "      <td>0.000000</td>\n",
       "      <td>0.000000</td>\n",
       "      <td>1.000000</td>\n",
       "    </tr>\n",
       "    <tr>\n",
       "      <th>75%</th>\n",
       "      <td>154.500000</td>\n",
       "      <td>154.500000</td>\n",
       "      <td>275.000000</td>\n",
       "      <td>7.920000</td>\n",
       "      <td>7.920000</td>\n",
       "      <td>7.750000</td>\n",
       "      <td>7.87500</td>\n",
       "      <td>7.750000</td>\n",
       "      <td>7.790000</td>\n",
       "      <td>10.000000</td>\n",
       "      <td>10.0</td>\n",
       "      <td>10.0</td>\n",
       "      <td>7.920000</td>\n",
       "      <td>0.0</td>\n",
       "      <td>84.830000</td>\n",
       "      <td>11.500000</td>\n",
       "      <td>0.000000</td>\n",
       "      <td>1.000000</td>\n",
       "      <td>3.000000</td>\n",
       "    </tr>\n",
       "    <tr>\n",
       "      <th>max</th>\n",
       "      <td>206.000000</td>\n",
       "      <td>206.000000</td>\n",
       "      <td>2240.000000</td>\n",
       "      <td>8.580000</td>\n",
       "      <td>8.500000</td>\n",
       "      <td>8.420000</td>\n",
       "      <td>8.58000</td>\n",
       "      <td>8.250000</td>\n",
       "      <td>8.420000</td>\n",
       "      <td>10.000000</td>\n",
       "      <td>10.0</td>\n",
       "      <td>10.0</td>\n",
       "      <td>8.580000</td>\n",
       "      <td>0.0</td>\n",
       "      <td>89.330000</td>\n",
       "      <td>13.500000</td>\n",
       "      <td>5.000000</td>\n",
       "      <td>12.000000</td>\n",
       "      <td>16.000000</td>\n",
       "    </tr>\n",
       "  </tbody>\n",
       "</table>\n",
       "</div>"
      ],
      "text/plain": [
       "       Unnamed: 0          ID  Number of Bags       Aroma      Flavor  \\\n",
       "count  207.000000  207.000000      207.000000  207.000000  207.000000   \n",
       "mean   103.000000  103.000000      155.449275    7.721063    7.744734   \n",
       "std     59.899917   59.899917      244.484868    0.287626    0.279613   \n",
       "min      0.000000    0.000000        1.000000    6.500000    6.750000   \n",
       "25%     51.500000   51.500000        1.000000    7.580000    7.580000   \n",
       "50%    103.000000  103.000000       14.000000    7.670000    7.750000   \n",
       "75%    154.500000  154.500000      275.000000    7.920000    7.920000   \n",
       "max    206.000000  206.000000     2240.000000    8.580000    8.500000   \n",
       "\n",
       "       Aftertaste    Acidity        Body     Balance  Uniformity  Clean Cup  \\\n",
       "count  207.000000  207.00000  207.000000  207.000000  207.000000      207.0   \n",
       "mean     7.599758    7.69029    7.640918    7.644058    9.990338       10.0   \n",
       "std      0.275911    0.25951    0.233499    0.256299    0.103306        0.0   \n",
       "min      6.670000    6.83000    6.830000    6.670000    8.670000       10.0   \n",
       "25%      7.420000    7.50000    7.500000    7.500000   10.000000       10.0   \n",
       "50%      7.580000    7.67000    7.670000    7.670000   10.000000       10.0   \n",
       "75%      7.750000    7.87500    7.750000    7.790000   10.000000       10.0   \n",
       "max      8.420000    8.58000    8.250000    8.420000   10.000000       10.0   \n",
       "\n",
       "       Sweetness     Overall  Defects  Total Cup Points  Moisture Percentage  \\\n",
       "count      207.0  207.000000    207.0        207.000000           207.000000   \n",
       "mean        10.0    7.676812      0.0         83.706570            10.735266   \n",
       "std          0.0    0.306359      0.0          1.730417             1.247468   \n",
       "min         10.0    6.670000      0.0         78.000000             0.000000   \n",
       "25%         10.0    7.500000      0.0         82.580000            10.100000   \n",
       "50%         10.0    7.670000      0.0         83.750000            10.800000   \n",
       "75%         10.0    7.920000      0.0         84.830000            11.500000   \n",
       "max         10.0    8.580000      0.0         89.330000            13.500000   \n",
       "\n",
       "       Category One Defects     Quakers  Category Two Defects  \n",
       "count            207.000000  207.000000            207.000000  \n",
       "mean               0.135266    0.690821              2.251208  \n",
       "std                0.592070    1.686918              2.950183  \n",
       "min                0.000000    0.000000              0.000000  \n",
       "25%                0.000000    0.000000              0.000000  \n",
       "50%                0.000000    0.000000              1.000000  \n",
       "75%                0.000000    1.000000              3.000000  \n",
       "max                5.000000   12.000000             16.000000  "
      ]
     },
     "execution_count": 26,
     "metadata": {},
     "output_type": "execute_result"
    }
   ],
   "source": [
    "print(bold_text(\"Statistical summary of the dataset:\"))\n",
    "original_dataset.describe()"
   ]
  },
  {
   "cell_type": "code",
   "execution_count": 27,
   "id": "ce1f18be",
   "metadata": {},
   "outputs": [
    {
     "name": "stdout",
     "output_type": "stream",
     "text": [
      "\u001b[1mOriginal Dataset Row Count:\u001b[0m 207\n",
      "\u001b[1mTotal of NaN values:\u001b[0m 153\n",
      "NaN Value\n"
     ]
    },
    {
     "data": {
      "text/plain": [
       "Unnamed: 0                 0\n",
       "ID                         0\n",
       "Country of Origin          0\n",
       "Farm Name                  2\n",
       "Lot Number                 1\n",
       "Mill                       3\n",
       "ICO Number               132\n",
       "Company                    0\n",
       "Altitude                   1\n",
       "Region                     2\n",
       "Producer                   1\n",
       "Number of Bags             0\n",
       "Bag Weight                 0\n",
       "In-Country Partner         0\n",
       "Harvest Year               0\n",
       "Grading Date               0\n",
       "Owner                      0\n",
       "Variety                    6\n",
       "Status                     0\n",
       "Processing Method          5\n",
       "Aroma                      0\n",
       "Flavor                     0\n",
       "Aftertaste                 0\n",
       "Acidity                    0\n",
       "Body                       0\n",
       "Balance                    0\n",
       "Uniformity                 0\n",
       "Clean Cup                  0\n",
       "Sweetness                  0\n",
       "Overall                    0\n",
       "Defects                    0\n",
       "Total Cup Points           0\n",
       "Moisture Percentage        0\n",
       "Category One Defects       0\n",
       "Quakers                    0\n",
       "Color                      0\n",
       "Category Two Defects       0\n",
       "Expiration                 0\n",
       "Certification Body         0\n",
       "Certification Address      0\n",
       "Certification Contact      0\n",
       "dtype: int64"
      ]
     },
     "execution_count": 27,
     "metadata": {},
     "output_type": "execute_result"
    }
   ],
   "source": [
    "#check if there any null values in data set\n",
    "\n",
    "nan_values = original_dataset.isnull().sum()\n",
    "nan_count = original_dataset.isnull().sum().sum()\n",
    "original_dataset_length = len(original_dataset)\n",
    "print(bold_text('Original Dataset Row Count:'), original_dataset_length)\n",
    "print(bold_text('Total of NaN values:'), nan_count)\n",
    "\n",
    "# Display NaN values per column for detailed analysis\n",
    "print(\"NaN Value\")\n",
    "nan_values"
   ]
  },
  {
   "cell_type": "markdown",
   "id": "25a7ab02",
   "metadata": {},
   "source": [
    "<strong>As shown above, the \"ICO Number\" column contains 132 null values, which are too many and difficult to handle. Therefore, the author chose to drop the column because it will not be used for analysis.</strong>"
   ]
  },
  {
   "cell_type": "code",
   "execution_count": 28,
   "id": "118c1096",
   "metadata": {},
   "outputs": [
    {
     "name": "stdout",
     "output_type": "stream",
     "text": [
      "\u001b[1mBest Coffee Combination:\u001b[0m\n",
      "\u001b[1mCompany:\u001b[0m Coffee Quality Union\n",
      "\u001b[1mVariety:\u001b[0m Castillo\n",
      "\u001b[1mCountry of Origin:\u001b[0m Colombia\n",
      "\u001b[1mFarm Name:\u001b[0m Finca El Paraiso\n",
      "\u001b[1mProcessing Method:\u001b[0m Double Anaerobic Washed\n"
     ]
    }
   ],
   "source": [
    "# Since the columns that impact coffee quality do not contain null values,\n",
    "# the author decided to determine the optimal coffee combination using mean values.\n",
    "\n",
    "quality_factors = ['Flavor', 'Aroma', 'Aftertaste', 'Acidity', 'Body', 'Balance',\n",
    "                   'Uniformity', 'Sweetness', 'Overall']\n",
    "\n",
    "# Calculate the average quality score for each row in the dataset\n",
    "original_dataset['Average Quality Score'] = original_dataset[quality_factors].mean(axis=1)\n",
    "\n",
    "# Identify the row with the highest average quality score\n",
    "highest_score_row = original_dataset.loc[original_dataset['Average Quality Score'].idxmax()]\n",
    "\n",
    "# Extract details of the coffee with the highest score\n",
    "top_coffee_details = highest_score_row[['Company', 'Variety', 'Country of Origin', 'Farm Name', 'Processing Method']]\n",
    "\n",
    "# Display the details of the best coffee combination\n",
    "print(bold_text(\"Best Coffee Combination:\"))\n",
    "print(bold_text(\"Company:\"), top_coffee_details['Company'])\n",
    "print(bold_text(\"Variety:\"), top_coffee_details['Variety'])\n",
    "print(bold_text(\"Country of Origin:\"), top_coffee_details['Country of Origin'])\n",
    "print(bold_text(\"Farm Name:\"), top_coffee_details['Farm Name'])\n",
    "print(bold_text(\"Processing Method:\"), top_coffee_details['Processing Method'])\n"
   ]
  },
  {
   "cell_type": "markdown",
   "id": "9a8e2264",
   "metadata": {},
   "source": [
    "## Data Visualization Overview\n",
    "\n",
    "Before diving into the visual analysis, it's important to outline the preprocessing steps taken to ensure the integrity and relevance of the data presented. The dataset underwent careful cleaning where irrelevant or incomplete data entries were removed. This process was essential to focus on the most impactful variables that influence coffee quality.\n",
    "\n",
    "The visualizations that follow aim to unearth patterns and insights from the curated dataset, focusing on aspects such as farm distribution by country, top coffee producers, and the correlation between various coffee quality attributes. These visuals not only enhance our understanding of the data at a glance but also aid in making informed decisions and predictions about coffee quality. Here are the detailed visualizations based on the refined dataset:\n"
   ]
  },
  {
   "cell_type": "code",
   "execution_count": 29,
   "id": "be66cbe1",
   "metadata": {},
   "outputs": [
    {
     "data": {
      "image/png": "[encoded data removed]",
      "text/plain": [
       "<Figure size 1000x500 with 1 Axes>"
      ]
     },
     "metadata": {},
     "output_type": "display_data"
    }
   ],
   "source": [
    "plt.figure(figsize=(10, 5))\n",
    "sns.countplot(data=original_dataset, y='Country of Origin', order=original_dataset['Country of Origin'].value_counts().index)\n",
    "plt.xlabel('Number of Farms')\n",
    "plt.ylabel('Country')\n",
    "plt.title('Number of Farms by Country')\n",
    "plt.show()"
   ]
  },
  {
   "cell_type": "markdown",
   "id": "e765148e",
   "metadata": {},
   "source": [
    "This bar graph displays the number of coffee farms in various countries. <strong>Taiwan has the highest number of farms</strong> , shown by the longest bar, followed by Guatemala and Colombia. The bars represent the number of farms in descending order, with countries like Myanmar and Madagascar having the fewest. This visualization helps us understand where coffee production is most concentrated globally by showing the number of farms per country."
   ]
  },
  {
   "cell_type": "code",
   "execution_count": 47,
   "id": "348ccb8c",
   "metadata": {},
   "outputs": [
    {
     "data": {
      "application/vnd.plotly.v1+json": {
       "config": {
        "plotlyServerURL": "https://plot.ly"
       },
       "data": [
        {
         "alignmentgroup": "True",
         "hovertemplate": "Producer=%{x}<br>Number of Farms=%{y}<extra></extra>",
         "legendgroup": "",
         "marker": {
          "color": "#636efa",
          "pattern": {
           "shape": ""
          }
         },
         "name": "",
         "offsetgroup": "",
         "orientation": "v",
         "showlegend": false,
         "textposition": "auto",
         "type": "bar",
         "x": [
          "Doi Tung Development Project",
          "Fausto Nahun Maldonado",
          "Martin Gutierrez",
          "J.J. Borja Nathan, S.A.",
          "Roselia Yglesias",
          "Jose Nahum Maldonado",
          "Santa Maria de Dota",
          "Varios Productores",
          "comsa",
          "VALBROS, S. A.",
          "san francisco cotzal",
          "YHAENU PLC",
          "Bisrat Melaku",
          "varios productores",
          "DORMAN (T) LIMITED",
          "張進義Zhang Jin-Yi",
          "Sandro Crispin Espiritu",
          "Omar Acosta",
          "various producers",
          "Cafetalera Paquim, S.A."
         ],
         "xaxis": "x",
         "y": [
          7,
          3,
          3,
          3,
          3,
          2,
          2,
          2,
          2,
          2,
          2,
          2,
          2,
          2,
          2,
          2,
          2,
          2,
          2,
          2
         ],
         "yaxis": "y"
        }
       ],
       "layout": {
        "barmode": "relative",
        "legend": {
         "tracegroupgap": 0
        },
        "template": {
         "data": {
          "bar": [
           {
            "error_x": {
             "color": "#2a3f5f"
            },
            "error_y": {
             "color": "#2a3f5f"
            },
            "marker": {
             "line": {
              "color": "#E5ECF6",
              "width": 0.5
             },
             "pattern": {
              "fillmode": "overlay",
              "size": 10,
              "solidity": 0.2
             }
            },
            "type": "bar"
           }
          ],
          "barpolar": [
           {
            "marker": {
             "line": {
              "color": "#E5ECF6",
              "width": 0.5
             },
             "pattern": {
              "fillmode": "overlay",
              "size": 10,
              "solidity": 0.2
             }
            },
            "type": "barpolar"
           }
          ],
          "carpet": [
           {
            "aaxis": {
             "endlinecolor": "#2a3f5f",
             "gridcolor": "white",
             "linecolor": "white",
             "minorgridcolor": "white",
             "startlinecolor": "#2a3f5f"
            },
            "baxis": {
             "endlinecolor": "#2a3f5f",
             "gridcolor": "white",
             "linecolor": "white",
             "minorgridcolor": "white",
             "startlinecolor": "#2a3f5f"
            },
            "type": "carpet"
           }
          ],
          "choropleth": [
           {
            "colorbar": {
             "outlinewidth": 0,
             "ticks": ""
            },
            "type": "choropleth"
           }
          ],
          "contour": [
           {
            "colorbar": {
             "outlinewidth": 0,
             "ticks": ""
            },
            "colorscale": [
             [
              0,
              "#0d0887"
             ],
             [
              0.1111111111111111,
              "#46039f"
             ],
             [
              0.2222222222222222,
              "#7201a8"
             ],
             [
              0.3333333333333333,
              "#9c179e"
             ],
             [
              0.4444444444444444,
              "#bd3786"
             ],
             [
              0.5555555555555556,
              "#d8576b"
             ],
             [
              0.6666666666666666,
              "#ed7953"
             ],
             [
              0.7777777777777778,
              "#fb9f3a"
             ],
             [
              0.8888888888888888,
              "#fdca26"
             ],
             [
              1,
              "#f0f921"
             ]
            ],
            "type": "contour"
           }
          ],
          "contourcarpet": [
           {
            "colorbar": {
             "outlinewidth": 0,
             "ticks": ""
            },
            "type": "contourcarpet"
           }
          ],
          "heatmap": [
           {
            "colorbar": {
             "outlinewidth": 0,
             "ticks": ""
            },
            "colorscale": [
             [
              0,
              "#0d0887"
             ],
             [
              0.1111111111111111,
              "#46039f"
             ],
             [
              0.2222222222222222,
              "#7201a8"
             ],
             [
              0.3333333333333333,
              "#9c179e"
             ],
             [
              0.4444444444444444,
              "#bd3786"
             ],
             [
              0.5555555555555556,
              "#d8576b"
             ],
             [
              0.6666666666666666,
              "#ed7953"
             ],
             [
              0.7777777777777778,
              "#fb9f3a"
             ],
             [
              0.8888888888888888,
              "#fdca26"
             ],
             [
              1,
              "#f0f921"
             ]
            ],
            "type": "heatmap"
           }
          ],
          "heatmapgl": [
           {
            "colorbar": {
             "outlinewidth": 0,
             "ticks": ""
            },
            "colorscale": [
             [
              0,
              "#0d0887"
             ],
             [
              0.1111111111111111,
              "#46039f"
             ],
             [
              0.2222222222222222,
              "#7201a8"
             ],
             [
              0.3333333333333333,
              "#9c179e"
             ],
             [
              0.4444444444444444,
              "#bd3786"
             ],
             [
              0.5555555555555556,
              "#d8576b"
             ],
             [
              0.6666666666666666,
              "#ed7953"
             ],
             [
              0.7777777777777778,
              "#fb9f3a"
             ],
             [
              0.8888888888888888,
              "#fdca26"
             ],
             [
              1,
              "#f0f921"
             ]
            ],
            "type": "heatmapgl"
           }
          ],
          "histogram": [
           {
            "marker": {
             "pattern": {
              "fillmode": "overlay",
              "size": 10,
              "solidity": 0.2
             }
            },
            "type": "histogram"
           }
          ],
          "histogram2d": [
           {
            "colorbar": {
             "outlinewidth": 0,
             "ticks": ""
            },
            "colorscale": [
             [
              0,
              "#0d0887"
             ],
             [
              0.1111111111111111,
              "#46039f"
             ],
             [
              0.2222222222222222,
              "#7201a8"
             ],
             [
              0.3333333333333333,
              "#9c179e"
             ],
             [
              0.4444444444444444,
              "#bd3786"
             ],
             [
              0.5555555555555556,
              "#d8576b"
             ],
             [
              0.6666666666666666,
              "#ed7953"
             ],
             [
              0.7777777777777778,
              "#fb9f3a"
             ],
             [
              0.8888888888888888,
              "#fdca26"
             ],
             [
              1,
              "#f0f921"
             ]
            ],
            "type": "histogram2d"
           }
          ],
          "histogram2dcontour": [
           {
            "colorbar": {
             "outlinewidth": 0,
             "ticks": ""
            },
            "colorscale": [
             [
              0,
              "#0d0887"
             ],
             [
              0.1111111111111111,
              "#46039f"
             ],
             [
              0.2222222222222222,
              "#7201a8"
             ],
             [
              0.3333333333333333,
              "#9c179e"
             ],
             [
              0.4444444444444444,
              "#bd3786"
             ],
             [
              0.5555555555555556,
              "#d8576b"
             ],
             [
              0.6666666666666666,
              "#ed7953"
             ],
             [
              0.7777777777777778,
              "#fb9f3a"
             ],
             [
              0.8888888888888888,
              "#fdca26"
             ],
             [
              1,
              "#f0f921"
             ]
            ],
            "type": "histogram2dcontour"
           }
          ],
          "mesh3d": [
           {
            "colorbar": {
             "outlinewidth": 0,
             "ticks": ""
            },
            "type": "mesh3d"
           }
          ],
          "parcoords": [
           {
            "line": {
             "colorbar": {
              "outlinewidth": 0,
              "ticks": ""
             }
            },
            "type": "parcoords"
           }
          ],
          "pie": [
           {
            "automargin": true,
            "type": "pie"
           }
          ],
          "scatter": [
           {
            "fillpattern": {
             "fillmode": "overlay",
             "size": 10,
             "solidity": 0.2
            },
            "type": "scatter"
           }
          ],
          "scatter3d": [
           {
            "line": {
             "colorbar": {
              "outlinewidth": 0,
              "ticks": ""
             }
            },
            "marker": {
             "colorbar": {
              "outlinewidth": 0,
              "ticks": ""
             }
            },
            "type": "scatter3d"
           }
          ],
          "scattercarpet": [
           {
            "marker": {
             "colorbar": {
              "outlinewidth": 0,
              "ticks": ""
             }
            },
            "type": "scattercarpet"
           }
          ],
          "scattergeo": [
           {
            "marker": {
             "colorbar": {
              "outlinewidth": 0,
              "ticks": ""
             }
            },
            "type": "scattergeo"
           }
          ],
          "scattergl": [
           {
            "marker": {
             "colorbar": {
              "outlinewidth": 0,
              "ticks": ""
             }
            },
            "type": "scattergl"
           }
          ],
          "scattermapbox": [
           {
            "marker": {
             "colorbar": {
              "outlinewidth": 0,
              "ticks": ""
             }
            },
            "type": "scattermapbox"
           }
          ],
          "scatterpolar": [
           {
            "marker": {
             "colorbar": {
              "outlinewidth": 0,
              "ticks": ""
             }
            },
            "type": "scatterpolar"
           }
          ],
          "scatterpolargl": [
           {
            "marker": {
             "colorbar": {
              "outlinewidth": 0,
              "ticks": ""
             }
            },
            "type": "scatterpolargl"
           }
          ],
          "scatterternary": [
           {
            "marker": {
             "colorbar": {
              "outlinewidth": 0,
              "ticks": ""
             }
            },
            "type": "scatterternary"
           }
          ],
          "surface": [
           {
            "colorbar": {
             "outlinewidth": 0,
             "ticks": ""
            },
            "colorscale": [
             [
              0,
              "#0d0887"
             ],
             [
              0.1111111111111111,
              "#46039f"
             ],
             [
              0.2222222222222222,
              "#7201a8"
             ],
             [
              0.3333333333333333,
              "#9c179e"
             ],
             [
              0.4444444444444444,
              "#bd3786"
             ],
             [
              0.5555555555555556,
              "#d8576b"
             ],
             [
              0.6666666666666666,
              "#ed7953"
             ],
             [
              0.7777777777777778,
              "#fb9f3a"
             ],
             [
              0.8888888888888888,
              "#fdca26"
             ],
             [
              1,
              "#f0f921"
             ]
            ],
            "type": "surface"
           }
          ],
          "table": [
           {
            "cells": {
             "fill": {
              "color": "#EBF0F8"
             },
             "line": {
              "color": "white"
             }
            },
            "header": {
             "fill": {
              "color": "#C8D4E3"
             },
             "line": {
              "color": "white"
             }
            },
            "type": "table"
           }
          ]
         },
         "layout": {
          "annotationdefaults": {
           "arrowcolor": "#2a3f5f",
           "arrowhead": 0,
           "arrowwidth": 1
          },
          "autotypenumbers": "strict",
          "coloraxis": {
           "colorbar": {
            "outlinewidth": 0,
            "ticks": ""
           }
          },
          "colorscale": {
           "diverging": [
            [
             0,
             "#8e0152"
            ],
            [
             0.1,
             "#c51b7d"
            ],
            [
             0.2,
             "#de77ae"
            ],
            [
             0.3,
             "#f1b6da"
            ],
            [
             0.4,
             "#fde0ef"
            ],
            [
             0.5,
             "#f7f7f7"
            ],
            [
             0.6,
             "#e6f5d0"
            ],
            [
             0.7,
             "#b8e186"
            ],
            [
             0.8,
             "#7fbc41"
            ],
            [
             0.9,
             "#4d9221"
            ],
            [
             1,
             "#276419"
            ]
           ],
           "sequential": [
            [
             0,
             "#0d0887"
            ],
            [
             0.1111111111111111,
             "#46039f"
            ],
            [
             0.2222222222222222,
             "#7201a8"
            ],
            [
             0.3333333333333333,
             "#9c179e"
            ],
            [
             0.4444444444444444,
             "#bd3786"
            ],
            [
             0.5555555555555556,
             "#d8576b"
            ],
            [
             0.6666666666666666,
             "#ed7953"
            ],
            [
             0.7777777777777778,
             "#fb9f3a"
            ],
            [
             0.8888888888888888,
             "#fdca26"
            ],
            [
             1,
             "#f0f921"
            ]
           ],
           "sequentialminus": [
            [
             0,
             "#0d0887"
            ],
            [
             0.1111111111111111,
             "#46039f"
            ],
            [
             0.2222222222222222,
             "#7201a8"
            ],
            [
             0.3333333333333333,
             "#9c179e"
            ],
            [
             0.4444444444444444,
             "#bd3786"
            ],
            [
             0.5555555555555556,
             "#d8576b"
            ],
            [
             0.6666666666666666,
             "#ed7953"
            ],
            [
             0.7777777777777778,
             "#fb9f3a"
            ],
            [
             0.8888888888888888,
             "#fdca26"
            ],
            [
             1,
             "#f0f921"
            ]
           ]
          },
          "colorway": [
           "#636efa",
           "#EF553B",
           "#00cc96",
           "#ab63fa",
           "#FFA15A",
           "#19d3f3",
           "#FF6692",
           "#B6E880",
           "#FF97FF",
           "#FECB52"
          ],
          "font": {
           "color": "#2a3f5f"
          },
          "geo": {
           "bgcolor": "white",
           "lakecolor": "white",
           "landcolor": "#E5ECF6",
           "showlakes": true,
           "showland": true,
           "subunitcolor": "white"
          },
          "hoverlabel": {
           "align": "left"
          },
          "hovermode": "closest",
          "mapbox": {
           "style": "light"
          },
          "paper_bgcolor": "white",
          "plot_bgcolor": "#E5ECF6",
          "polar": {
           "angularaxis": {
            "gridcolor": "white",
            "linecolor": "white",
            "ticks": ""
           },
           "bgcolor": "#E5ECF6",
           "radialaxis": {
            "gridcolor": "white",
            "linecolor": "white",
            "ticks": ""
           }
          },
          "scene": {
           "xaxis": {
            "backgroundcolor": "#E5ECF6",
            "gridcolor": "white",
            "gridwidth": 2,
            "linecolor": "white",
            "showbackground": true,
            "ticks": "",
            "zerolinecolor": "white"
           },
           "yaxis": {
            "backgroundcolor": "#E5ECF6",
            "gridcolor": "white",
            "gridwidth": 2,
            "linecolor": "white",
            "showbackground": true,
            "ticks": "",
            "zerolinecolor": "white"
           },
           "zaxis": {
            "backgroundcolor": "#E5ECF6",
            "gridcolor": "white",
            "gridwidth": 2,
            "linecolor": "white",
            "showbackground": true,
            "ticks": "",
            "zerolinecolor": "white"
           }
          },
          "shapedefaults": {
           "line": {
            "color": "#2a3f5f"
           }
          },
          "ternary": {
           "aaxis": {
            "gridcolor": "white",
            "linecolor": "white",
            "ticks": ""
           },
           "baxis": {
            "gridcolor": "white",
            "linecolor": "white",
            "ticks": ""
           },
           "bgcolor": "#E5ECF6",
           "caxis": {
            "gridcolor": "white",
            "linecolor": "white",
            "ticks": ""
           }
          },
          "title": {
           "x": 0.05
          },
          "xaxis": {
           "automargin": true,
           "gridcolor": "white",
           "linecolor": "white",
           "ticks": "",
           "title": {
            "standoff": 15
           },
           "zerolinecolor": "white",
           "zerolinewidth": 2
          },
          "yaxis": {
           "automargin": true,
           "gridcolor": "white",
           "linecolor": "white",
           "ticks": "",
           "title": {
            "standoff": 15
           },
           "zerolinecolor": "white",
           "zerolinewidth": 2
          }
         }
        },
        "title": {
         "text": "Top Coffee Producers"
        },
        "xaxis": {
         "anchor": "y",
         "domain": [
          0,
          1
         ],
         "title": {
          "text": "Producer"
         }
        },
        "yaxis": {
         "anchor": "x",
         "domain": [
          0,
          1
         ],
         "title": {
          "text": "Number of Farms"
         }
        }
       }
      },
      "text/html": [
       "<div>                            <div id=\"5b2448d6-7606-4ccc-a3f6-be7258ad988b\" class=\"plotly-graph-div\" style=\"height:525px; width:100%;\"></div>            <script type=\"text/javascript\">                require([\"plotly\"], function(Plotly) {                    window.PLOTLYENV=window.PLOTLYENV || {};                                    if (document.getElementById(\"5b2448d6-7606-4ccc-a3f6-be7258ad988b\")) {                    Plotly.newPlot(                        \"5b2448d6-7606-4ccc-a3f6-be7258ad988b\",                        [{\"alignmentgroup\":\"True\",\"hovertemplate\":\"Producer=%{x}<br>Number of Farms=%{y}<extra></extra>\",\"legendgroup\":\"\",\"marker\":{\"color\":\"#636efa\",\"pattern\":{\"shape\":\"\"}},\"name\":\"\",\"offsetgroup\":\"\",\"orientation\":\"v\",\"showlegend\":false,\"textposition\":\"auto\",\"x\":[\"Doi Tung Development Project\",\"Fausto Nahun Maldonado\",\"Martin Gutierrez\",\"J.J. Borja Nathan, S.A.\",\"Roselia Yglesias\",\"Jose Nahum Maldonado\",\"Santa Maria de Dota\",\"Varios Productores\",\"comsa\",\"VALBROS, S. A.\",\"san francisco cotzal\",\"YHAENU PLC\",\"Bisrat Melaku\",\"varios productores\",\"DORMAN (T) LIMITED\",\"\\u5f35\\u9032\\u7fa9Zhang Jin-Yi\",\"Sandro Crispin Espiritu\",\"Omar Acosta\",\"various producers\",\"Cafetalera Paquim, S.A.\"],\"xaxis\":\"x\",\"y\":[7,3,3,3,3,2,2,2,2,2,2,2,2,2,2,2,2,2,2,2],\"yaxis\":\"y\",\"type\":\"bar\"}],                        {\"template\":{\"data\":{\"histogram2dcontour\":[{\"type\":\"histogram2dcontour\",\"colorbar\":{\"outlinewidth\":0,\"ticks\":\"\"},\"colorscale\":[[0.0,\"#0d0887\"],[0.1111111111111111,\"#46039f\"],[0.2222222222222222,\"#7201a8\"],[0.3333333333333333,\"#9c179e\"],[0.4444444444444444,\"#bd3786\"],[0.5555555555555556,\"#d8576b\"],[0.6666666666666666,\"#ed7953\"],[0.7777777777777778,\"#fb9f3a\"],[0.8888888888888888,\"#fdca26\"],[1.0,\"#f0f921\"]]}],\"choropleth\":[{\"type\":\"choropleth\",\"colorbar\":{\"outlinewidth\":0,\"ticks\":\"\"}}],\"histogram2d\":[{\"type\":\"histogram2d\",\"colorbar\":{\"outlinewidth\":0,\"ticks\":\"\"},\"colorscale\":[[0.0,\"#0d0887\"],[0.1111111111111111,\"#46039f\"],[0.2222222222222222,\"#7201a8\"],[0.3333333333333333,\"#9c179e\"],[0.4444444444444444,\"#bd3786\"],[0.5555555555555556,\"#d8576b\"],[0.6666666666666666,\"#ed7953\"],[0.7777777777777778,\"#fb9f3a\"],[0.8888888888888888,\"#fdca26\"],[1.0,\"#f0f921\"]]}],\"heatmap\":[{\"type\":\"heatmap\",\"colorbar\":{\"outlinewidth\":0,\"ticks\":\"\"},\"colorscale\":[[0.0,\"#0d0887\"],[0.1111111111111111,\"#46039f\"],[0.2222222222222222,\"#7201a8\"],[0.3333333333333333,\"#9c179e\"],[0.4444444444444444,\"#bd3786\"],[0.5555555555555556,\"#d8576b\"],[0.6666666666666666,\"#ed7953\"],[0.7777777777777778,\"#fb9f3a\"],[0.8888888888888888,\"#fdca26\"],[1.0,\"#f0f921\"]]}],\"heatmapgl\":[{\"type\":\"heatmapgl\",\"colorbar\":{\"outlinewidth\":0,\"ticks\":\"\"},\"colorscale\":[[0.0,\"#0d0887\"],[0.1111111111111111,\"#46039f\"],[0.2222222222222222,\"#7201a8\"],[0.3333333333333333,\"#9c179e\"],[0.4444444444444444,\"#bd3786\"],[0.5555555555555556,\"#d8576b\"],[0.6666666666666666,\"#ed7953\"],[0.7777777777777778,\"#fb9f3a\"],[0.8888888888888888,\"#fdca26\"],[1.0,\"#f0f921\"]]}],\"contourcarpet\":[{\"type\":\"contourcarpet\",\"colorbar\":{\"outlinewidth\":0,\"ticks\":\"\"}}],\"contour\":[{\"type\":\"contour\",\"colorbar\":{\"outlinewidth\":0,\"ticks\":\"\"},\"colorscale\":[[0.0,\"#0d0887\"],[0.1111111111111111,\"#46039f\"],[0.2222222222222222,\"#7201a8\"],[0.3333333333333333,\"#9c179e\"],[0.4444444444444444,\"#bd3786\"],[0.5555555555555556,\"#d8576b\"],[0.6666666666666666,\"#ed7953\"],[0.7777777777777778,\"#fb9f3a\"],[0.8888888888888888,\"#fdca26\"],[1.0,\"#f0f921\"]]}],\"surface\":[{\"type\":\"surface\",\"colorbar\":{\"outlinewidth\":0,\"ticks\":\"\"},\"colorscale\":[[0.0,\"#0d0887\"],[0.1111111111111111,\"#46039f\"],[0.2222222222222222,\"#7201a8\"],[0.3333333333333333,\"#9c179e\"],[0.4444444444444444,\"#bd3786\"],[0.5555555555555556,\"#d8576b\"],[0.6666666666666666,\"#ed7953\"],[0.7777777777777778,\"#fb9f3a\"],[0.8888888888888888,\"#fdca26\"],[1.0,\"#f0f921\"]]}],\"mesh3d\":[{\"type\":\"mesh3d\",\"colorbar\":{\"outlinewidth\":0,\"ticks\":\"\"}}],\"scatter\":[{\"fillpattern\":{\"fillmode\":\"overlay\",\"size\":10,\"solidity\":0.2},\"type\":\"scatter\"}],\"parcoords\":[{\"type\":\"parcoords\",\"line\":{\"colorbar\":{\"outlinewidth\":0,\"ticks\":\"\"}}}],\"scatterpolargl\":[{\"type\":\"scatterpolargl\",\"marker\":{\"colorbar\":{\"outlinewidth\":0,\"ticks\":\"\"}}}],\"bar\":[{\"error_x\":{\"color\":\"#2a3f5f\"},\"error_y\":{\"color\":\"#2a3f5f\"},\"marker\":{\"line\":{\"color\":\"#E5ECF6\",\"width\":0.5},\"pattern\":{\"fillmode\":\"overlay\",\"size\":10,\"solidity\":0.2}},\"type\":\"bar\"}],\"scattergeo\":[{\"type\":\"scattergeo\",\"marker\":{\"colorbar\":{\"outlinewidth\":0,\"ticks\":\"\"}}}],\"scatterpolar\":[{\"type\":\"scatterpolar\",\"marker\":{\"colorbar\":{\"outlinewidth\":0,\"ticks\":\"\"}}}],\"histogram\":[{\"marker\":{\"pattern\":{\"fillmode\":\"overlay\",\"size\":10,\"solidity\":0.2}},\"type\":\"histogram\"}],\"scattergl\":[{\"type\":\"scattergl\",\"marker\":{\"colorbar\":{\"outlinewidth\":0,\"ticks\":\"\"}}}],\"scatter3d\":[{\"type\":\"scatter3d\",\"line\":{\"colorbar\":{\"outlinewidth\":0,\"ticks\":\"\"}},\"marker\":{\"colorbar\":{\"outlinewidth\":0,\"ticks\":\"\"}}}],\"scattermapbox\":[{\"type\":\"scattermapbox\",\"marker\":{\"colorbar\":{\"outlinewidth\":0,\"ticks\":\"\"}}}],\"scatterternary\":[{\"type\":\"scatterternary\",\"marker\":{\"colorbar\":{\"outlinewidth\":0,\"ticks\":\"\"}}}],\"scattercarpet\":[{\"type\":\"scattercarpet\",\"marker\":{\"colorbar\":{\"outlinewidth\":0,\"ticks\":\"\"}}}],\"carpet\":[{\"aaxis\":{\"endlinecolor\":\"#2a3f5f\",\"gridcolor\":\"white\",\"linecolor\":\"white\",\"minorgridcolor\":\"white\",\"startlinecolor\":\"#2a3f5f\"},\"baxis\":{\"endlinecolor\":\"#2a3f5f\",\"gridcolor\":\"white\",\"linecolor\":\"white\",\"minorgridcolor\":\"white\",\"startlinecolor\":\"#2a3f5f\"},\"type\":\"carpet\"}],\"table\":[{\"cells\":{\"fill\":{\"color\":\"#EBF0F8\"},\"line\":{\"color\":\"white\"}},\"header\":{\"fill\":{\"color\":\"#C8D4E3\"},\"line\":{\"color\":\"white\"}},\"type\":\"table\"}],\"barpolar\":[{\"marker\":{\"line\":{\"color\":\"#E5ECF6\",\"width\":0.5},\"pattern\":{\"fillmode\":\"overlay\",\"size\":10,\"solidity\":0.2}},\"type\":\"barpolar\"}],\"pie\":[{\"automargin\":true,\"type\":\"pie\"}]},\"layout\":{\"autotypenumbers\":\"strict\",\"colorway\":[\"#636efa\",\"#EF553B\",\"#00cc96\",\"#ab63fa\",\"#FFA15A\",\"#19d3f3\",\"#FF6692\",\"#B6E880\",\"#FF97FF\",\"#FECB52\"],\"font\":{\"color\":\"#2a3f5f\"},\"hovermode\":\"closest\",\"hoverlabel\":{\"align\":\"left\"},\"paper_bgcolor\":\"white\",\"plot_bgcolor\":\"#E5ECF6\",\"polar\":{\"bgcolor\":\"#E5ECF6\",\"angularaxis\":{\"gridcolor\":\"white\",\"linecolor\":\"white\",\"ticks\":\"\"},\"radialaxis\":{\"gridcolor\":\"white\",\"linecolor\":\"white\",\"ticks\":\"\"}},\"ternary\":{\"bgcolor\":\"#E5ECF6\",\"aaxis\":{\"gridcolor\":\"white\",\"linecolor\":\"white\",\"ticks\":\"\"},\"baxis\":{\"gridcolor\":\"white\",\"linecolor\":\"white\",\"ticks\":\"\"},\"caxis\":{\"gridcolor\":\"white\",\"linecolor\":\"white\",\"ticks\":\"\"}},\"coloraxis\":{\"colorbar\":{\"outlinewidth\":0,\"ticks\":\"\"}},\"colorscale\":{\"sequential\":[[0.0,\"#0d0887\"],[0.1111111111111111,\"#46039f\"],[0.2222222222222222,\"#7201a8\"],[0.3333333333333333,\"#9c179e\"],[0.4444444444444444,\"#bd3786\"],[0.5555555555555556,\"#d8576b\"],[0.6666666666666666,\"#ed7953\"],[0.7777777777777778,\"#fb9f3a\"],[0.8888888888888888,\"#fdca26\"],[1.0,\"#f0f921\"]],\"sequentialminus\":[[0.0,\"#0d0887\"],[0.1111111111111111,\"#46039f\"],[0.2222222222222222,\"#7201a8\"],[0.3333333333333333,\"#9c179e\"],[0.4444444444444444,\"#bd3786\"],[0.5555555555555556,\"#d8576b\"],[0.6666666666666666,\"#ed7953\"],[0.7777777777777778,\"#fb9f3a\"],[0.8888888888888888,\"#fdca26\"],[1.0,\"#f0f921\"]],\"diverging\":[[0,\"#8e0152\"],[0.1,\"#c51b7d\"],[0.2,\"#de77ae\"],[0.3,\"#f1b6da\"],[0.4,\"#fde0ef\"],[0.5,\"#f7f7f7\"],[0.6,\"#e6f5d0\"],[0.7,\"#b8e186\"],[0.8,\"#7fbc41\"],[0.9,\"#4d9221\"],[1,\"#276419\"]]},\"xaxis\":{\"gridcolor\":\"white\",\"linecolor\":\"white\",\"ticks\":\"\",\"title\":{\"standoff\":15},\"zerolinecolor\":\"white\",\"automargin\":true,\"zerolinewidth\":2},\"yaxis\":{\"gridcolor\":\"white\",\"linecolor\":\"white\",\"ticks\":\"\",\"title\":{\"standoff\":15},\"zerolinecolor\":\"white\",\"automargin\":true,\"zerolinewidth\":2},\"scene\":{\"xaxis\":{\"backgroundcolor\":\"#E5ECF6\",\"gridcolor\":\"white\",\"linecolor\":\"white\",\"showbackground\":true,\"ticks\":\"\",\"zerolinecolor\":\"white\",\"gridwidth\":2},\"yaxis\":{\"backgroundcolor\":\"#E5ECF6\",\"gridcolor\":\"white\",\"linecolor\":\"white\",\"showbackground\":true,\"ticks\":\"\",\"zerolinecolor\":\"white\",\"gridwidth\":2},\"zaxis\":{\"backgroundcolor\":\"#E5ECF6\",\"gridcolor\":\"white\",\"linecolor\":\"white\",\"showbackground\":true,\"ticks\":\"\",\"zerolinecolor\":\"white\",\"gridwidth\":2}},\"shapedefaults\":{\"line\":{\"color\":\"#2a3f5f\"}},\"annotationdefaults\":{\"arrowcolor\":\"#2a3f5f\",\"arrowhead\":0,\"arrowwidth\":1},\"geo\":{\"bgcolor\":\"white\",\"landcolor\":\"#E5ECF6\",\"subunitcolor\":\"white\",\"showland\":true,\"showlakes\":true,\"lakecolor\":\"white\"},\"title\":{\"x\":0.05},\"mapbox\":{\"style\":\"light\"}}},\"xaxis\":{\"anchor\":\"y\",\"domain\":[0.0,1.0],\"title\":{\"text\":\"Producer\"}},\"yaxis\":{\"anchor\":\"x\",\"domain\":[0.0,1.0],\"title\":{\"text\":\"Number of Farms\"}},\"legend\":{\"tracegroupgap\":0},\"title\":{\"text\":\"Top Coffee Producers\"},\"barmode\":\"relative\"},                        {\"responsive\": true}                    ).then(function(){\n",
       "                            \n",
       "var gd = document.getElementById('5b2448d6-7606-4ccc-a3f6-be7258ad988b');\n",
       "var x = new MutationObserver(function (mutations, observer) {{\n",
       "        var display = window.getComputedStyle(gd).display;\n",
       "        if (!display || display === 'none') {{\n",
       "            console.log([gd, 'removed!']);\n",
       "            Plotly.purge(gd);\n",
       "            observer.disconnect();\n",
       "        }}\n",
       "}});\n",
       "\n",
       "// Listen for the removal of the full notebook cells\n",
       "var notebookContainer = gd.closest('#notebook-container');\n",
       "if (notebookContainer) {{\n",
       "    x.observe(notebookContainer, {childList: true});\n",
       "}}\n",
       "\n",
       "// Listen for the clearing of the current output cell\n",
       "var outputEl = gd.closest('.output');\n",
       "if (outputEl) {{\n",
       "    x.observe(outputEl, {childList: true});\n",
       "}}\n",
       "\n",
       "                        })                };                });            </script>        </div>"
      ]
     },
     "metadata": {},
     "output_type": "display_data"
    },
    {
     "data": {
      "application/vnd.plotly.v1+json": {
       "config": {
        "plotlyServerURL": "https://plot.ly"
       },
       "data": [
        {
         "branchvalues": "total",
         "domain": {
          "x": [
           0,
           1
          ],
          "y": [
           0,
           1
          ]
         },
         "hovertemplate": "labels=%{label}<br>Number of Farms=%{value}<br>parent=%{parent}<br>id=%{id}<extra></extra>",
         "ids": [
          "Bisrat Melaku",
          "Cafetalera Paquim, S.A.",
          "DORMAN (T) LIMITED",
          "Doi Tung Development Project",
          "Fausto Nahun Maldonado",
          "J.J. Borja Nathan, S.A.",
          "Jose Nahum Maldonado",
          "Martin Gutierrez",
          "Omar Acosta",
          "Roselia Yglesias",
          "Sandro Crispin Espiritu",
          "Santa Maria de Dota",
          "VALBROS, S. A.",
          "Varios Productores",
          "YHAENU PLC",
          "comsa",
          "san francisco cotzal",
          "varios productores",
          "various producers",
          "張進義Zhang Jin-Yi"
         ],
         "labels": [
          "Bisrat Melaku",
          "Cafetalera Paquim, S.A.",
          "DORMAN (T) LIMITED",
          "Doi Tung Development Project",
          "Fausto Nahun Maldonado",
          "J.J. Borja Nathan, S.A.",
          "Jose Nahum Maldonado",
          "Martin Gutierrez",
          "Omar Acosta",
          "Roselia Yglesias",
          "Sandro Crispin Espiritu",
          "Santa Maria de Dota",
          "VALBROS, S. A.",
          "Varios Productores",
          "YHAENU PLC",
          "comsa",
          "san francisco cotzal",
          "varios productores",
          "various producers",
          "張進義Zhang Jin-Yi"
         ],
         "name": "",
         "parents": [
          "",
          "",
          "",
          "",
          "",
          "",
          "",
          "",
          "",
          "",
          "",
          "",
          "",
          "",
          "",
          "",
          "",
          "",
          "",
          ""
         ],
         "type": "sunburst",
         "values": [
          2,
          2,
          2,
          7,
          3,
          3,
          2,
          3,
          2,
          3,
          2,
          2,
          2,
          2,
          2,
          2,
          2,
          2,
          2,
          2
         ]
        }
       ],
       "layout": {
        "legend": {
         "tracegroupgap": 0
        },
        "template": {
         "data": {
          "bar": [
           {
            "error_x": {
             "color": "#2a3f5f"
            },
            "error_y": {
             "color": "#2a3f5f"
            },
            "marker": {
             "line": {
              "color": "#E5ECF6",
              "width": 0.5
             },
             "pattern": {
              "fillmode": "overlay",
              "size": 10,
              "solidity": 0.2
             }
            },
            "type": "bar"
           }
          ],
          "barpolar": [
           {
            "marker": {
             "line": {
              "color": "#E5ECF6",
              "width": 0.5
             },
             "pattern": {
              "fillmode": "overlay",
              "size": 10,
              "solidity": 0.2
             }
            },
            "type": "barpolar"
           }
          ],
          "carpet": [
           {
            "aaxis": {
             "endlinecolor": "#2a3f5f",
             "gridcolor": "white",
             "linecolor": "white",
             "minorgridcolor": "white",
             "startlinecolor": "#2a3f5f"
            },
            "baxis": {
             "endlinecolor": "#2a3f5f",
             "gridcolor": "white",
             "linecolor": "white",
             "minorgridcolor": "white",
             "startlinecolor": "#2a3f5f"
            },
            "type": "carpet"
           }
          ],
          "choropleth": [
           {
            "colorbar": {
             "outlinewidth": 0,
             "ticks": ""
            },
            "type": "choropleth"
           }
          ],
          "contour": [
           {
            "colorbar": {
             "outlinewidth": 0,
             "ticks": ""
            },
            "colorscale": [
             [
              0,
              "#0d0887"
             ],
             [
              0.1111111111111111,
              "#46039f"
             ],
             [
              0.2222222222222222,
              "#7201a8"
             ],
             [
              0.3333333333333333,
              "#9c179e"
             ],
             [
              0.4444444444444444,
              "#bd3786"
             ],
             [
              0.5555555555555556,
              "#d8576b"
             ],
             [
              0.6666666666666666,
              "#ed7953"
             ],
             [
              0.7777777777777778,
              "#fb9f3a"
             ],
             [
              0.8888888888888888,
              "#fdca26"
             ],
             [
              1,
              "#f0f921"
             ]
            ],
            "type": "contour"
           }
          ],
          "contourcarpet": [
           {
            "colorbar": {
             "outlinewidth": 0,
             "ticks": ""
            },
            "type": "contourcarpet"
           }
          ],
          "heatmap": [
           {
            "colorbar": {
             "outlinewidth": 0,
             "ticks": ""
            },
            "colorscale": [
             [
              0,
              "#0d0887"
             ],
             [
              0.1111111111111111,
              "#46039f"
             ],
             [
              0.2222222222222222,
              "#7201a8"
             ],
             [
              0.3333333333333333,
              "#9c179e"
             ],
             [
              0.4444444444444444,
              "#bd3786"
             ],
             [
              0.5555555555555556,
              "#d8576b"
             ],
             [
              0.6666666666666666,
              "#ed7953"
             ],
             [
              0.7777777777777778,
              "#fb9f3a"
             ],
             [
              0.8888888888888888,
              "#fdca26"
             ],
             [
              1,
              "#f0f921"
             ]
            ],
            "type": "heatmap"
           }
          ],
          "heatmapgl": [
           {
            "colorbar": {
             "outlinewidth": 0,
             "ticks": ""
            },
            "colorscale": [
             [
              0,
              "#0d0887"
             ],
             [
              0.1111111111111111,
              "#46039f"
             ],
             [
              0.2222222222222222,
              "#7201a8"
             ],
             [
              0.3333333333333333,
              "#9c179e"
             ],
             [
              0.4444444444444444,
              "#bd3786"
             ],
             [
              0.5555555555555556,
              "#d8576b"
             ],
             [
              0.6666666666666666,
              "#ed7953"
             ],
             [
              0.7777777777777778,
              "#fb9f3a"
             ],
             [
              0.8888888888888888,
              "#fdca26"
             ],
             [
              1,
              "#f0f921"
             ]
            ],
            "type": "heatmapgl"
           }
          ],
          "histogram": [
           {
            "marker": {
             "pattern": {
              "fillmode": "overlay",
              "size": 10,
              "solidity": 0.2
             }
            },
            "type": "histogram"
           }
          ],
          "histogram2d": [
           {
            "colorbar": {
             "outlinewidth": 0,
             "ticks": ""
            },
            "colorscale": [
             [
              0,
              "#0d0887"
             ],
             [
              0.1111111111111111,
              "#46039f"
             ],
             [
              0.2222222222222222,
              "#7201a8"
             ],
             [
              0.3333333333333333,
              "#9c179e"
             ],
             [
              0.4444444444444444,
              "#bd3786"
             ],
             [
              0.5555555555555556,
              "#d8576b"
             ],
             [
              0.6666666666666666,
              "#ed7953"
             ],
             [
              0.7777777777777778,
              "#fb9f3a"
             ],
             [
              0.8888888888888888,
              "#fdca26"
             ],
             [
              1,
              "#f0f921"
             ]
            ],
            "type": "histogram2d"
           }
          ],
          "histogram2dcontour": [
           {
            "colorbar": {
             "outlinewidth": 0,
             "ticks": ""
            },
            "colorscale": [
             [
              0,
              "#0d0887"
             ],
             [
              0.1111111111111111,
              "#46039f"
             ],
             [
              0.2222222222222222,
              "#7201a8"
             ],
             [
              0.3333333333333333,
              "#9c179e"
             ],
             [
              0.4444444444444444,
              "#bd3786"
             ],
             [
              0.5555555555555556,
              "#d8576b"
             ],
             [
              0.6666666666666666,
              "#ed7953"
             ],
             [
              0.7777777777777778,
              "#fb9f3a"
             ],
             [
              0.8888888888888888,
              "#fdca26"
             ],
             [
              1,
              "#f0f921"
             ]
            ],
            "type": "histogram2dcontour"
           }
          ],
          "mesh3d": [
           {
            "colorbar": {
             "outlinewidth": 0,
             "ticks": ""
            },
            "type": "mesh3d"
           }
          ],
          "parcoords": [
           {
            "line": {
             "colorbar": {
              "outlinewidth": 0,
              "ticks": ""
             }
            },
            "type": "parcoords"
           }
          ],
          "pie": [
           {
            "automargin": true,
            "type": "pie"
           }
          ],
          "scatter": [
           {
            "fillpattern": {
             "fillmode": "overlay",
             "size": 10,
             "solidity": 0.2
            },
            "type": "scatter"
           }
          ],
          "scatter3d": [
           {
            "line": {
             "colorbar": {
              "outlinewidth": 0,
              "ticks": ""
             }
            },
            "marker": {
             "colorbar": {
              "outlinewidth": 0,
              "ticks": ""
             }
            },
            "type": "scatter3d"
           }
          ],
          "scattercarpet": [
           {
            "marker": {
             "colorbar": {
              "outlinewidth": 0,
              "ticks": ""
             }
            },
            "type": "scattercarpet"
           }
          ],
          "scattergeo": [
           {
            "marker": {
             "colorbar": {
              "outlinewidth": 0,
              "ticks": ""
             }
            },
            "type": "scattergeo"
           }
          ],
          "scattergl": [
           {
            "marker": {
             "colorbar": {
              "outlinewidth": 0,
              "ticks": ""
             }
            },
            "type": "scattergl"
           }
          ],
          "scattermapbox": [
           {
            "marker": {
             "colorbar": {
              "outlinewidth": 0,
              "ticks": ""
             }
            },
            "type": "scattermapbox"
           }
          ],
          "scatterpolar": [
           {
            "marker": {
             "colorbar": {
              "outlinewidth": 0,
              "ticks": ""
             }
            },
            "type": "scatterpolar"
           }
          ],
          "scatterpolargl": [
           {
            "marker": {
             "colorbar": {
              "outlinewidth": 0,
              "ticks": ""
             }
            },
            "type": "scatterpolargl"
           }
          ],
          "scatterternary": [
           {
            "marker": {
             "colorbar": {
              "outlinewidth": 0,
              "ticks": ""
             }
            },
            "type": "scatterternary"
           }
          ],
          "surface": [
           {
            "colorbar": {
             "outlinewidth": 0,
             "ticks": ""
            },
            "colorscale": [
             [
              0,
              "#0d0887"
             ],
             [
              0.1111111111111111,
              "#46039f"
             ],
             [
              0.2222222222222222,
              "#7201a8"
             ],
             [
              0.3333333333333333,
              "#9c179e"
             ],
             [
              0.4444444444444444,
              "#bd3786"
             ],
             [
              0.5555555555555556,
              "#d8576b"
             ],
             [
              0.6666666666666666,
              "#ed7953"
             ],
             [
              0.7777777777777778,
              "#fb9f3a"
             ],
             [
              0.8888888888888888,
              "#fdca26"
             ],
             [
              1,
              "#f0f921"
             ]
            ],
            "type": "surface"
           }
          ],
          "table": [
           {
            "cells": {
             "fill": {
              "color": "#EBF0F8"
             },
             "line": {
              "color": "white"
             }
            },
            "header": {
             "fill": {
              "color": "#C8D4E3"
             },
             "line": {
              "color": "white"
             }
            },
            "type": "table"
           }
          ]
         },
         "layout": {
          "annotationdefaults": {
           "arrowcolor": "#2a3f5f",
           "arrowhead": 0,
           "arrowwidth": 1
          },
          "autotypenumbers": "strict",
          "coloraxis": {
           "colorbar": {
            "outlinewidth": 0,
            "ticks": ""
           }
          },
          "colorscale": {
           "diverging": [
            [
             0,
             "#8e0152"
            ],
            [
             0.1,
             "#c51b7d"
            ],
            [
             0.2,
             "#de77ae"
            ],
            [
             0.3,
             "#f1b6da"
            ],
            [
             0.4,
             "#fde0ef"
            ],
            [
             0.5,
             "#f7f7f7"
            ],
            [
             0.6,
             "#e6f5d0"
            ],
            [
             0.7,
             "#b8e186"
            ],
            [
             0.8,
             "#7fbc41"
            ],
            [
             0.9,
             "#4d9221"
            ],
            [
             1,
             "#276419"
            ]
           ],
           "sequential": [
            [
             0,
             "#0d0887"
            ],
            [
             0.1111111111111111,
             "#46039f"
            ],
            [
             0.2222222222222222,
             "#7201a8"
            ],
            [
             0.3333333333333333,
             "#9c179e"
            ],
            [
             0.4444444444444444,
             "#bd3786"
            ],
            [
             0.5555555555555556,
             "#d8576b"
            ],
            [
             0.6666666666666666,
             "#ed7953"
            ],
            [
             0.7777777777777778,
             "#fb9f3a"
            ],
            [
             0.8888888888888888,
             "#fdca26"
            ],
            [
             1,
             "#f0f921"
            ]
           ],
           "sequentialminus": [
            [
             0,
             "#0d0887"
            ],
            [
             0.1111111111111111,
             "#46039f"
            ],
            [
             0.2222222222222222,
             "#7201a8"
            ],
            [
             0.3333333333333333,
             "#9c179e"
            ],
            [
             0.4444444444444444,
             "#bd3786"
            ],
            [
             0.5555555555555556,
             "#d8576b"
            ],
            [
             0.6666666666666666,
             "#ed7953"
            ],
            [
             0.7777777777777778,
             "#fb9f3a"
            ],
            [
             0.8888888888888888,
             "#fdca26"
            ],
            [
             1,
             "#f0f921"
            ]
           ]
          },
          "colorway": [
           "#636efa",
           "#EF553B",
           "#00cc96",
           "#ab63fa",
           "#FFA15A",
           "#19d3f3",
           "#FF6692",
           "#B6E880",
           "#FF97FF",
           "#FECB52"
          ],
          "font": {
           "color": "#2a3f5f"
          },
          "geo": {
           "bgcolor": "white",
           "lakecolor": "white",
           "landcolor": "#E5ECF6",
           "showlakes": true,
           "showland": true,
           "subunitcolor": "white"
          },
          "hoverlabel": {
           "align": "left"
          },
          "hovermode": "closest",
          "mapbox": {
           "style": "light"
          },
          "paper_bgcolor": "white",
          "plot_bgcolor": "#E5ECF6",
          "polar": {
           "angularaxis": {
            "gridcolor": "white",
            "linecolor": "white",
            "ticks": ""
           },
           "bgcolor": "#E5ECF6",
           "radialaxis": {
            "gridcolor": "white",
            "linecolor": "white",
            "ticks": ""
           }
          },
          "scene": {
           "xaxis": {
            "backgroundcolor": "#E5ECF6",
            "gridcolor": "white",
            "gridwidth": 2,
            "linecolor": "white",
            "showbackground": true,
            "ticks": "",
            "zerolinecolor": "white"
           },
           "yaxis": {
            "backgroundcolor": "#E5ECF6",
            "gridcolor": "white",
            "gridwidth": 2,
            "linecolor": "white",
            "showbackground": true,
            "ticks": "",
            "zerolinecolor": "white"
           },
           "zaxis": {
            "backgroundcolor": "#E5ECF6",
            "gridcolor": "white",
            "gridwidth": 2,
            "linecolor": "white",
            "showbackground": true,
            "ticks": "",
            "zerolinecolor": "white"
           }
          },
          "shapedefaults": {
           "line": {
            "color": "#2a3f5f"
           }
          },
          "ternary": {
           "aaxis": {
            "gridcolor": "white",
            "linecolor": "white",
            "ticks": ""
           },
           "baxis": {
            "gridcolor": "white",
            "linecolor": "white",
            "ticks": ""
           },
           "bgcolor": "#E5ECF6",
           "caxis": {
            "gridcolor": "white",
            "linecolor": "white",
            "ticks": ""
           }
          },
          "title": {
           "x": 0.05
          },
          "xaxis": {
           "automargin": true,
           "gridcolor": "white",
           "linecolor": "white",
           "ticks": "",
           "title": {
            "standoff": 15
           },
           "zerolinecolor": "white",
           "zerolinewidth": 2
          },
          "yaxis": {
           "automargin": true,
           "gridcolor": "white",
           "linecolor": "white",
           "ticks": "",
           "title": {
            "standoff": 15
           },
           "zerolinecolor": "white",
           "zerolinewidth": 2
          }
         }
        },
        "title": {
         "text": "Distribution Among Top Coffee Producers"
        }
       }
      },
      "text/html": [
       "<div>                            <div id=\"fbfcbeb4-e85d-44c8-a99d-ce77384868c5\" class=\"plotly-graph-div\" style=\"height:525px; width:100%;\"></div>            <script type=\"text/javascript\">                require([\"plotly\"], function(Plotly) {                    window.PLOTLYENV=window.PLOTLYENV || {};                                    if (document.getElementById(\"fbfcbeb4-e85d-44c8-a99d-ce77384868c5\")) {                    Plotly.newPlot(                        \"fbfcbeb4-e85d-44c8-a99d-ce77384868c5\",                        [{\"branchvalues\":\"total\",\"domain\":{\"x\":[0.0,1.0],\"y\":[0.0,1.0]},\"hovertemplate\":\"labels=%{label}<br>Number of Farms=%{value}<br>parent=%{parent}<br>id=%{id}<extra></extra>\",\"ids\":[\"Bisrat Melaku\",\"Cafetalera Paquim, S.A.\",\"DORMAN (T) LIMITED\",\"Doi Tung Development Project\",\"Fausto Nahun Maldonado\",\"J.J. Borja Nathan, S.A.\",\"Jose Nahum Maldonado\",\"Martin Gutierrez\",\"Omar Acosta\",\"Roselia Yglesias\",\"Sandro Crispin Espiritu\",\"Santa Maria de Dota\",\"VALBROS, S. A.\",\"Varios Productores\",\"YHAENU PLC\",\"comsa\",\"san francisco cotzal\",\"varios productores\",\"various producers\",\"\\u5f35\\u9032\\u7fa9Zhang Jin-Yi\"],\"labels\":[\"Bisrat Melaku\",\"Cafetalera Paquim, S.A.\",\"DORMAN (T) LIMITED\",\"Doi Tung Development Project\",\"Fausto Nahun Maldonado\",\"J.J. Borja Nathan, S.A.\",\"Jose Nahum Maldonado\",\"Martin Gutierrez\",\"Omar Acosta\",\"Roselia Yglesias\",\"Sandro Crispin Espiritu\",\"Santa Maria de Dota\",\"VALBROS, S. A.\",\"Varios Productores\",\"YHAENU PLC\",\"comsa\",\"san francisco cotzal\",\"varios productores\",\"various producers\",\"\\u5f35\\u9032\\u7fa9Zhang Jin-Yi\"],\"name\":\"\",\"parents\":[\"\",\"\",\"\",\"\",\"\",\"\",\"\",\"\",\"\",\"\",\"\",\"\",\"\",\"\",\"\",\"\",\"\",\"\",\"\",\"\"],\"values\":[2,2,2,7,3,3,2,3,2,3,2,2,2,2,2,2,2,2,2,2],\"type\":\"sunburst\"}],                        {\"template\":{\"data\":{\"histogram2dcontour\":[{\"type\":\"histogram2dcontour\",\"colorbar\":{\"outlinewidth\":0,\"ticks\":\"\"},\"colorscale\":[[0.0,\"#0d0887\"],[0.1111111111111111,\"#46039f\"],[0.2222222222222222,\"#7201a8\"],[0.3333333333333333,\"#9c179e\"],[0.4444444444444444,\"#bd3786\"],[0.5555555555555556,\"#d8576b\"],[0.6666666666666666,\"#ed7953\"],[0.7777777777777778,\"#fb9f3a\"],[0.8888888888888888,\"#fdca26\"],[1.0,\"#f0f921\"]]}],\"choropleth\":[{\"type\":\"choropleth\",\"colorbar\":{\"outlinewidth\":0,\"ticks\":\"\"}}],\"histogram2d\":[{\"type\":\"histogram2d\",\"colorbar\":{\"outlinewidth\":0,\"ticks\":\"\"},\"colorscale\":[[0.0,\"#0d0887\"],[0.1111111111111111,\"#46039f\"],[0.2222222222222222,\"#7201a8\"],[0.3333333333333333,\"#9c179e\"],[0.4444444444444444,\"#bd3786\"],[0.5555555555555556,\"#d8576b\"],[0.6666666666666666,\"#ed7953\"],[0.7777777777777778,\"#fb9f3a\"],[0.8888888888888888,\"#fdca26\"],[1.0,\"#f0f921\"]]}],\"heatmap\":[{\"type\":\"heatmap\",\"colorbar\":{\"outlinewidth\":0,\"ticks\":\"\"},\"colorscale\":[[0.0,\"#0d0887\"],[0.1111111111111111,\"#46039f\"],[0.2222222222222222,\"#7201a8\"],[0.3333333333333333,\"#9c179e\"],[0.4444444444444444,\"#bd3786\"],[0.5555555555555556,\"#d8576b\"],[0.6666666666666666,\"#ed7953\"],[0.7777777777777778,\"#fb9f3a\"],[0.8888888888888888,\"#fdca26\"],[1.0,\"#f0f921\"]]}],\"heatmapgl\":[{\"type\":\"heatmapgl\",\"colorbar\":{\"outlinewidth\":0,\"ticks\":\"\"},\"colorscale\":[[0.0,\"#0d0887\"],[0.1111111111111111,\"#46039f\"],[0.2222222222222222,\"#7201a8\"],[0.3333333333333333,\"#9c179e\"],[0.4444444444444444,\"#bd3786\"],[0.5555555555555556,\"#d8576b\"],[0.6666666666666666,\"#ed7953\"],[0.7777777777777778,\"#fb9f3a\"],[0.8888888888888888,\"#fdca26\"],[1.0,\"#f0f921\"]]}],\"contourcarpet\":[{\"type\":\"contourcarpet\",\"colorbar\":{\"outlinewidth\":0,\"ticks\":\"\"}}],\"contour\":[{\"type\":\"contour\",\"colorbar\":{\"outlinewidth\":0,\"ticks\":\"\"},\"colorscale\":[[0.0,\"#0d0887\"],[0.1111111111111111,\"#46039f\"],[0.2222222222222222,\"#7201a8\"],[0.3333333333333333,\"#9c179e\"],[0.4444444444444444,\"#bd3786\"],[0.5555555555555556,\"#d8576b\"],[0.6666666666666666,\"#ed7953\"],[0.7777777777777778,\"#fb9f3a\"],[0.8888888888888888,\"#fdca26\"],[1.0,\"#f0f921\"]]}],\"surface\":[{\"type\":\"surface\",\"colorbar\":{\"outlinewidth\":0,\"ticks\":\"\"},\"colorscale\":[[0.0,\"#0d0887\"],[0.1111111111111111,\"#46039f\"],[0.2222222222222222,\"#7201a8\"],[0.3333333333333333,\"#9c179e\"],[0.4444444444444444,\"#bd3786\"],[0.5555555555555556,\"#d8576b\"],[0.6666666666666666,\"#ed7953\"],[0.7777777777777778,\"#fb9f3a\"],[0.8888888888888888,\"#fdca26\"],[1.0,\"#f0f921\"]]}],\"mesh3d\":[{\"type\":\"mesh3d\",\"colorbar\":{\"outlinewidth\":0,\"ticks\":\"\"}}],\"scatter\":[{\"fillpattern\":{\"fillmode\":\"overlay\",\"size\":10,\"solidity\":0.2},\"type\":\"scatter\"}],\"parcoords\":[{\"type\":\"parcoords\",\"line\":{\"colorbar\":{\"outlinewidth\":0,\"ticks\":\"\"}}}],\"scatterpolargl\":[{\"type\":\"scatterpolargl\",\"marker\":{\"colorbar\":{\"outlinewidth\":0,\"ticks\":\"\"}}}],\"bar\":[{\"error_x\":{\"color\":\"#2a3f5f\"},\"error_y\":{\"color\":\"#2a3f5f\"},\"marker\":{\"line\":{\"color\":\"#E5ECF6\",\"width\":0.5},\"pattern\":{\"fillmode\":\"overlay\",\"size\":10,\"solidity\":0.2}},\"type\":\"bar\"}],\"scattergeo\":[{\"type\":\"scattergeo\",\"marker\":{\"colorbar\":{\"outlinewidth\":0,\"ticks\":\"\"}}}],\"scatterpolar\":[{\"type\":\"scatterpolar\",\"marker\":{\"colorbar\":{\"outlinewidth\":0,\"ticks\":\"\"}}}],\"histogram\":[{\"marker\":{\"pattern\":{\"fillmode\":\"overlay\",\"size\":10,\"solidity\":0.2}},\"type\":\"histogram\"}],\"scattergl\":[{\"type\":\"scattergl\",\"marker\":{\"colorbar\":{\"outlinewidth\":0,\"ticks\":\"\"}}}],\"scatter3d\":[{\"type\":\"scatter3d\",\"line\":{\"colorbar\":{\"outlinewidth\":0,\"ticks\":\"\"}},\"marker\":{\"colorbar\":{\"outlinewidth\":0,\"ticks\":\"\"}}}],\"scattermapbox\":[{\"type\":\"scattermapbox\",\"marker\":{\"colorbar\":{\"outlinewidth\":0,\"ticks\":\"\"}}}],\"scatterternary\":[{\"type\":\"scatterternary\",\"marker\":{\"colorbar\":{\"outlinewidth\":0,\"ticks\":\"\"}}}],\"scattercarpet\":[{\"type\":\"scattercarpet\",\"marker\":{\"colorbar\":{\"outlinewidth\":0,\"ticks\":\"\"}}}],\"carpet\":[{\"aaxis\":{\"endlinecolor\":\"#2a3f5f\",\"gridcolor\":\"white\",\"linecolor\":\"white\",\"minorgridcolor\":\"white\",\"startlinecolor\":\"#2a3f5f\"},\"baxis\":{\"endlinecolor\":\"#2a3f5f\",\"gridcolor\":\"white\",\"linecolor\":\"white\",\"minorgridcolor\":\"white\",\"startlinecolor\":\"#2a3f5f\"},\"type\":\"carpet\"}],\"table\":[{\"cells\":{\"fill\":{\"color\":\"#EBF0F8\"},\"line\":{\"color\":\"white\"}},\"header\":{\"fill\":{\"color\":\"#C8D4E3\"},\"line\":{\"color\":\"white\"}},\"type\":\"table\"}],\"barpolar\":[{\"marker\":{\"line\":{\"color\":\"#E5ECF6\",\"width\":0.5},\"pattern\":{\"fillmode\":\"overlay\",\"size\":10,\"solidity\":0.2}},\"type\":\"barpolar\"}],\"pie\":[{\"automargin\":true,\"type\":\"pie\"}]},\"layout\":{\"autotypenumbers\":\"strict\",\"colorway\":[\"#636efa\",\"#EF553B\",\"#00cc96\",\"#ab63fa\",\"#FFA15A\",\"#19d3f3\",\"#FF6692\",\"#B6E880\",\"#FF97FF\",\"#FECB52\"],\"font\":{\"color\":\"#2a3f5f\"},\"hovermode\":\"closest\",\"hoverlabel\":{\"align\":\"left\"},\"paper_bgcolor\":\"white\",\"plot_bgcolor\":\"#E5ECF6\",\"polar\":{\"bgcolor\":\"#E5ECF6\",\"angularaxis\":{\"gridcolor\":\"white\",\"linecolor\":\"white\",\"ticks\":\"\"},\"radialaxis\":{\"gridcolor\":\"white\",\"linecolor\":\"white\",\"ticks\":\"\"}},\"ternary\":{\"bgcolor\":\"#E5ECF6\",\"aaxis\":{\"gridcolor\":\"white\",\"linecolor\":\"white\",\"ticks\":\"\"},\"baxis\":{\"gridcolor\":\"white\",\"linecolor\":\"white\",\"ticks\":\"\"},\"caxis\":{\"gridcolor\":\"white\",\"linecolor\":\"white\",\"ticks\":\"\"}},\"coloraxis\":{\"colorbar\":{\"outlinewidth\":0,\"ticks\":\"\"}},\"colorscale\":{\"sequential\":[[0.0,\"#0d0887\"],[0.1111111111111111,\"#46039f\"],[0.2222222222222222,\"#7201a8\"],[0.3333333333333333,\"#9c179e\"],[0.4444444444444444,\"#bd3786\"],[0.5555555555555556,\"#d8576b\"],[0.6666666666666666,\"#ed7953\"],[0.7777777777777778,\"#fb9f3a\"],[0.8888888888888888,\"#fdca26\"],[1.0,\"#f0f921\"]],\"sequentialminus\":[[0.0,\"#0d0887\"],[0.1111111111111111,\"#46039f\"],[0.2222222222222222,\"#7201a8\"],[0.3333333333333333,\"#9c179e\"],[0.4444444444444444,\"#bd3786\"],[0.5555555555555556,\"#d8576b\"],[0.6666666666666666,\"#ed7953\"],[0.7777777777777778,\"#fb9f3a\"],[0.8888888888888888,\"#fdca26\"],[1.0,\"#f0f921\"]],\"diverging\":[[0,\"#8e0152\"],[0.1,\"#c51b7d\"],[0.2,\"#de77ae\"],[0.3,\"#f1b6da\"],[0.4,\"#fde0ef\"],[0.5,\"#f7f7f7\"],[0.6,\"#e6f5d0\"],[0.7,\"#b8e186\"],[0.8,\"#7fbc41\"],[0.9,\"#4d9221\"],[1,\"#276419\"]]},\"xaxis\":{\"gridcolor\":\"white\",\"linecolor\":\"white\",\"ticks\":\"\",\"title\":{\"standoff\":15},\"zerolinecolor\":\"white\",\"automargin\":true,\"zerolinewidth\":2},\"yaxis\":{\"gridcolor\":\"white\",\"linecolor\":\"white\",\"ticks\":\"\",\"title\":{\"standoff\":15},\"zerolinecolor\":\"white\",\"automargin\":true,\"zerolinewidth\":2},\"scene\":{\"xaxis\":{\"backgroundcolor\":\"#E5ECF6\",\"gridcolor\":\"white\",\"linecolor\":\"white\",\"showbackground\":true,\"ticks\":\"\",\"zerolinecolor\":\"white\",\"gridwidth\":2},\"yaxis\":{\"backgroundcolor\":\"#E5ECF6\",\"gridcolor\":\"white\",\"linecolor\":\"white\",\"showbackground\":true,\"ticks\":\"\",\"zerolinecolor\":\"white\",\"gridwidth\":2},\"zaxis\":{\"backgroundcolor\":\"#E5ECF6\",\"gridcolor\":\"white\",\"linecolor\":\"white\",\"showbackground\":true,\"ticks\":\"\",\"zerolinecolor\":\"white\",\"gridwidth\":2}},\"shapedefaults\":{\"line\":{\"color\":\"#2a3f5f\"}},\"annotationdefaults\":{\"arrowcolor\":\"#2a3f5f\",\"arrowhead\":0,\"arrowwidth\":1},\"geo\":{\"bgcolor\":\"white\",\"landcolor\":\"#E5ECF6\",\"subunitcolor\":\"white\",\"showland\":true,\"showlakes\":true,\"lakecolor\":\"white\"},\"title\":{\"x\":0.05},\"mapbox\":{\"style\":\"light\"}}},\"legend\":{\"tracegroupgap\":0},\"title\":{\"text\":\"Distribution Among Top Coffee Producers\"}},                        {\"responsive\": true}                    ).then(function(){\n",
       "                            \n",
       "var gd = document.getElementById('fbfcbeb4-e85d-44c8-a99d-ce77384868c5');\n",
       "var x = new MutationObserver(function (mutations, observer) {{\n",
       "        var display = window.getComputedStyle(gd).display;\n",
       "        if (!display || display === 'none') {{\n",
       "            console.log([gd, 'removed!']);\n",
       "            Plotly.purge(gd);\n",
       "            observer.disconnect();\n",
       "        }}\n",
       "}});\n",
       "\n",
       "// Listen for the removal of the full notebook cells\n",
       "var notebookContainer = gd.closest('#notebook-container');\n",
       "if (notebookContainer) {{\n",
       "    x.observe(notebookContainer, {childList: true});\n",
       "}}\n",
       "\n",
       "// Listen for the clearing of the current output cell\n",
       "var outputEl = gd.closest('.output');\n",
       "if (outputEl) {{\n",
       "    x.observe(outputEl, {childList: true});\n",
       "}}\n",
       "\n",
       "                        })                };                });            </script>        </div>"
      ]
     },
     "metadata": {},
     "output_type": "display_data"
    }
   ],
   "source": [
    "# Counting the number of farms for each producer\n",
    "farm_count_by_producer = original_dataset['Producer'].value_counts().reset_index()\n",
    "farm_count_by_producer.columns = ['Producer', 'Number of Farms']\n",
    "\n",
    "# Sorting the producers by the number of farms, descending\n",
    "sorted_farm_counts = farm_count_by_producer.sort_values('Number of Farms', ascending=False)\n",
    "\n",
    "# Selecting the top 20 producers\n",
    "top_20_producers = sorted_farm_counts.head(20)\n",
    "\n",
    "# Creating a bar chart for the top 20 producers\n",
    "bar_chart = px.bar(top_20_producers, x='Producer', y='Number of Farms',\n",
    "                   title='Top Coffee Producers', labels={'Number of Farms': 'Number of Farms'})\n",
    "\n",
    "bar_chart.show()\n",
    "\n",
    "# Creating a sunburst chart for the top 20 producers\n",
    "sunburst_chart = px.sunburst(top_20_producers, path=['Producer'], values='Number of Farms',\n",
    "                             title='Distribution Among Top Coffee Producers')\n",
    "\n",
    "sunburst_chart.show()"
   ]
  },
  {
   "cell_type": "markdown",
   "id": "6f22f637",
   "metadata": {},
   "source": [
    "This bar graph illustrates the number of farms associated with the top coffee producers. The producer with the highest number of farms is <strong>Doi Tung Development Project</strong>, followed by several other producers each with fewer farms. The chart provides a clear view of how many farms each top producer manages, showing a range from seven to one farm. This visual helps identify the major players in the coffee production industry based on their farm count"
   ]
  },
  {
   "cell_type": "code",
   "execution_count": 31,
   "id": "ba0ba4c1",
   "metadata": {},
   "outputs": [
    {
     "data": {
      "text/plain": [
       "(               Country of Origin  Total Cup Points\n",
       " 0                         Brazil         81.883000\n",
       " 1                       Colombia         83.877368\n",
       " 2                     Costa Rica         83.740000\n",
       " 3                    El Salvador         81.532857\n",
       " 4                       Ethiopia         84.960909\n",
       " 5                      Guatemala         84.301429\n",
       " 6                       Honduras         83.282308\n",
       " 7                      Indonesia         83.693333\n",
       " 8                          Kenya         83.710000\n",
       " 9                           Laos         83.390000\n",
       " 10                    Madagascar         84.250000\n",
       " 11                        Mexico         82.710000\n",
       " 12                       Myanmar         83.670000\n",
       " 13                     Nicaragua         81.892857\n",
       " 14                        Panama         83.625000\n",
       " 15                          Peru         82.332500\n",
       " 16                        Taiwan         84.350328\n",
       " 17  Tanzania, United Republic Of         84.735000\n",
       " 18                      Thailand         82.827500\n",
       " 19                        Uganda         83.916667\n",
       " 20        United States (Hawaii)         83.650000\n",
       " 21                       Vietnam         82.892500,\n",
       " 0      19\n",
       " 1      61\n",
       " 2       3\n",
       " 3       8\n",
       " 4      19\n",
       "        ..\n",
       " 202    10\n",
       " 203     7\n",
       " 204     3\n",
       " 205     7\n",
       " 206    10\n",
       " Name: Country Frequency, Length: 207, dtype: int64)"
      ]
     },
     "execution_count": 31,
     "metadata": {},
     "output_type": "execute_result"
    }
   ],
   "source": [
    "# Calculate the average 'Total Cup Points' for each country\n",
    "average_cup_points_by_country = original_dataset.groupby('Country of Origin')['Total Cup Points'].mean().reset_index()\n",
    "\n",
    "# Add a column to the original dataset that counts the number of occurrences for each country\n",
    "original_dataset['Country Frequency'] = original_dataset.groupby('Country of Origin')['Country of Origin'].transform('count')\n",
    "\n",
    "# Display the calculated average cup points and the frequency data\n",
    "average_cup_points_by_country, original_dataset['Country Frequency']\n"
   ]
  },
  {
   "cell_type": "markdown",
   "id": "40ddb6a9",
   "metadata": {},
   "source": [
    "This output provides a detailed breakdown of two important aspects of the coffee dataset: the average quality of coffee from different countries, and the number of entries per country.\n",
    "\n",
    "<strong>The first part</strong> of the output shows the average 'Total Cup Points' for each country of origin, reflecting the quality scores attributed to coffee samples. For example, Brazil's coffee has an average score of approximately 81.88, while Ethiopia, known for its high-quality beans, averages around 84.96. This gives an indication of the perceived quality of coffee from these countries based on the dataset.\n",
    "\n",
    "<strong>The second part</strong> lists the frequency of entries from each country in the dataset, highlighting how many times coffee from each country has been evaluated. Colombia, for example, has a significantly higher number of evaluations with 61 entries, compared to Costa Rica with only 3. This frequency data helps in understanding the representation of each country within the dataset, which can influence the statistical significance of the average quality scores and might reflect the focus areas of the data collection efforts."
   ]
  },
  {
   "cell_type": "code",
   "execution_count": 32,
   "id": "a581ef68",
   "metadata": {},
   "outputs": [
    {
     "data": {
      "image/png": "[encoded data removed]",
      "text/plain": [
       "<Figure size 1000x700 with 1 Axes>"
      ]
     },
     "metadata": {},
     "output_type": "display_data"
    }
   ],
   "source": [
    "# Let's display the relationship between 'Flavor' and 'Total Cup Points'\n",
    "plt.figure(figsize=(10, 7))  # Setting the figure size\n",
    "\n",
    "# Creating a scatter plot to visualize the data\n",
    "sns.scatterplot(data=original_dataset, x='Flavor', y='Total Cup Points')\n",
    "plt.xlabel('Flavor')  # Label for the x-axis\n",
    "plt.ylabel('Total Cup Points')  # Label for the y-axis\n",
    "plt.title('Scatter Plot of Flavor vs. Total Cup Points')  # Adding a title to the plot\n",
    "plt.show()  # Displaying the plot"
   ]
  },
  {
   "cell_type": "markdown",
   "id": "f50c6898",
   "metadata": {},
   "source": [
    "This scatter plot illustrates the relationship between the 'Flavor' scores and 'Total Cup Points' of coffee samples. Each point on the plot represents a coffee sample, with the 'Flavor' score on the x-axis and the 'Total Cup Points' on the y-axis. <strong>The graph shows a clear upward trend</strong>, indicating that higher 'Flavor' scores are generally associated with higher 'Total Cup Points'. This suggests that the flavor of the coffee significantly impacts its overall quality assessment. The clustering of points towards higher flavor scores above 8.0 also indicates that higher-quality coffees tend to score well in terms of flavor."
   ]
  },
  {
   "cell_type": "code",
   "execution_count": 33,
   "id": "ca9c0cb3",
   "metadata": {},
   "outputs": [
    {
     "data": {
      "image/png": "[encoded data removed]",
      "text/plain": [
       "<Figure size 1200x1000 with 16 Axes>"
      ]
     },
     "metadata": {},
     "output_type": "display_data"
    },
    {
     "data": {
      "image/png": "[encoded data removed]",
      "text/plain": [
       "<Figure size 1000x500 with 1 Axes>"
      ]
     },
     "metadata": {},
     "output_type": "display_data"
    }
   ],
   "source": [
    "# Define the variables for the analysis\n",
    "quality_attributes = [\n",
    "    'Aroma', 'Flavor', 'Aftertaste', 'Acidity', 'Body', 'Balance', 'Uniformity',\n",
    "    'Clean Cup', 'Sweetness', 'Overall', 'Defects', 'Total Cup Points',\n",
    "    'Moisture Percentage', 'Category One Defects', 'Quakers'\n",
    "]\n",
    "\n",
    "# Generate histograms for each attribute to visualize distribution\n",
    "original_dataset[quality_attributes].hist(bins=10, figsize=(12, 10))\n",
    "plt.tight_layout()  # Adjust layout to make room for all subplots\n",
    "plt.show()  # Display the histograms\n",
    "\n",
    "# Create a boxplot for each attribute to visualize data spread and outliers\n",
    "plt.figure(figsize=(10, 5))  # Set figure size for the boxplots\n",
    "sns.boxplot(data=original_dataset[quality_attributes])  # Create boxplots\n",
    "plt.xticks(rotation=45)  # Rotate the x-axis labels for better readability\n",
    "plt.show()  # Display the boxplots\n"
   ]
  },
  {
   "cell_type": "markdown",
   "id": "903e6679",
   "metadata": {},
   "source": [
    "These charts show the distribution and range of different coffee quality attributes in our dataset.\n",
    "\n",
    "<strong>Histograms</strong>:\n",
    "Each histogram represents how often scores appear for attributes like Aroma, Flavor, and Body. They show us which scores are most common. For example, most coffees have high scores for Clean Cup and Uniformity, showing that these qualities are usually good.\n",
    "\n",
    "<strong>Boxplots</strong>:\n",
    "The boxplots provide a quick look at the range of scores for the same attributes. They highlight the median scores and show where most of the data lies, which helps us spot unusual values or outliers. For instance, the boxplot for Quakers shows a few extreme values, which are rare cases in the dataset.\n",
    "\n",
    "These visual tools help us understand where most of the coffee qualities score and identify any unusual data."
   ]
  },
  {
   "cell_type": "code",
   "execution_count": 34,
   "id": "f7da021f",
   "metadata": {},
   "outputs": [
    {
     "data": {
      "image/png": "[encoded data removed]",
      "text/plain": [
       "<Figure size 1000x600 with 2 Axes>"
      ]
     },
     "metadata": {},
     "output_type": "display_data"
    }
   ],
   "source": [
    "# Set up the figure size for the heatmap\n",
    "plt.figure(figsize=(10, 6))\n",
    "\n",
    "# Compute the correlation matrix for selected variables in the dataset\n",
    "variables = ['Aroma', 'Flavor', 'Aftertaste', 'Acidity', 'Body', 'Balance', 'Uniformity', 'Sweetness', 'Overall', 'Defects', 'Total Cup Points']\n",
    "corr = original_dataset[variables].corr()\n",
    "\n",
    "# Generate a heatmap to visualize the correlation between variables\n",
    "sns.heatmap(corr, annot=True, cmap='bwr')  # 'annot=True' to display correlation coefficients\n",
    "\n",
    "# Set the title of the heatmap\n",
    "plt.title('Correlation Heatmap')\n",
    "\n",
    "# Display the heatmap\n",
    "plt.show()"
   ]
  },
  {
   "cell_type": "markdown",
   "id": "eaf1b7a8",
   "metadata": {},
   "source": [
    "This heatmap shows how closely different coffee quality attributes are related to each other. The colors indicate the strength and type of correlation: blue for negative and red for positive correlations. \n",
    "<strong>High correlations between attributes like Flavor and Aftertaste or Flavor and Overall</strong>  suggest these qualities increase together, indicating they're closely linked in determining coffee's overall quality. Attributes like <strong>Uniformity show very little correlation</strong> with others, meaning they vary independently."
   ]
  },
  {
   "cell_type": "markdown",
   "id": "6aa53c32",
   "metadata": {},
   "source": [
    "# (2)Data preparation"
   ]
  },
  {
   "cell_type": "code",
   "execution_count": 35,
   "id": "573ad4a8",
   "metadata": {},
   "outputs": [
    {
     "name": "stdout",
     "output_type": "stream",
     "text": [
      "Original dataset shape: (207, 43)\n",
      "New dataset shape: (207, 24)\n"
     ]
    }
   ],
   "source": [
    "# Let's start cleaning data by dropping columns that are irrelevant to our analysis\n",
    "analysis_dataset = original_dataset.drop(['Unnamed: 0', 'Farm Name', 'Mill', 'ICO Number', 'Company',\n",
    "                                          'Producer', 'In-Country Partner', 'Lot Number', 'Owner',\n",
    "                                          'Certification Body', 'Grading Date', 'Certification Address',\n",
    "                                          'Certification Contact', 'Status', 'Harvest Year','Expiration','Altitude','ID', 'Country Frequency' ], axis=1)\n",
    "# Print the shape of the dataset before dropping columns\n",
    "print(\"Original dataset shape:\", original_dataset.shape)\n",
    "\n",
    "# Print the shape of the dataset after dropping columns\n",
    "print(\"New dataset shape:\", analysis_dataset.shape)\n"
   ]
  },
  {
   "cell_type": "code",
   "execution_count": 36,
   "id": "feb1f141",
   "metadata": {},
   "outputs": [
    {
     "name": "stdout",
     "output_type": "stream",
     "text": [
      "\u001b[1mTotal of NaN values:\u001b[0m 13\n"
     ]
    },
    {
     "data": {
      "text/plain": [
       "Country of Origin        0\n",
       "Region                   2\n",
       "Number of Bags           0\n",
       "Bag Weight               0\n",
       "Variety                  6\n",
       "Processing Method        5\n",
       "Aroma                    0\n",
       "Flavor                   0\n",
       "Aftertaste               0\n",
       "Acidity                  0\n",
       "Body                     0\n",
       "Balance                  0\n",
       "Uniformity               0\n",
       "Clean Cup                0\n",
       "Sweetness                0\n",
       "Overall                  0\n",
       "Defects                  0\n",
       "Total Cup Points         0\n",
       "Moisture Percentage      0\n",
       "Category One Defects     0\n",
       "Quakers                  0\n",
       "Color                    0\n",
       "Category Two Defects     0\n",
       "Average Quality Score    0\n",
       "dtype: int64"
      ]
     },
     "execution_count": 36,
     "metadata": {},
     "output_type": "execute_result"
    }
   ],
   "source": [
    "# Calculate the number of missing values for each column in the analysis dataset\n",
    "nan_values = analysis_dataset.isnull().sum()\n",
    "nan_count = analysis_dataset.isnull().sum().sum()\n",
    "\n",
    "# Display the number of missing values for each column\n",
    "print(bold_text('Total of NaN values:'), nan_count)\n",
    "nan_values\n"
   ]
  },
  {
   "cell_type": "code",
   "execution_count": 37,
   "id": "d64d2d17",
   "metadata": {},
   "outputs": [
    {
     "data": {
      "text/html": [
       "<div>\n",
       "<style scoped>\n",
       "    .dataframe tbody tr th:only-of-type {\n",
       "        vertical-align: middle;\n",
       "    }\n",
       "\n",
       "    .dataframe tbody tr th {\n",
       "        vertical-align: top;\n",
       "    }\n",
       "\n",
       "    .dataframe thead th {\n",
       "        text-align: right;\n",
       "    }\n",
       "</style>\n",
       "<table border=\"1\" class=\"dataframe\">\n",
       "  <thead>\n",
       "    <tr style=\"text-align: right;\">\n",
       "      <th></th>\n",
       "      <th>Country of Origin</th>\n",
       "      <th>Region</th>\n",
       "      <th>Number of Bags</th>\n",
       "      <th>Bag Weight</th>\n",
       "      <th>Variety</th>\n",
       "      <th>Processing Method</th>\n",
       "      <th>Aroma</th>\n",
       "      <th>Flavor</th>\n",
       "      <th>Aftertaste</th>\n",
       "      <th>Acidity</th>\n",
       "      <th>...</th>\n",
       "      <th>Sweetness</th>\n",
       "      <th>Overall</th>\n",
       "      <th>Defects</th>\n",
       "      <th>Total Cup Points</th>\n",
       "      <th>Moisture Percentage</th>\n",
       "      <th>Category One Defects</th>\n",
       "      <th>Quakers</th>\n",
       "      <th>Color</th>\n",
       "      <th>Category Two Defects</th>\n",
       "      <th>Average Quality Score</th>\n",
       "    </tr>\n",
       "  </thead>\n",
       "  <tbody>\n",
       "    <tr>\n",
       "      <th>0</th>\n",
       "      <td>Colombia</td>\n",
       "      <td>Piendamo,Cauca</td>\n",
       "      <td>1</td>\n",
       "      <td>35 kg</td>\n",
       "      <td>Castillo</td>\n",
       "      <td>Double Anaerobic Washed</td>\n",
       "      <td>8.58</td>\n",
       "      <td>8.50</td>\n",
       "      <td>8.42</td>\n",
       "      <td>8.58</td>\n",
       "      <td>...</td>\n",
       "      <td>10.0</td>\n",
       "      <td>8.58</td>\n",
       "      <td>0.0</td>\n",
       "      <td>89.33</td>\n",
       "      <td>11.8</td>\n",
       "      <td>0</td>\n",
       "      <td>0</td>\n",
       "      <td>green</td>\n",
       "      <td>3</td>\n",
       "      <td>8.814444</td>\n",
       "    </tr>\n",
       "    <tr>\n",
       "      <th>1</th>\n",
       "      <td>Taiwan</td>\n",
       "      <td>Chiayi</td>\n",
       "      <td>1</td>\n",
       "      <td>80 kg</td>\n",
       "      <td>Gesha</td>\n",
       "      <td>Washed / Wet</td>\n",
       "      <td>8.50</td>\n",
       "      <td>8.50</td>\n",
       "      <td>7.92</td>\n",
       "      <td>8.00</td>\n",
       "      <td>...</td>\n",
       "      <td>10.0</td>\n",
       "      <td>8.50</td>\n",
       "      <td>0.0</td>\n",
       "      <td>87.58</td>\n",
       "      <td>10.5</td>\n",
       "      <td>0</td>\n",
       "      <td>0</td>\n",
       "      <td>blue-green</td>\n",
       "      <td>0</td>\n",
       "      <td>8.621111</td>\n",
       "    </tr>\n",
       "    <tr>\n",
       "      <th>2</th>\n",
       "      <td>Laos</td>\n",
       "      <td>Laos Borofen Plateau</td>\n",
       "      <td>19</td>\n",
       "      <td>25 kg</td>\n",
       "      <td>Java</td>\n",
       "      <td>Semi Washed</td>\n",
       "      <td>8.33</td>\n",
       "      <td>8.42</td>\n",
       "      <td>8.08</td>\n",
       "      <td>8.17</td>\n",
       "      <td>...</td>\n",
       "      <td>10.0</td>\n",
       "      <td>8.33</td>\n",
       "      <td>0.0</td>\n",
       "      <td>87.42</td>\n",
       "      <td>10.4</td>\n",
       "      <td>0</td>\n",
       "      <td>0</td>\n",
       "      <td>yellowish</td>\n",
       "      <td>2</td>\n",
       "      <td>8.602222</td>\n",
       "    </tr>\n",
       "  </tbody>\n",
       "</table>\n",
       "<p>3 rows × 24 columns</p>\n",
       "</div>"
      ],
      "text/plain": [
       "  Country of Origin                Region  Number of Bags Bag Weight  \\\n",
       "0          Colombia        Piendamo,Cauca               1      35 kg   \n",
       "1            Taiwan                Chiayi               1      80 kg   \n",
       "2              Laos  Laos Borofen Plateau              19      25 kg   \n",
       "\n",
       "    Variety        Processing Method  Aroma  Flavor  Aftertaste  Acidity  ...  \\\n",
       "0  Castillo  Double Anaerobic Washed   8.58    8.50        8.42     8.58  ...   \n",
       "1     Gesha             Washed / Wet   8.50    8.50        7.92     8.00  ...   \n",
       "2      Java              Semi Washed   8.33    8.42        8.08     8.17  ...   \n",
       "\n",
       "   Sweetness  Overall  Defects  Total Cup Points  Moisture Percentage  \\\n",
       "0       10.0     8.58      0.0             89.33                 11.8   \n",
       "1       10.0     8.50      0.0             87.58                 10.5   \n",
       "2       10.0     8.33      0.0             87.42                 10.4   \n",
       "\n",
       "   Category One Defects  Quakers       Color  Category Two Defects  \\\n",
       "0                     0        0       green                     3   \n",
       "1                     0        0  blue-green                     0   \n",
       "2                     0        0   yellowish                     2   \n",
       "\n",
       "   Average Quality Score  \n",
       "0               8.814444  \n",
       "1               8.621111  \n",
       "2               8.602222  \n",
       "\n",
       "[3 rows x 24 columns]"
      ]
     },
     "execution_count": 37,
     "metadata": {},
     "output_type": "execute_result"
    }
   ],
   "source": [
    "# Display the first few rows of dataset after dropped some columns \n",
    "analysis_dataset.head(3)"
   ]
  },
  {
   "cell_type": "code",
   "execution_count": 38,
   "id": "9d1cf7eb",
   "metadata": {},
   "outputs": [],
   "source": [
    "# Use label encoding to convert categorical variables to numerical for correlation analysis\n",
    "\n",
    "analysis_dataset[\"Country of Origin\"]=label_Encoder.fit_transform(analysis_dataset[\"Country of Origin\"])\n",
    "analysis_dataset[\"Region\"]=label_Encoder.fit_transform(analysis_dataset[\"Region\"])\n",
    "analysis_dataset[\"Bag Weight\"]=label_Encoder.fit_transform(analysis_dataset[\"Bag Weight\"])\n",
    "analysis_dataset[\"Variety\"]=label_Encoder.fit_transform(analysis_dataset[\"Variety\"])\n",
    "analysis_dataset[\"Processing Method\"]=label_Encoder.fit_transform(analysis_dataset[\"Processing Method\"])\n",
    "analysis_dataset[\"Color\"]=label_Encoder.fit_transform(analysis_dataset[\"Color\"])"
   ]
  },
  {
   "cell_type": "code",
   "execution_count": 39,
   "id": "8b66fe28",
   "metadata": {},
   "outputs": [
    {
     "name": "stdout",
     "output_type": "stream",
     "text": [
      "<class 'pandas.core.frame.DataFrame'>\n",
      "RangeIndex: 207 entries, 0 to 206\n",
      "Data columns (total 24 columns):\n",
      " #   Column                 Non-Null Count  Dtype  \n",
      "---  ------                 --------------  -----  \n",
      " 0   Country of Origin      207 non-null    int64  \n",
      " 1   Region                 207 non-null    int64  \n",
      " 2   Number of Bags         207 non-null    int64  \n",
      " 3   Bag Weight             207 non-null    int64  \n",
      " 4   Variety                207 non-null    int64  \n",
      " 5   Processing Method      207 non-null    int64  \n",
      " 6   Aroma                  207 non-null    float64\n",
      " 7   Flavor                 207 non-null    float64\n",
      " 8   Aftertaste             207 non-null    float64\n",
      " 9   Acidity                207 non-null    float64\n",
      " 10  Body                   207 non-null    float64\n",
      " 11  Balance                207 non-null    float64\n",
      " 12  Uniformity             207 non-null    float64\n",
      " 13  Clean Cup              207 non-null    float64\n",
      " 14  Sweetness              207 non-null    float64\n",
      " 15  Overall                207 non-null    float64\n",
      " 16  Defects                207 non-null    float64\n",
      " 17  Total Cup Points       207 non-null    float64\n",
      " 18  Moisture Percentage    207 non-null    float64\n",
      " 19  Category One Defects   207 non-null    int64  \n",
      " 20  Quakers                207 non-null    int64  \n",
      " 21  Color                  207 non-null    int64  \n",
      " 22  Category Two Defects   207 non-null    int64  \n",
      " 23  Average Quality Score  207 non-null    float64\n",
      "dtypes: float64(14), int64(10)\n",
      "memory usage: 38.9 KB\n"
     ]
    }
   ],
   "source": [
    "#Checking if all the columns only contain numeric data\n",
    "analysis_dataset.info()"
   ]
  },
  {
   "cell_type": "code",
   "execution_count": 40,
   "id": "9391c4dc",
   "metadata": {},
   "outputs": [
    {
     "data": {
      "text/html": [
       "<div>\n",
       "<style scoped>\n",
       "    .dataframe tbody tr th:only-of-type {\n",
       "        vertical-align: middle;\n",
       "    }\n",
       "\n",
       "    .dataframe tbody tr th {\n",
       "        vertical-align: top;\n",
       "    }\n",
       "\n",
       "    .dataframe thead th {\n",
       "        text-align: right;\n",
       "    }\n",
       "</style>\n",
       "<table border=\"1\" class=\"dataframe\">\n",
       "  <thead>\n",
       "    <tr style=\"text-align: right;\">\n",
       "      <th></th>\n",
       "      <th>Country of Origin</th>\n",
       "      <th>Region</th>\n",
       "      <th>Number of Bags</th>\n",
       "      <th>Bag Weight</th>\n",
       "      <th>Variety</th>\n",
       "      <th>Processing Method</th>\n",
       "      <th>Aroma</th>\n",
       "      <th>Flavor</th>\n",
       "      <th>Aftertaste</th>\n",
       "      <th>Acidity</th>\n",
       "      <th>...</th>\n",
       "      <th>Sweetness</th>\n",
       "      <th>Overall</th>\n",
       "      <th>Defects</th>\n",
       "      <th>Total Cup Points</th>\n",
       "      <th>Moisture Percentage</th>\n",
       "      <th>Category One Defects</th>\n",
       "      <th>Quakers</th>\n",
       "      <th>Color</th>\n",
       "      <th>Category Two Defects</th>\n",
       "      <th>Average Quality Score</th>\n",
       "    </tr>\n",
       "  </thead>\n",
       "  <tbody>\n",
       "    <tr>\n",
       "      <th>0</th>\n",
       "      <td>1</td>\n",
       "      <td>76</td>\n",
       "      <td>1</td>\n",
       "      <td>22</td>\n",
       "      <td>4</td>\n",
       "      <td>1</td>\n",
       "      <td>8.58</td>\n",
       "      <td>8.50</td>\n",
       "      <td>8.42</td>\n",
       "      <td>8.58</td>\n",
       "      <td>...</td>\n",
       "      <td>10.0</td>\n",
       "      <td>8.58</td>\n",
       "      <td>0.0</td>\n",
       "      <td>89.33</td>\n",
       "      <td>11.8</td>\n",
       "      <td>0</td>\n",
       "      <td>0</td>\n",
       "      <td>4</td>\n",
       "      <td>3</td>\n",
       "      <td>8.814444</td>\n",
       "    </tr>\n",
       "    <tr>\n",
       "      <th>1</th>\n",
       "      <td>16</td>\n",
       "      <td>26</td>\n",
       "      <td>1</td>\n",
       "      <td>36</td>\n",
       "      <td>19</td>\n",
       "      <td>8</td>\n",
       "      <td>8.50</td>\n",
       "      <td>8.50</td>\n",
       "      <td>7.92</td>\n",
       "      <td>8.00</td>\n",
       "      <td>...</td>\n",
       "      <td>10.0</td>\n",
       "      <td>8.50</td>\n",
       "      <td>0.0</td>\n",
       "      <td>87.58</td>\n",
       "      <td>10.5</td>\n",
       "      <td>0</td>\n",
       "      <td>0</td>\n",
       "      <td>0</td>\n",
       "      <td>0</td>\n",
       "      <td>8.621111</td>\n",
       "    </tr>\n",
       "    <tr>\n",
       "      <th>2</th>\n",
       "      <td>9</td>\n",
       "      <td>52</td>\n",
       "      <td>19</td>\n",
       "      <td>15</td>\n",
       "      <td>20</td>\n",
       "      <td>7</td>\n",
       "      <td>8.33</td>\n",
       "      <td>8.42</td>\n",
       "      <td>8.08</td>\n",
       "      <td>8.17</td>\n",
       "      <td>...</td>\n",
       "      <td>10.0</td>\n",
       "      <td>8.33</td>\n",
       "      <td>0.0</td>\n",
       "      <td>87.42</td>\n",
       "      <td>10.4</td>\n",
       "      <td>0</td>\n",
       "      <td>0</td>\n",
       "      <td>11</td>\n",
       "      <td>2</td>\n",
       "      <td>8.602222</td>\n",
       "    </tr>\n",
       "    <tr>\n",
       "      <th>3</th>\n",
       "      <td>2</td>\n",
       "      <td>55</td>\n",
       "      <td>1</td>\n",
       "      <td>13</td>\n",
       "      <td>19</td>\n",
       "      <td>8</td>\n",
       "      <td>8.08</td>\n",
       "      <td>8.17</td>\n",
       "      <td>8.17</td>\n",
       "      <td>8.25</td>\n",
       "      <td>...</td>\n",
       "      <td>10.0</td>\n",
       "      <td>8.25</td>\n",
       "      <td>0.0</td>\n",
       "      <td>87.17</td>\n",
       "      <td>11.8</td>\n",
       "      <td>0</td>\n",
       "      <td>0</td>\n",
       "      <td>4</td>\n",
       "      <td>0</td>\n",
       "      <td>8.574444</td>\n",
       "    </tr>\n",
       "    <tr>\n",
       "      <th>4</th>\n",
       "      <td>1</td>\n",
       "      <td>77</td>\n",
       "      <td>2</td>\n",
       "      <td>14</td>\n",
       "      <td>29</td>\n",
       "      <td>3</td>\n",
       "      <td>8.33</td>\n",
       "      <td>8.33</td>\n",
       "      <td>8.08</td>\n",
       "      <td>8.25</td>\n",
       "      <td>...</td>\n",
       "      <td>10.0</td>\n",
       "      <td>8.25</td>\n",
       "      <td>0.0</td>\n",
       "      <td>87.08</td>\n",
       "      <td>11.6</td>\n",
       "      <td>0</td>\n",
       "      <td>2</td>\n",
       "      <td>10</td>\n",
       "      <td>2</td>\n",
       "      <td>8.564444</td>\n",
       "    </tr>\n",
       "    <tr>\n",
       "      <th>...</th>\n",
       "      <td>...</td>\n",
       "      <td>...</td>\n",
       "      <td>...</td>\n",
       "      <td>...</td>\n",
       "      <td>...</td>\n",
       "      <td>...</td>\n",
       "      <td>...</td>\n",
       "      <td>...</td>\n",
       "      <td>...</td>\n",
       "      <td>...</td>\n",
       "      <td>...</td>\n",
       "      <td>...</td>\n",
       "      <td>...</td>\n",
       "      <td>...</td>\n",
       "      <td>...</td>\n",
       "      <td>...</td>\n",
       "      <td>...</td>\n",
       "      <td>...</td>\n",
       "      <td>...</td>\n",
       "      <td>...</td>\n",
       "      <td>...</td>\n",
       "    </tr>\n",
       "    <tr>\n",
       "      <th>202</th>\n",
       "      <td>0</td>\n",
       "      <td>95</td>\n",
       "      <td>2240</td>\n",
       "      <td>32</td>\n",
       "      <td>25</td>\n",
       "      <td>4</td>\n",
       "      <td>7.17</td>\n",
       "      <td>7.17</td>\n",
       "      <td>6.92</td>\n",
       "      <td>7.17</td>\n",
       "      <td>...</td>\n",
       "      <td>10.0</td>\n",
       "      <td>7.08</td>\n",
       "      <td>0.0</td>\n",
       "      <td>80.08</td>\n",
       "      <td>11.4</td>\n",
       "      <td>0</td>\n",
       "      <td>0</td>\n",
       "      <td>4</td>\n",
       "      <td>4</td>\n",
       "      <td>7.788889</td>\n",
       "    </tr>\n",
       "    <tr>\n",
       "      <th>203</th>\n",
       "      <td>13</td>\n",
       "      <td>60</td>\n",
       "      <td>300</td>\n",
       "      <td>18</td>\n",
       "      <td>31</td>\n",
       "      <td>4</td>\n",
       "      <td>7.33</td>\n",
       "      <td>7.08</td>\n",
       "      <td>6.75</td>\n",
       "      <td>7.17</td>\n",
       "      <td>...</td>\n",
       "      <td>10.0</td>\n",
       "      <td>7.08</td>\n",
       "      <td>0.0</td>\n",
       "      <td>80.00</td>\n",
       "      <td>10.4</td>\n",
       "      <td>0</td>\n",
       "      <td>2</td>\n",
       "      <td>4</td>\n",
       "      <td>12</td>\n",
       "      <td>7.777778</td>\n",
       "    </tr>\n",
       "    <tr>\n",
       "      <th>204</th>\n",
       "      <td>9</td>\n",
       "      <td>11</td>\n",
       "      <td>343</td>\n",
       "      <td>32</td>\n",
       "      <td>8</td>\n",
       "      <td>8</td>\n",
       "      <td>7.25</td>\n",
       "      <td>7.17</td>\n",
       "      <td>7.08</td>\n",
       "      <td>7.00</td>\n",
       "      <td>...</td>\n",
       "      <td>10.0</td>\n",
       "      <td>7.00</td>\n",
       "      <td>0.0</td>\n",
       "      <td>79.67</td>\n",
       "      <td>11.6</td>\n",
       "      <td>0</td>\n",
       "      <td>9</td>\n",
       "      <td>4</td>\n",
       "      <td>11</td>\n",
       "      <td>7.740000</td>\n",
       "    </tr>\n",
       "    <tr>\n",
       "      <th>205</th>\n",
       "      <td>3</td>\n",
       "      <td>102</td>\n",
       "      <td>1</td>\n",
       "      <td>10</td>\n",
       "      <td>24</td>\n",
       "      <td>4</td>\n",
       "      <td>6.50</td>\n",
       "      <td>6.75</td>\n",
       "      <td>6.75</td>\n",
       "      <td>7.17</td>\n",
       "      <td>...</td>\n",
       "      <td>10.0</td>\n",
       "      <td>6.83</td>\n",
       "      <td>0.0</td>\n",
       "      <td>78.08</td>\n",
       "      <td>11.0</td>\n",
       "      <td>0</td>\n",
       "      <td>12</td>\n",
       "      <td>1</td>\n",
       "      <td>13</td>\n",
       "      <td>7.564444</td>\n",
       "    </tr>\n",
       "    <tr>\n",
       "      <th>206</th>\n",
       "      <td>0</td>\n",
       "      <td>63</td>\n",
       "      <td>600</td>\n",
       "      <td>32</td>\n",
       "      <td>25</td>\n",
       "      <td>6</td>\n",
       "      <td>7.25</td>\n",
       "      <td>7.08</td>\n",
       "      <td>6.67</td>\n",
       "      <td>6.83</td>\n",
       "      <td>...</td>\n",
       "      <td>10.0</td>\n",
       "      <td>6.67</td>\n",
       "      <td>0.0</td>\n",
       "      <td>78.00</td>\n",
       "      <td>11.3</td>\n",
       "      <td>0</td>\n",
       "      <td>0</td>\n",
       "      <td>4</td>\n",
       "      <td>1</td>\n",
       "      <td>7.555556</td>\n",
       "    </tr>\n",
       "  </tbody>\n",
       "</table>\n",
       "<p>207 rows × 24 columns</p>\n",
       "</div>"
      ],
      "text/plain": [
       "     Country of Origin  Region  Number of Bags  Bag Weight  Variety  \\\n",
       "0                    1      76               1          22        4   \n",
       "1                   16      26               1          36       19   \n",
       "2                    9      52              19          15       20   \n",
       "3                    2      55               1          13       19   \n",
       "4                    1      77               2          14       29   \n",
       "..                 ...     ...             ...         ...      ...   \n",
       "202                  0      95            2240          32       25   \n",
       "203                 13      60             300          18       31   \n",
       "204                  9      11             343          32        8   \n",
       "205                  3     102               1          10       24   \n",
       "206                  0      63             600          32       25   \n",
       "\n",
       "     Processing Method  Aroma  Flavor  Aftertaste  Acidity  ...  Sweetness  \\\n",
       "0                    1   8.58    8.50        8.42     8.58  ...       10.0   \n",
       "1                    8   8.50    8.50        7.92     8.00  ...       10.0   \n",
       "2                    7   8.33    8.42        8.08     8.17  ...       10.0   \n",
       "3                    8   8.08    8.17        8.17     8.25  ...       10.0   \n",
       "4                    3   8.33    8.33        8.08     8.25  ...       10.0   \n",
       "..                 ...    ...     ...         ...      ...  ...        ...   \n",
       "202                  4   7.17    7.17        6.92     7.17  ...       10.0   \n",
       "203                  4   7.33    7.08        6.75     7.17  ...       10.0   \n",
       "204                  8   7.25    7.17        7.08     7.00  ...       10.0   \n",
       "205                  4   6.50    6.75        6.75     7.17  ...       10.0   \n",
       "206                  6   7.25    7.08        6.67     6.83  ...       10.0   \n",
       "\n",
       "     Overall  Defects  Total Cup Points  Moisture Percentage  \\\n",
       "0       8.58      0.0             89.33                 11.8   \n",
       "1       8.50      0.0             87.58                 10.5   \n",
       "2       8.33      0.0             87.42                 10.4   \n",
       "3       8.25      0.0             87.17                 11.8   \n",
       "4       8.25      0.0             87.08                 11.6   \n",
       "..       ...      ...               ...                  ...   \n",
       "202     7.08      0.0             80.08                 11.4   \n",
       "203     7.08      0.0             80.00                 10.4   \n",
       "204     7.00      0.0             79.67                 11.6   \n",
       "205     6.83      0.0             78.08                 11.0   \n",
       "206     6.67      0.0             78.00                 11.3   \n",
       "\n",
       "     Category One Defects  Quakers  Color  Category Two Defects  \\\n",
       "0                       0        0      4                     3   \n",
       "1                       0        0      0                     0   \n",
       "2                       0        0     11                     2   \n",
       "3                       0        0      4                     0   \n",
       "4                       0        2     10                     2   \n",
       "..                    ...      ...    ...                   ...   \n",
       "202                     0        0      4                     4   \n",
       "203                     0        2      4                    12   \n",
       "204                     0        9      4                    11   \n",
       "205                     0       12      1                    13   \n",
       "206                     0        0      4                     1   \n",
       "\n",
       "     Average Quality Score  \n",
       "0                 8.814444  \n",
       "1                 8.621111  \n",
       "2                 8.602222  \n",
       "3                 8.574444  \n",
       "4                 8.564444  \n",
       "..                     ...  \n",
       "202               7.788889  \n",
       "203               7.777778  \n",
       "204               7.740000  \n",
       "205               7.564444  \n",
       "206               7.555556  \n",
       "\n",
       "[207 rows x 24 columns]"
      ]
     },
     "execution_count": 40,
     "metadata": {},
     "output_type": "execute_result"
    }
   ],
   "source": [
    "# Display cleaned analysis data\n",
    "analysis_dataset"
   ]
  },
  {
   "cell_type": "markdown",
   "id": "b994c257",
   "metadata": {},
   "source": [
    "# (3) Study the correlation"
   ]
  },
  {
   "cell_type": "code",
   "execution_count": 41,
   "id": "6a7e3e08",
   "metadata": {},
   "outputs": [
    {
     "name": "stdout",
     "output_type": "stream",
     "text": [
      "Total Cup Points         1.000000\n",
      "Average Quality Score    0.999989\n",
      "Overall                  0.947217\n",
      "Flavor                   0.939124\n",
      "Aftertaste               0.934813\n",
      "Balance                  0.929520\n",
      "Acidity                  0.897057\n",
      "Aroma                    0.868919\n",
      "Body                     0.847216\n",
      "Country of Origin        0.094932\n",
      "Color                    0.067865\n",
      "Uniformity               0.003556\n",
      "Bag Weight              -0.012049\n",
      "Processing Method       -0.044055\n",
      "Moisture Percentage     -0.046476\n",
      "Variety                 -0.049176\n",
      "Category One Defects    -0.058156\n",
      "Region                  -0.068869\n",
      "Number of Bags          -0.243753\n",
      "Category Two Defects    -0.314092\n",
      "Quakers                 -0.320307\n",
      "Clean Cup                     NaN\n",
      "Sweetness                     NaN\n",
      "Defects                       NaN\n",
      "Name: Total Cup Points, dtype: float64\n"
     ]
    }
   ],
   "source": [
    "# Calculate the correlation matrix for the analysis dataset\n",
    "correlation_matrix = analysis_dataset.corr()\n",
    "\n",
    "points_correlations = correlation_matrix['Total Cup Points'].sort_values(ascending=False)\n",
    "print(points_correlations)"
   ]
  },
  {
   "cell_type": "markdown",
   "id": "8c222e90",
   "metadata": {},
   "source": [
    "In this correlation study shows the relationships between 'Total Cup Points' and other variables in the dataset. <strong>Strong positive correlations</strong> are observed with features like 'Average Quality Score', 'Overall', 'Flavor', 'Aftertaste', 'Balance', 'Acidity', 'Aroma', and 'Body', indicating that higher values in these features tend to coincide with higher 'Total Cup Points'.\n",
    "\n",
    "<strong>Moderately positive correlations</strong> is found with 'Country of Origin', while <strong>weak positive correlations</strong>  are seen with variables such as 'Color', 'Uniformity', and 'Bag Weight'. Conversely, <strong>a strong negative correlation</strong> is evident with 'Quakers', suggesting that higher 'Quakers' values are associated with lower 'Total Cup Points'.\n",
    "\n",
    "However, 'Clean Cup', 'Sweetness', and 'Defects' show NaN correlations, implying potential issues with missing values, low variability, or data type mismatches even after cleaning the data and double checking analysis data. "
   ]
  },
  {
   "cell_type": "markdown",
   "id": "eacb3cab",
   "metadata": {},
   "source": [
    "# (4) Spliting the data\n",
    "\n",
    "The 'Total Cup Points' in our dataset are the sum of nine features, including Aroma, Flavor, Aftertaste, Acidity, Body, Balance, Uniformity, Clean Cup, and Sweetness. Since 'Flavor' has the strongest positive correlation with 'Total Cup Points' according to our analysis, we have chosen to focus on it for this portfolio. Moving forward, we'll be exploring how 'Flavor' is related to other features like 'Aftertaste', 'Balance', 'Acidity', 'Aroma', and 'Body', which also show strong correlations with 'Total Cup Points'."
   ]
  },
  {
   "cell_type": "code",
   "execution_count": 42,
   "id": "1aef1d36",
   "metadata": {},
   "outputs": [],
   "source": [
    "\n",
    "# Features selected based on strong correlation excluding 'Flavor' itself\n",
    "features = ['Aftertaste', 'Balance', 'Acidity', 'Aroma', 'Body']\n",
    "\n",
    "# 'Flavor' as the target variable\n",
    "X = analysis_dataset[features]\n",
    "y = analysis_dataset['Flavor']\n",
    "\n",
    "# Splitting the dataset into training and testing sets\n",
    "X_train, X_test, y_train, y_test = train_test_split(X, y, test_size=0.2, random_state=42)"
   ]
  },
  {
   "cell_type": "markdown",
   "id": "fca5ee37",
   "metadata": {},
   "source": [
    "# (5) Train a linear regression model"
   ]
  },
  {
   "cell_type": "code",
   "execution_count": 43,
   "id": "83e16d36",
   "metadata": {},
   "outputs": [
    {
     "name": "stdout",
     "output_type": "stream",
     "text": [
      "Mean Squared Error: 0.008087534643134045\n"
     ]
    }
   ],
   "source": [
    "# Linear Regression Model\n",
    "model = LinearRegression()\n",
    "model.fit(X_train, y_train)\n",
    "y_pred = model.predict(X_test)\n",
    "\n",
    "# Evaluating the model\n",
    "mse = mean_squared_error(y_test, y_pred)\n",
    "print(\"Mean Squared Error:\", mse)"
   ]
  },
  {
   "cell_type": "code",
   "execution_count": 44,
   "id": "05777748",
   "metadata": {},
   "outputs": [
    {
     "data": {
      "image/png": "[encoded data removed]",
      "text/plain": [
       "<Figure size 800x600 with 1 Axes>"
      ]
     },
     "metadata": {},
     "output_type": "display_data"
    }
   ],
   "source": [
    "\n",
    "# Plotting the predicted vs actual flavor scores\n",
    "plt.figure(figsize=(8, 6))\n",
    "plt.scatter(y_test, y_pred, color='blue', alpha=0.5)\n",
    "plt.plot([min(y_test), max(y_test)], [min(y_test), max(y_test)], color='red', linestyle='--')\n",
    "plt.title('Predicted vs Actual Flavor Scores')\n",
    "plt.xlabel('Actual Flavor Score')\n",
    "plt.ylabel('Predicted Flavor Score')\n",
    "plt.grid(True)\n",
    "plt.show()\n"
   ]
  },
  {
   "cell_type": "markdown",
   "id": "48272aaa",
   "metadata": {},
   "source": [
    "# Explaination of  the Linear Regression result:\n",
    "\n",
    "In this analysis, a Linear Regression model was utilized to predict the 'Flavor' score of coffee, which reflects the composite taste attributes including sweetness, bitterness, and acidity. This model was calibrated using features that demonstrate a high correlation with 'Flavor', specifically 'Aftertaste', 'Balance', 'Acidity', 'Aroma', and 'Body'. These predictors were chosen for their strong empirical relationships with the coffee's flavor, with the objective of constructing an effective predictive tool.\n",
    "\n",
    "The dataset was partitioned into training and testing segments, allocating 80% for training to build the model and 20% for testing to validate the model's accuracy. The performance of the model was quantified using the Mean Squared Error (MSE) metric, which measures the average of the squares of the errors—the average squared difference between the predicted values and what was actually observed.\n",
    "\n",
    "The MSE achieved in this study was approximately 0.00887, reflecting a low rate of error in the model’s predictions. This suggests that the model is highly effective in forecasting the 'Flavor' score from the identified sensory attributes, indicating that it can reliably capture and reflect the nuances of coffee flavor. The robustness of the model suggests its potential utility in predicting coffee quality in similar datasets or under comparable analytical conditions."
   ]
  },
  {
   "cell_type": "markdown",
   "id": "29d110ad",
   "metadata": {},
   "source": [
    "# (6) Model Evaluation using Cross-Validation"
   ]
  },
  {
   "cell_type": "code",
   "execution_count": 45,
   "id": "24405d42",
   "metadata": {},
   "outputs": [
    {
     "name": "stdout",
     "output_type": "stream",
     "text": [
      "Mean MSE: 0.0130\n",
      "Standard Deviation of MSE: 0.0041\n"
     ]
    }
   ],
   "source": [
    "# Features and target\n",
    "features = ['Aftertaste', 'Balance', 'Acidity', 'Aroma', 'Body']\n",
    "X = analysis_dataset[features]\n",
    "y = analysis_dataset['Flavor']\n",
    "\n",
    "# Create linear regression model\n",
    "model = LinearRegression()\n",
    "\n",
    "# Perform 10-fold cross-validation\n",
    "cv_scores = cross_val_score(model, X, y, cv=10, scoring='neg_mean_squared_error')\n",
    "\n",
    "# Calculate mean and standard deviation of the scores\n",
    "mse_scores = -cv_scores  # Convert scores to positive as they are returned as negative by convention\n",
    "mean_mse = np.mean(mse_scores)\n",
    "std_mse = np.std(mse_scores)\n",
    "\n",
    "print(f'Mean MSE: {mean_mse:.4f}')\n",
    "print(f'Standard Deviation of MSE: {std_mse:.4f}')\n"
   ]
  },
  {
   "cell_type": "code",
   "execution_count": 46,
   "id": "3289fb76",
   "metadata": {},
   "outputs": [
    {
     "data": {
      "image/png": "[encoded data removed]",
      "text/plain": [
       "<Figure size 640x480 with 1 Axes>"
      ]
     },
     "metadata": {},
     "output_type": "display_data"
    }
   ],
   "source": [
    "# Define the number of folds used in cross-validation\n",
    "num_folds = 10\n",
    "\n",
    "# Plotting mean test scores with error bars for standard deviations\n",
    "plt.errorbar(range(1, num_folds + 1), mse_scores, yerr=std_mse, fmt='-o', color='b', ecolor='r', capsize=5)\n",
    "plt.title('Cross-Validation Scores')\n",
    "plt.xlabel('Fold')\n",
    "plt.ylabel('Mean Squared Error')\n",
    "plt.xticks(range(1, num_folds + 1))\n",
    "plt.grid(True)\n",
    "plt.show()\n"
   ]
  },
  {
   "cell_type": "markdown",
   "id": "a252aeae",
   "metadata": {},
   "source": [
    "# The explanation of parameter tuning with cross-validation(CV)\n",
    "The Mean Squared Error (MSE) and its Standard Deviation (SD) are essential metrics used in parameter tuning with cross-validation (CV) to assess the performance and stability of predictive models. In the context of this analysis, MSE measures the average squared difference between the predicted and actual 'Flavor' scores of coffee samples, providing insights into the accuracy of the model's predictions. The calculated MSE value of approximately 0.0130 indicates that, on average, the squared difference between the predicted and actual scores is 0.0130, suggesting that the model's predictions are generally close to the true values.\n",
    "\n",
    "Furthermore, the Standard Deviation of MSE, computed to be approximately 0.0041, quantifies the variability in model performance across different folds of the cross-validation process. A lower standard deviation signifies more consistent performance, indicating that the model's predictions remain stable across various subsets of the data. These metrics play a crucial role in parameter tuning, guiding the selection of optimal model hyperparameters to improve predictive accuracy and generalization.\n",
    "\n",
    "In summary, the MSE and its standard deviation provide valuable insights into the effectiveness of parameter tuning with cross-validation, helping to optimize model performance and enhance predictive capabilities for coffee flavor estimation.\""
   ]
  },
  {
   "cell_type": "code",
   "execution_count": null,
   "id": "b23e717f",
   "metadata": {},
   "outputs": [],
   "source": []
  },
  {
   "cell_type": "code",
   "execution_count": null,
   "id": "9dadf389",
   "metadata": {},
   "outputs": [],
   "source": []
  }
 ],
 "metadata": {
  "kernelspec": {
   "display_name": "Python 3 (ipykernel)",
   "language": "python",
   "name": "python3"
  },
  "language_info": {
   "codemirror_mode": {
    "name": "ipython",
    "version": 3
   },
   "file_extension": ".py",
   "mimetype": "text/x-python",
   "name": "python",
   "nbconvert_exporter": "python",
   "pygments_lexer": "ipython3",
   "version": "3.11.5"
  }
 },
 "nbformat": 4,
 "nbformat_minor": 5
}
