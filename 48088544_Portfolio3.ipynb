{
 "cells": [
  {
   "cell_type": "markdown",
   "metadata": {
    "id": "n0ZKqZaTWkpg"
   },
   "source": [
    "# Portfolio Part 3 - Analysis of Mobile Price Data (2024 S1)"
   ]
  },
  {
   "cell_type": "markdown",
   "metadata": {
    "id": "O9R7rVmlXaMX"
   },
   "source": [
    "In this Portfolio task, you will work on a new dataset named 'Mobile Price Data', it contains numerous details about mobile phone hardware, specifications, and prices. Your main task is to train classification models to predict **mobile phone prices** ('price range' in the dataset)and evaluate the strengths and weaknesses of these models."
   ]
  },
  {
   "cell_type": "markdown",
   "metadata": {
    "id": "zHC8wWkVZVBG"
   },
   "source": [
    "Here's the explanation of each column:"
   ]
  },
  {
   "cell_type": "markdown",
   "metadata": {
    "id": "_O1tyfN3ZvE-"
   },
   "source": [
    "|Column|Meaning|\n",
    "|:-----:|:-----:|\n",
    "|battery power|Total energy a battery can store in one time measured in mAh|\n",
    "|blue|Has bluetooth or not|\n",
    "|clock speed|speed at which microprocessor executes instructions|\n",
    "|dual sim|Has dual sim support or not|\n",
    "|fc|Front Camera mega pixels|\n",
    "|four g|Has 4G or not|\n",
    "|int memory|Internal Memory in Gigabytes|\n",
    "|m dep|Mobile Depth in cm|\n",
    "|mobile wt|Weight of mobile phone|\n",
    "|n cores|Number of cores of processor|\n",
    "|pc|Primary Camera mega pixels|\n",
    "|px height|Pixel Resolution Height|\n",
    "|px width|Pixel Resolution Width|\n",
    "|ram|Random Access Memory in Mega Bytes|\n",
    "|sc h|Screen Height of mobile in cm|\n",
    "|sc w|Screen Width of mobile in cm|\n",
    "|talk time|longest time that a single battery charge will last when you are|\n",
    "|three g|Has 3G or not|\n",
    "|touch screen|Has touch screen or not|\n",
    "|wifi|Has wifi or not|\n",
    "|price range|This is the target variable with value of 0(low cost), 1(medium cost), 2(high cost) and 3(very high cost)|"
   ]
  },
  {
   "cell_type": "markdown",
   "metadata": {
    "id": "fmFqaGooclqa"
   },
   "source": [
    "Blue, dual sim, four g, three g, touch screen, and wifi are all binary attributes, 0 for not and 1 for yes."
   ]
  },
  {
   "cell_type": "markdown",
   "metadata": {
    "id": "o0VDQbC-es_8"
   },
   "source": [
    "Your high level goal in this notebook is to build and evaluate predictive models for 'price range' from other available features. More specifically, you need to **complete the following major steps**:\n",
    "\n",
    "1. ***Explore the data*** and ***clean the data if necessary***. For example, remove abnormal instanaces and replace missing values.\n",
    "\n",
    "2. ***Study the correlation*** between 'price range' with other features. And ***select the variables*** that you think are helpful for predicting the price range. We do not limit the number of variables.\n",
    "\n",
    "3. ***Split the dataset*** (Trainging set : Test set = 8 : 2)\n",
    "\n",
    "4. ***Train a logistic regression model*** to predict 'price range' based on the selected features (from the second step). ***Calculate the accuracy*** of your model. (You are required to report the accuracy from both training set and test set.) ***Explain your model and evaluate its performance*** (Is the model performing well? If yes, what factors might be contributing to the good performance of your model? If not, how can improvements be made?).\n",
    "\n",
    "5. ***Train a KNN model*** to predict 'price range' based on the selected features (you can use the features selected from the second step and set K with an ad-hoc manner in this step. ***Calculate the accuracy*** of your model. (You are required to report the accuracy from both training set and test set.)\n",
    "\n",
    "6. ***Tune the hyper-parameter K*** in KNN (Hints: GridsearchCV), ***visualize the results***, and ***explain*** how K influences the prediction performance.\n",
    "\n",
    "  Hints for visualization: You can use line chart to visualize K and mean accuracy scores on test set."
   ]
  },
  {
   "cell_type": "markdown",
   "metadata": {
    "id": "RAcIxzIldzSZ"
   },
   "source": [
    "Note 1: In this assignment, we no longer provide specific guidance and templates for each sub task. You should learn how to properly comment your notebook by yourself to make your notebook file readable.\n",
    "\n",
    "Note 2: You will not being evaluated on the accuracy of the model but on the process that you use to generate it and your explanation."
   ]
  },
  {
   "cell_type": "markdown",
   "metadata": {
    "id": "UpCBB45NV0p_"
   },
   "source": [
    "# (1) Explore the data"
   ]
  },
  {
   "cell_type": "code",
   "execution_count": 70,
   "metadata": {},
   "outputs": [
    {
     "name": "stdout",
     "output_type": "stream",
     "text": [
      "\u001b[1mFirst few rows of the dataset:\u001b[0m\n"
     ]
    },
    {
     "data": {
      "text/html": [
       "<div>\n",
       "<style scoped>\n",
       "    .dataframe tbody tr th:only-of-type {\n",
       "        vertical-align: middle;\n",
       "    }\n",
       "\n",
       "    .dataframe tbody tr th {\n",
       "        vertical-align: top;\n",
       "    }\n",
       "\n",
       "    .dataframe thead th {\n",
       "        text-align: right;\n",
       "    }\n",
       "</style>\n",
       "<table border=\"1\" class=\"dataframe\">\n",
       "  <thead>\n",
       "    <tr style=\"text-align: right;\">\n",
       "      <th></th>\n",
       "      <th>battery_power</th>\n",
       "      <th>blue</th>\n",
       "      <th>clock_speed</th>\n",
       "      <th>dual_sim</th>\n",
       "      <th>fc</th>\n",
       "      <th>four_g</th>\n",
       "      <th>int_memory</th>\n",
       "      <th>m_dep</th>\n",
       "      <th>mobile_wt</th>\n",
       "      <th>n_cores</th>\n",
       "      <th>...</th>\n",
       "      <th>px_height</th>\n",
       "      <th>px_width</th>\n",
       "      <th>ram</th>\n",
       "      <th>sc_h</th>\n",
       "      <th>sc_w</th>\n",
       "      <th>talk_time</th>\n",
       "      <th>three_g</th>\n",
       "      <th>touch_screen</th>\n",
       "      <th>wifi</th>\n",
       "      <th>price_range</th>\n",
       "    </tr>\n",
       "  </thead>\n",
       "  <tbody>\n",
       "    <tr>\n",
       "      <th>0</th>\n",
       "      <td>842</td>\n",
       "      <td>0</td>\n",
       "      <td>2.2</td>\n",
       "      <td>0</td>\n",
       "      <td>1</td>\n",
       "      <td>0</td>\n",
       "      <td>7.0</td>\n",
       "      <td>0.6</td>\n",
       "      <td>188</td>\n",
       "      <td>2</td>\n",
       "      <td>...</td>\n",
       "      <td>20</td>\n",
       "      <td>756.0</td>\n",
       "      <td>2549.0</td>\n",
       "      <td>9</td>\n",
       "      <td>7</td>\n",
       "      <td>19</td>\n",
       "      <td>0.0</td>\n",
       "      <td>0</td>\n",
       "      <td>1</td>\n",
       "      <td>1</td>\n",
       "    </tr>\n",
       "    <tr>\n",
       "      <th>1</th>\n",
       "      <td>1021</td>\n",
       "      <td>1</td>\n",
       "      <td>0.5</td>\n",
       "      <td>1</td>\n",
       "      <td>0</td>\n",
       "      <td>1</td>\n",
       "      <td>53.0</td>\n",
       "      <td>0.7</td>\n",
       "      <td>136</td>\n",
       "      <td>3</td>\n",
       "      <td>...</td>\n",
       "      <td>905</td>\n",
       "      <td>1988.0</td>\n",
       "      <td>2631.0</td>\n",
       "      <td>17</td>\n",
       "      <td>3</td>\n",
       "      <td>7</td>\n",
       "      <td>1.0</td>\n",
       "      <td>1</td>\n",
       "      <td>0</td>\n",
       "      <td>2</td>\n",
       "    </tr>\n",
       "    <tr>\n",
       "      <th>2</th>\n",
       "      <td>563</td>\n",
       "      <td>1</td>\n",
       "      <td>0.5</td>\n",
       "      <td>1</td>\n",
       "      <td>2</td>\n",
       "      <td>1</td>\n",
       "      <td>41.0</td>\n",
       "      <td>0.9</td>\n",
       "      <td>145</td>\n",
       "      <td>5</td>\n",
       "      <td>...</td>\n",
       "      <td>1263</td>\n",
       "      <td>1716.0</td>\n",
       "      <td>2603.0</td>\n",
       "      <td>11</td>\n",
       "      <td>2</td>\n",
       "      <td>9</td>\n",
       "      <td>1.0</td>\n",
       "      <td>1</td>\n",
       "      <td>0</td>\n",
       "      <td>2</td>\n",
       "    </tr>\n",
       "    <tr>\n",
       "      <th>3</th>\n",
       "      <td>615</td>\n",
       "      <td>1</td>\n",
       "      <td>2.5</td>\n",
       "      <td>0</td>\n",
       "      <td>0</td>\n",
       "      <td>0</td>\n",
       "      <td>10.0</td>\n",
       "      <td>0.8</td>\n",
       "      <td>131</td>\n",
       "      <td>6</td>\n",
       "      <td>...</td>\n",
       "      <td>1216</td>\n",
       "      <td>1786.0</td>\n",
       "      <td>2769.0</td>\n",
       "      <td>16</td>\n",
       "      <td>8</td>\n",
       "      <td>11</td>\n",
       "      <td>1.0</td>\n",
       "      <td>0</td>\n",
       "      <td>0</td>\n",
       "      <td>2</td>\n",
       "    </tr>\n",
       "    <tr>\n",
       "      <th>4</th>\n",
       "      <td>1821</td>\n",
       "      <td>1</td>\n",
       "      <td>1.2</td>\n",
       "      <td>0</td>\n",
       "      <td>13</td>\n",
       "      <td>1</td>\n",
       "      <td>44.0</td>\n",
       "      <td>0.6</td>\n",
       "      <td>141</td>\n",
       "      <td>2</td>\n",
       "      <td>...</td>\n",
       "      <td>1208</td>\n",
       "      <td>1212.0</td>\n",
       "      <td>1411.0</td>\n",
       "      <td>8</td>\n",
       "      <td>2</td>\n",
       "      <td>15</td>\n",
       "      <td>1.0</td>\n",
       "      <td>1</td>\n",
       "      <td>0</td>\n",
       "      <td>1</td>\n",
       "    </tr>\n",
       "  </tbody>\n",
       "</table>\n",
       "<p>5 rows × 21 columns</p>\n",
       "</div>"
      ],
      "text/plain": [
       "   battery_power  blue  clock_speed  dual_sim  fc  four_g  int_memory  m_dep  \\\n",
       "0            842     0          2.2         0   1       0         7.0    0.6   \n",
       "1           1021     1          0.5         1   0       1        53.0    0.7   \n",
       "2            563     1          0.5         1   2       1        41.0    0.9   \n",
       "3            615     1          2.5         0   0       0        10.0    0.8   \n",
       "4           1821     1          1.2         0  13       1        44.0    0.6   \n",
       "\n",
       "   mobile_wt  n_cores  ...  px_height  px_width     ram  sc_h  sc_w  \\\n",
       "0        188        2  ...         20     756.0  2549.0     9     7   \n",
       "1        136        3  ...        905    1988.0  2631.0    17     3   \n",
       "2        145        5  ...       1263    1716.0  2603.0    11     2   \n",
       "3        131        6  ...       1216    1786.0  2769.0    16     8   \n",
       "4        141        2  ...       1208    1212.0  1411.0     8     2   \n",
       "\n",
       "   talk_time  three_g  touch_screen  wifi  price_range  \n",
       "0         19      0.0             0     1            1  \n",
       "1          7      1.0             1     0            2  \n",
       "2          9      1.0             1     0            2  \n",
       "3         11      1.0             0     0            2  \n",
       "4         15      1.0             1     0            1  \n",
       "\n",
       "[5 rows x 21 columns]"
      ]
     },
     "execution_count": 70,
     "metadata": {},
     "output_type": "execute_result"
    }
   ],
   "source": [
    "# Import necessary libraries\n",
    "import pandas as pd\n",
    "import numpy as np\n",
    "import matplotlib.pyplot as plt\n",
    "%matplotlib inline\n",
    "\n",
    "import matplotlib.pyplot as plt\n",
    "import seaborn as sns\n",
    "\n",
    "from sklearn.model_selection import train_test_split\n",
    "from sklearn.linear_model import LogisticRegression\n",
    "from sklearn.metrics import accuracy_score\n",
    "\n",
    "from sklearn.neighbors import KNeighborsClassifier\n",
    "from sklearn.model_selection import GridSearchCV\n",
    "\n",
    "#define function to bold text\n",
    "\n",
    "def bold_text(text):\n",
    "  return \"\\033[1m\" + text + \"\\033[0m\"\n",
    "\n",
    "# Import the dataset from a CSV file\n",
    "original_dataset = pd.read_csv('Mobile_Price_Data.csv')\n",
    "\n",
    "# Display the first few rows of the dataset to understand its structure\n",
    "print(bold_text(\"First few rows of the dataset:\"))\n",
    "original_dataset.head()\n",
    "\n"
   ]
  },
  {
   "cell_type": "code",
   "execution_count": 71,
   "metadata": {},
   "outputs": [
    {
     "name": "stdout",
     "output_type": "stream",
     "text": [
      "\u001b[1mStatistical summary of the dataset:\u001b[0m\n"
     ]
    },
    {
     "data": {
      "text/html": [
       "<div>\n",
       "<style scoped>\n",
       "    .dataframe tbody tr th:only-of-type {\n",
       "        vertical-align: middle;\n",
       "    }\n",
       "\n",
       "    .dataframe tbody tr th {\n",
       "        vertical-align: top;\n",
       "    }\n",
       "\n",
       "    .dataframe thead th {\n",
       "        text-align: right;\n",
       "    }\n",
       "</style>\n",
       "<table border=\"1\" class=\"dataframe\">\n",
       "  <thead>\n",
       "    <tr style=\"text-align: right;\">\n",
       "      <th></th>\n",
       "      <th>battery_power</th>\n",
       "      <th>blue</th>\n",
       "      <th>clock_speed</th>\n",
       "      <th>dual_sim</th>\n",
       "      <th>fc</th>\n",
       "      <th>four_g</th>\n",
       "      <th>int_memory</th>\n",
       "      <th>m_dep</th>\n",
       "      <th>mobile_wt</th>\n",
       "      <th>n_cores</th>\n",
       "      <th>...</th>\n",
       "      <th>px_height</th>\n",
       "      <th>px_width</th>\n",
       "      <th>ram</th>\n",
       "      <th>sc_h</th>\n",
       "      <th>sc_w</th>\n",
       "      <th>talk_time</th>\n",
       "      <th>three_g</th>\n",
       "      <th>touch_screen</th>\n",
       "      <th>wifi</th>\n",
       "      <th>price_range</th>\n",
       "    </tr>\n",
       "  </thead>\n",
       "  <tbody>\n",
       "    <tr>\n",
       "      <th>count</th>\n",
       "      <td>2000.000000</td>\n",
       "      <td>2000.0000</td>\n",
       "      <td>2000.000000</td>\n",
       "      <td>2000.000000</td>\n",
       "      <td>2000.000000</td>\n",
       "      <td>2000.000000</td>\n",
       "      <td>1999.000000</td>\n",
       "      <td>1999.000000</td>\n",
       "      <td>2000.000000</td>\n",
       "      <td>2000.000000</td>\n",
       "      <td>...</td>\n",
       "      <td>2000.000000</td>\n",
       "      <td>1999.000000</td>\n",
       "      <td>1999.000000</td>\n",
       "      <td>2000.000000</td>\n",
       "      <td>2000.000000</td>\n",
       "      <td>2000.000000</td>\n",
       "      <td>1999.000000</td>\n",
       "      <td>2000.000000</td>\n",
       "      <td>2000.000000</td>\n",
       "      <td>2000.000000</td>\n",
       "    </tr>\n",
       "    <tr>\n",
       "      <th>mean</th>\n",
       "      <td>1238.518500</td>\n",
       "      <td>0.4950</td>\n",
       "      <td>1.522250</td>\n",
       "      <td>0.509500</td>\n",
       "      <td>4.309500</td>\n",
       "      <td>0.521500</td>\n",
       "      <td>32.035018</td>\n",
       "      <td>0.501601</td>\n",
       "      <td>140.249000</td>\n",
       "      <td>4.520500</td>\n",
       "      <td>...</td>\n",
       "      <td>645.108000</td>\n",
       "      <td>1251.566783</td>\n",
       "      <td>2124.218609</td>\n",
       "      <td>12.306500</td>\n",
       "      <td>5.767000</td>\n",
       "      <td>11.011000</td>\n",
       "      <td>0.761381</td>\n",
       "      <td>0.503000</td>\n",
       "      <td>0.507000</td>\n",
       "      <td>1.500000</td>\n",
       "    </tr>\n",
       "    <tr>\n",
       "      <th>std</th>\n",
       "      <td>439.418206</td>\n",
       "      <td>0.5001</td>\n",
       "      <td>0.816004</td>\n",
       "      <td>0.500035</td>\n",
       "      <td>4.341444</td>\n",
       "      <td>0.499662</td>\n",
       "      <td>18.142986</td>\n",
       "      <td>0.288411</td>\n",
       "      <td>35.399655</td>\n",
       "      <td>2.287837</td>\n",
       "      <td>...</td>\n",
       "      <td>443.780811</td>\n",
       "      <td>432.301505</td>\n",
       "      <td>1085.003435</td>\n",
       "      <td>4.213245</td>\n",
       "      <td>4.356398</td>\n",
       "      <td>5.463955</td>\n",
       "      <td>0.426346</td>\n",
       "      <td>0.500116</td>\n",
       "      <td>0.500076</td>\n",
       "      <td>1.118314</td>\n",
       "    </tr>\n",
       "    <tr>\n",
       "      <th>min</th>\n",
       "      <td>501.000000</td>\n",
       "      <td>0.0000</td>\n",
       "      <td>0.500000</td>\n",
       "      <td>0.000000</td>\n",
       "      <td>0.000000</td>\n",
       "      <td>0.000000</td>\n",
       "      <td>2.000000</td>\n",
       "      <td>0.100000</td>\n",
       "      <td>80.000000</td>\n",
       "      <td>1.000000</td>\n",
       "      <td>...</td>\n",
       "      <td>0.000000</td>\n",
       "      <td>500.000000</td>\n",
       "      <td>256.000000</td>\n",
       "      <td>5.000000</td>\n",
       "      <td>0.000000</td>\n",
       "      <td>2.000000</td>\n",
       "      <td>0.000000</td>\n",
       "      <td>0.000000</td>\n",
       "      <td>0.000000</td>\n",
       "      <td>0.000000</td>\n",
       "    </tr>\n",
       "    <tr>\n",
       "      <th>25%</th>\n",
       "      <td>851.750000</td>\n",
       "      <td>0.0000</td>\n",
       "      <td>0.700000</td>\n",
       "      <td>0.000000</td>\n",
       "      <td>1.000000</td>\n",
       "      <td>0.000000</td>\n",
       "      <td>16.000000</td>\n",
       "      <td>0.200000</td>\n",
       "      <td>109.000000</td>\n",
       "      <td>3.000000</td>\n",
       "      <td>...</td>\n",
       "      <td>282.750000</td>\n",
       "      <td>874.500000</td>\n",
       "      <td>1207.000000</td>\n",
       "      <td>9.000000</td>\n",
       "      <td>2.000000</td>\n",
       "      <td>6.000000</td>\n",
       "      <td>1.000000</td>\n",
       "      <td>0.000000</td>\n",
       "      <td>0.000000</td>\n",
       "      <td>0.750000</td>\n",
       "    </tr>\n",
       "    <tr>\n",
       "      <th>50%</th>\n",
       "      <td>1226.000000</td>\n",
       "      <td>0.0000</td>\n",
       "      <td>1.500000</td>\n",
       "      <td>1.000000</td>\n",
       "      <td>3.000000</td>\n",
       "      <td>1.000000</td>\n",
       "      <td>32.000000</td>\n",
       "      <td>0.500000</td>\n",
       "      <td>141.000000</td>\n",
       "      <td>4.000000</td>\n",
       "      <td>...</td>\n",
       "      <td>564.000000</td>\n",
       "      <td>1247.000000</td>\n",
       "      <td>2147.000000</td>\n",
       "      <td>12.000000</td>\n",
       "      <td>5.000000</td>\n",
       "      <td>11.000000</td>\n",
       "      <td>1.000000</td>\n",
       "      <td>1.000000</td>\n",
       "      <td>1.000000</td>\n",
       "      <td>1.500000</td>\n",
       "    </tr>\n",
       "    <tr>\n",
       "      <th>75%</th>\n",
       "      <td>1615.250000</td>\n",
       "      <td>1.0000</td>\n",
       "      <td>2.200000</td>\n",
       "      <td>1.000000</td>\n",
       "      <td>7.000000</td>\n",
       "      <td>1.000000</td>\n",
       "      <td>48.000000</td>\n",
       "      <td>0.800000</td>\n",
       "      <td>170.000000</td>\n",
       "      <td>7.000000</td>\n",
       "      <td>...</td>\n",
       "      <td>947.250000</td>\n",
       "      <td>1633.000000</td>\n",
       "      <td>3065.000000</td>\n",
       "      <td>16.000000</td>\n",
       "      <td>9.000000</td>\n",
       "      <td>16.000000</td>\n",
       "      <td>1.000000</td>\n",
       "      <td>1.000000</td>\n",
       "      <td>1.000000</td>\n",
       "      <td>2.250000</td>\n",
       "    </tr>\n",
       "    <tr>\n",
       "      <th>max</th>\n",
       "      <td>1998.000000</td>\n",
       "      <td>1.0000</td>\n",
       "      <td>3.000000</td>\n",
       "      <td>1.000000</td>\n",
       "      <td>19.000000</td>\n",
       "      <td>1.000000</td>\n",
       "      <td>64.000000</td>\n",
       "      <td>1.000000</td>\n",
       "      <td>200.000000</td>\n",
       "      <td>8.000000</td>\n",
       "      <td>...</td>\n",
       "      <td>1960.000000</td>\n",
       "      <td>1998.000000</td>\n",
       "      <td>3998.000000</td>\n",
       "      <td>19.000000</td>\n",
       "      <td>18.000000</td>\n",
       "      <td>20.000000</td>\n",
       "      <td>1.000000</td>\n",
       "      <td>1.000000</td>\n",
       "      <td>1.000000</td>\n",
       "      <td>3.000000</td>\n",
       "    </tr>\n",
       "  </tbody>\n",
       "</table>\n",
       "<p>8 rows × 21 columns</p>\n",
       "</div>"
      ],
      "text/plain": [
       "       battery_power       blue  clock_speed     dual_sim           fc  \\\n",
       "count    2000.000000  2000.0000  2000.000000  2000.000000  2000.000000   \n",
       "mean     1238.518500     0.4950     1.522250     0.509500     4.309500   \n",
       "std       439.418206     0.5001     0.816004     0.500035     4.341444   \n",
       "min       501.000000     0.0000     0.500000     0.000000     0.000000   \n",
       "25%       851.750000     0.0000     0.700000     0.000000     1.000000   \n",
       "50%      1226.000000     0.0000     1.500000     1.000000     3.000000   \n",
       "75%      1615.250000     1.0000     2.200000     1.000000     7.000000   \n",
       "max      1998.000000     1.0000     3.000000     1.000000    19.000000   \n",
       "\n",
       "            four_g   int_memory        m_dep    mobile_wt      n_cores  ...  \\\n",
       "count  2000.000000  1999.000000  1999.000000  2000.000000  2000.000000  ...   \n",
       "mean      0.521500    32.035018     0.501601   140.249000     4.520500  ...   \n",
       "std       0.499662    18.142986     0.288411    35.399655     2.287837  ...   \n",
       "min       0.000000     2.000000     0.100000    80.000000     1.000000  ...   \n",
       "25%       0.000000    16.000000     0.200000   109.000000     3.000000  ...   \n",
       "50%       1.000000    32.000000     0.500000   141.000000     4.000000  ...   \n",
       "75%       1.000000    48.000000     0.800000   170.000000     7.000000  ...   \n",
       "max       1.000000    64.000000     1.000000   200.000000     8.000000  ...   \n",
       "\n",
       "         px_height     px_width          ram         sc_h         sc_w  \\\n",
       "count  2000.000000  1999.000000  1999.000000  2000.000000  2000.000000   \n",
       "mean    645.108000  1251.566783  2124.218609    12.306500     5.767000   \n",
       "std     443.780811   432.301505  1085.003435     4.213245     4.356398   \n",
       "min       0.000000   500.000000   256.000000     5.000000     0.000000   \n",
       "25%     282.750000   874.500000  1207.000000     9.000000     2.000000   \n",
       "50%     564.000000  1247.000000  2147.000000    12.000000     5.000000   \n",
       "75%     947.250000  1633.000000  3065.000000    16.000000     9.000000   \n",
       "max    1960.000000  1998.000000  3998.000000    19.000000    18.000000   \n",
       "\n",
       "         talk_time      three_g  touch_screen         wifi  price_range  \n",
       "count  2000.000000  1999.000000   2000.000000  2000.000000  2000.000000  \n",
       "mean     11.011000     0.761381      0.503000     0.507000     1.500000  \n",
       "std       5.463955     0.426346      0.500116     0.500076     1.118314  \n",
       "min       2.000000     0.000000      0.000000     0.000000     0.000000  \n",
       "25%       6.000000     1.000000      0.000000     0.000000     0.750000  \n",
       "50%      11.000000     1.000000      1.000000     1.000000     1.500000  \n",
       "75%      16.000000     1.000000      1.000000     1.000000     2.250000  \n",
       "max      20.000000     1.000000      1.000000     1.000000     3.000000  \n",
       "\n",
       "[8 rows x 21 columns]"
      ]
     },
     "execution_count": 71,
     "metadata": {},
     "output_type": "execute_result"
    }
   ],
   "source": [
    "# Display statistical descriptions of the dataset to get insights into the numerical features\n",
    "print(bold_text(\"Statistical summary of the dataset:\"))\n",
    "original_dataset.describe()"
   ]
  },
  {
   "cell_type": "code",
   "execution_count": 72,
   "metadata": {},
   "outputs": [
    {
     "name": "stdout",
     "output_type": "stream",
     "text": [
      "\u001b[1mOriginal Dataset Row Count:\u001b[0m 2000\n",
      "\u001b[1mTotal of NaN values:\u001b[0m 5\n",
      "NaN Value\n"
     ]
    },
    {
     "data": {
      "text/plain": [
       "battery_power    0\n",
       "blue             0\n",
       "clock_speed      0\n",
       "dual_sim         0\n",
       "fc               0\n",
       "four_g           0\n",
       "int_memory       1\n",
       "m_dep            1\n",
       "mobile_wt        0\n",
       "n_cores          0\n",
       "pc               0\n",
       "px_height        0\n",
       "px_width         1\n",
       "ram              1\n",
       "sc_h             0\n",
       "sc_w             0\n",
       "talk_time        0\n",
       "three_g          1\n",
       "touch_screen     0\n",
       "wifi             0\n",
       "price_range      0\n",
       "dtype: int64"
      ]
     },
     "execution_count": 72,
     "metadata": {},
     "output_type": "execute_result"
    }
   ],
   "source": [
    "#check if there any null values in data set\n",
    "\n",
    "nan_values = original_dataset.isnull().sum()\n",
    "nan_count = original_dataset.isnull().sum().sum()\n",
    "original_dataset_length = len(original_dataset)\n",
    "\n",
    "print(bold_text('Original Dataset Row Count:'), original_dataset_length)\n",
    "print(bold_text('Total of NaN values:'), nan_count)\n",
    "\n",
    "# Display NaN values per column for detailed analysis\n",
    "print(\"NaN Value\")\n",
    "nan_values"
   ]
  },
  {
   "cell_type": "code",
   "execution_count": 73,
   "metadata": {},
   "outputs": [
    {
     "name": "stdout",
     "output_type": "stream",
     "text": [
      "\u001b[1mAnalysis dataset\u001b[0m\n",
      "battery_power    0\n",
      "blue             0\n",
      "clock_speed      0\n",
      "dual_sim         0\n",
      "fc               0\n",
      "four_g           0\n",
      "int_memory       0\n",
      "m_dep            0\n",
      "mobile_wt        0\n",
      "n_cores          0\n",
      "pc               0\n",
      "px_height        0\n",
      "px_width         0\n",
      "ram              0\n",
      "sc_h             0\n",
      "sc_w             0\n",
      "talk_time        0\n",
      "three_g          0\n",
      "touch_screen     0\n",
      "wifi             0\n",
      "price_range      0\n",
      "dtype: int64\n"
     ]
    }
   ],
   "source": [
    "# Replace missing values with the median for each column\n",
    "analysis_dataset = original_dataset.fillna(original_dataset.median())\n",
    "        \n",
    "# Check again for missing values to confirm all have been replaced\n",
    "missing_values_after = analysis_dataset.isnull().sum()\n",
    "\n",
    "# Display the status of missing values after replacement to ensure there are no remaining NaNs\n",
    "print(bold_text(\"Analysis dataset\"))\n",
    "print(missing_values_after)"
   ]
  },
  {
   "cell_type": "markdown",
   "metadata": {},
   "source": [
    "# (2) Study the correlation"
   ]
  },
  {
   "cell_type": "code",
   "execution_count": 74,
   "metadata": {},
   "outputs": [
    {
     "name": "stdout",
     "output_type": "stream",
     "text": [
      "price_range      1.000000\n",
      "ram              0.917039\n",
      "battery_power    0.200723\n",
      "px_width         0.165668\n",
      "px_height        0.148858\n",
      "int_memory       0.044169\n",
      "sc_w             0.038711\n",
      "pc               0.033599\n",
      "three_g          0.023611\n",
      "sc_h             0.022986\n",
      "fc               0.021998\n",
      "talk_time        0.021859\n",
      "blue             0.020573\n",
      "wifi             0.018785\n",
      "dual_sim         0.017444\n",
      "four_g           0.014772\n",
      "n_cores          0.004399\n",
      "m_dep            0.000155\n",
      "clock_speed     -0.006606\n",
      "mobile_wt       -0.030302\n",
      "touch_screen    -0.030411\n",
      "Name: price_range, dtype: float64\n"
     ]
    }
   ],
   "source": [
    "# Calculate the correlation matrix for the analysis dataset\n",
    "correlation_data = analysis_dataset.corr()\n",
    "\n",
    "price_correlations = correlation_matrix['price_range'].sort_values(ascending=False)\n",
    "print(price_correlations)"
   ]
  },
  {
   "cell_type": "markdown",
   "metadata": {},
   "source": [
    "# Correlations explanation: \n",
    "\n",
    "RAM has a very high correlation of about 0.92 with the 'price_range', making it a strong predictor of higher phone prices. Other features like 'battery_power', 'px_width', and 'px_height' also positively correlate, suggesting that better battery life and higher screen resolutions typically indicate more expensive models.\n",
    "\n",
    "However, features such as 'int_memory', 'sc_w', and 'pc' show lower correlations, affecting the price less significantly. Features with negative correlations like 'mobile_wt', 'touch_screen', and 'clock_speed' suggest that heavier phones might be cheaper and advanced features do not always lead to higher prices."
   ]
  },
  {
   "cell_type": "markdown",
   "metadata": {},
   "source": [
    "# (3) Preparing data by spliting"
   ]
  },
  {
   "cell_type": "code",
   "execution_count": 75,
   "metadata": {},
   "outputs": [],
   "source": [
    "# Define the feature set and the target variable\n",
    "x = analysis_dataset[['ram', 'battery_power', 'px_width', 'px_height']]\n",
    "y = analysis_dataset['price_range']\n",
    "\n",
    "# Split the dataset into training and testing sets\n",
    "x_train, x_test, y_train, y_test = train_test_split(x, y, test_size=0.2, random_state=142)"
   ]
  },
  {
   "cell_type": "markdown",
   "metadata": {},
   "source": [
    "# (4) Train a logistic regression mode"
   ]
  },
  {
   "cell_type": "code",
   "execution_count": 76,
   "metadata": {},
   "outputs": [
    {
     "name": "stdout",
     "output_type": "stream",
     "text": [
      "Training set accuracy: 0.960625\n",
      "Test set accuracy: 0.96\n"
     ]
    }
   ],
   "source": [
    "# Create a logistic regression model\n",
    "logistic_model = LogisticRegression(max_iter=1000)\n",
    "\n",
    "# Train the model on the training data\n",
    "logistic_model.fit(x_train, y_train)\n",
    "\n",
    "\n",
    "# Predict the price range on the test set\n",
    "train_predictions = logistic_model.predict(x_train)\n",
    "test_predictions = logistic_model.predict(x_test)\n",
    "\n",
    "# Calculate the accuracy of the model\n",
    "accuracy_train = accuracy_score(y_train, y_train_pred)\n",
    "accuracy_test = accuracy_score(y_test, y_test_pred)\n",
    "\n",
    "print(\"Training set accuracy:\", accuracy_train)\n",
    "print(\"Test set accuracy:\", accuracy_test)"
   ]
  },
  {
   "cell_type": "markdown",
   "metadata": {},
   "source": [
    "## The Logistic Regression Model Explanation:\n",
    "The logistic regression model displays strong performance, achieving an accuracy of about 96.06% on the training set and 96% on the testing set. The similar accuracy rates between the training and testing datasets suggest that the model generalizes well. The proximity of the test accuracy to the training accuracy demonstrates that the model is effectively balanced, avoiding both overfitting and underfitting, and is reliable in predicting outcomes on new data."
   ]
  },
  {
   "cell_type": "markdown",
   "metadata": {},
   "source": [
    "# (5) Train a K-Nearest Neighbors (KNN) model"
   ]
  },
  {
   "cell_type": "code",
   "execution_count": 77,
   "metadata": {},
   "outputs": [
    {
     "name": "stdout",
     "output_type": "stream",
     "text": [
      "Training set accuracy: 0.949375\n",
      "Test set accuracy: 0.92\n"
     ]
    }
   ],
   "source": [
    "# Create a KNN model with an initial choice of k=5\n",
    "knn_classifier = KNeighborsClassifier(n_neighbors=5)\n",
    "\n",
    "# Train the KNN classifier on the training data\n",
    "knn_classifier.fit(x_train, y_train)\n",
    "\n",
    "# Predict the price range on both the training and test sets using KNN\n",
    "train_knn_predictions = knn_classifier.predict(x_train)\n",
    "test_knn_predictions = knn_classifier.predict(x_test)\n",
    "\n",
    "# Calculate the accuracy of the KNN model on both the training and test datasets\n",
    "accuracy_knn_train = accuracy_score(y_train, train_knn_predictions)\n",
    "accuracy_knn_test = accuracy_score(y_test, test_knn_predictions)\n",
    "\n",
    "# Print the accuracy results for the KNN classifier\n",
    "print(\"Training set accuracy:\", accuracy_knn_train)\n",
    "print(\"Test set accuracy:\", accuracy_knn_test)"
   ]
  },
  {
   "cell_type": "markdown",
   "metadata": {},
   "source": [
    "## K-Nearest Neighbors (KNN) Model Explanation:\n",
    "For the K-Nearest Neighbors (KNN) model with a fixed k=5, the training accuracy was about 94.93%, and the test accuracy was slightly lower at 92%. This suggests that while the model with k=5 is performing adequately, there is potential for improvement. The gap in performance between the training and test sets indicates that the KNN model could benefit from additional tuning of its hyperparameters."
   ]
  },
  {
   "cell_type": "code",
   "execution_count": 78,
   "metadata": {},
   "outputs": [
    {
     "name": "stdout",
     "output_type": "stream",
     "text": [
      "Best k: 21\n",
      "Cross-validation best accuracy: 0.9256250000000001\n",
      "Test set accuracy with best k: 0.945\n"
     ]
    }
   ],
   "source": [
    "# Define the range of k values to test\n",
    "k_range = {'n_neighbors': np.arange(1, 30)}\n",
    "\n",
    "# Initialize the KNN classifier\n",
    "knn_classifier = KNeighborsClassifier()\n",
    "\n",
    "# Set up GridSearchCV with 5-fold cross-validation to find the optimal k\n",
    "knn_grid_search = GridSearchCV(knn_classifier, k_range, cv=5, scoring='accuracy')\n",
    "\n",
    "# Fit the GridSearchCV to the training data\n",
    "knn_grid_search.fit(x_train, y_train)\n",
    "\n",
    "# Extract the best parameters, accuracy from CV, and the best model\n",
    "optimal_k = knn_grid_search.best_params_['n_neighbors']\n",
    "cv_best_accuracy = knn_grid_search.best_score_\n",
    "optimal_knn_model = knn_grid_search.best_estimator_\n",
    "\n",
    "# Use the best KNN model to predict on the test set\n",
    "test_predictions_optimal = optimal_knn_model.predict(x_test)\n",
    "test_accuracy_optimal = accuracy_score(y_test, test_predictions_optimal)\n",
    "\n",
    "# Output the best k value and accuracies\n",
    "print(\"Best k:\", optimal_k)\n",
    "print(\"Cross-validation best accuracy:\", cv_best_accuracy)\n",
    "print(\"Test set accuracy with best k:\", test_accuracy_optimal)\n"
   ]
  },
  {
   "cell_type": "markdown",
   "metadata": {},
   "source": [
    "## K-Nearest Neighbors (KNN) Model and Hyperparameter Tuning Explanation:\n",
    "At first, the KNN model with k=5 neighbors had a solid training accuracy of about 94.93% and a test accuracy of 92%. But when the hyperparameter k was adjusted using a grid search, the best value turned out to be k=21. This change increased the test accuracy to 94.5%. This improvement in test results highlights how crucial it is to fine-tune hyperparameters to enhance the model's performance. The best choice of 21 neighbors shows that using a wider range of neighbors can lead to more reliable generalization and predictions for this dataset. It also shows that KNN's effectiveness really depends on selecting the right k, and tweaking it can greatly boost the model's ability to predict accurately."
   ]
  },
  {
   "cell_type": "markdown",
   "metadata": {},
   "source": [
    "# (6) Tune the hyper-parameter K"
   ]
  },
  {
   "cell_type": "code",
   "execution_count": 79,
   "metadata": {},
   "outputs": [
    {
     "data": {
      "image/png": "[encoded data removed]",
      "text/plain": [
       "<Figure size 1000x600 with 1 Axes>"
      ]
     },
     "metadata": {},
     "output_type": "display_data"
    }
   ],
   "source": [
    "# Extract mean test scores for each k value tested in the GridSearchCV\n",
    "mean_test_scores = grid_knn.cv_results_['mean_test_score']\n",
    "k_values = np.arange(1, 30)\n",
    "\n",
    "# Create a plot to visualize the relationship between k values and cross-validated accuracy\n",
    "plt.figure(figsize=(10, 6))\n",
    "plt.plot(k_values, mean_test_scores, marker='o', linestyle='-', color='red')  # Enhanced color name for clarity\n",
    "plt.xlabel('Number of Neighbors: K')  # Label for x-axis\n",
    "plt.ylabel('Cross-Validated Accuracy')  # Label for y-axis\n",
    "plt.title('Comparison of K value and Average Accuracy')  # Title of the plot\n",
    "plt.grid(True)  # Enable grid for better readability of the plot\n",
    "plt.show()  # Display the plot\n"
   ]
  },
  {
   "cell_type": "markdown",
   "metadata": {},
   "source": [
    "# Chart explanation:\n",
    "The chart \"Comparison of K value and Average Accuracy\" shows how the K-Nearest Neighbors (KNN) model's accuracy changes with different values of K, the number of neighbors it uses to make predictions.\n",
    "\n",
    "Starting with K at 1, we see that the model’s accuracy jumps up quickly as K increases to about 5, indicating that a very low K isn’t considering enough information for strong predictions. As K gets a little higher, the accuracy starts to go up and down a lot between K = 5 and K = 20. This means the model's performance is really sensitive to the exact K value in this range, maybe because of random noise in the data or how the points are laid out.\n",
    "\n",
    "When K gets past 20, the ups and downs in the chart calm down, which shows that having more neighbors can help make the model's predictions more consistent and less affected by random variations. The best accuracy is at K = 21, making it the prime choice for this dataset and model.\n",
    "\n",
    "In the beginning, with a very small K, the model is probably overfitting, paying too much attention to the training data’s noise. But as K gets bigger, the model might underfit as shown by a dip in accuracy until it balances out at K = 21. Though the chart doesn't show what happens if K keeps increasing, it’s likely that accuracy would start to fall off as the model begins to consider too many neighbors and becomes too general.\n",
    "\n",
    "This chart is really useful for understanding the role of K in the model's performance and highlights the need to adjust K to suit the specific data you're working with to get the best prediction accuracy."
   ]
  },
  {
   "cell_type": "markdown",
   "metadata": {},
   "source": [
    "# Name: Kanrawee(Kara) Vorametphasuk \n",
    "Student ID: 48088544"
   ]
  }
 ],
 "metadata": {
  "colab": {
   "provenance": []
  },
  "kernelspec": {
   "display_name": "Python 3 (ipykernel)",
   "language": "python",
   "name": "python3"
  },
  "language_info": {
   "codemirror_mode": {
    "name": "ipython",
    "version": 3
   },
   "file_extension": ".py",
   "mimetype": "text/x-python",
   "name": "python",
   "nbconvert_exporter": "python",
   "pygments_lexer": "ipython3",
   "version": "3.11.5"
  }
 },
 "nbformat": 4,
 "nbformat_minor": 1
}
