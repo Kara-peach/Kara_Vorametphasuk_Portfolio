{
 "cells": [
  {
   "cell_type": "markdown",
   "id": "Z88FfJc9lA_T",
   "metadata": {
    "id": "Z88FfJc9lA_T"
   },
   "source": [
    "## Analysis of an E-commerce Dataset Part 2"
   ]
  },
  {
   "cell_type": "markdown",
   "id": "hoq0NwA9lA_V",
   "metadata": {
    "id": "hoq0NwA9lA_V"
   },
   "source": [
    "The goal of the second analysis task is to train linear regression models to predict users' ratings towards items. This involves a standard Data Science workflow: exploring data, building models, making predictions, and evaluating results. In this task, we will explore the impacts of feature selections and different sizes of training/testing data on the model performance. We will use another cleaned combined e-commerce sub-dataset that **is different from** the one in “Analysis of an E-commerce Dataset” task 1."
   ]
  },
  {
   "cell_type": "markdown",
   "id": "f9fd3NU_lA_W",
   "metadata": {
    "id": "f9fd3NU_lA_W"
   },
   "source": [
    "### Import Cleaned E-commerce Dataset\n",
    "The csv file named 'cleaned_ecommerce_dataset.csv' is provided. You may need to use the Pandas method, i.e., `read_csv`, for reading it. After that, please print out its total length."
   ]
  },
  {
   "cell_type": "code",
   "execution_count": null,
   "id": "bd3bd963",
   "metadata": {},
   "outputs": [],
   "source": [
    "# Calling all the imports will be used\n",
    "# Standard library imports\n",
    "import math\n",
    "\n",
    "# Third-party imports\n",
    "import matplotlib.pyplot as plt\n",
    "import numpy as np\n",
    "import pandas as pd\n",
    "import seaborn as sns\n",
    "from sklearn.linear_model import LinearRegression\n",
    "from sklearn.metrics import mean_squared_error, r2_score\n",
    "from sklearn.model_selection import train_test_split\n",
    "from sklearn.preprocessing import OrdinalEncoder\n",
    "\n",
    "# Enable inline plotting for matplotlib\n",
    "%matplotlib inline"
   ]
  },
  {
   "cell_type": "code",
   "execution_count": 51,
   "id": "PJrb2gtAlA_W",
   "metadata": {
    "id": "PJrb2gtAlA_W"
   },
   "outputs": [
    {
     "name": "stdout",
     "output_type": "stream",
     "text": [
      "The total length of data set is 2685\n"
     ]
    },
    {
     "data": {
      "text/html": [
       "<div>\n",
       "<style scoped>\n",
       "    .dataframe tbody tr th:only-of-type {\n",
       "        vertical-align: middle;\n",
       "    }\n",
       "\n",
       "    .dataframe tbody tr th {\n",
       "        vertical-align: top;\n",
       "    }\n",
       "\n",
       "    .dataframe thead th {\n",
       "        text-align: right;\n",
       "    }\n",
       "</style>\n",
       "<table border=\"1\" class=\"dataframe\">\n",
       "  <thead>\n",
       "    <tr style=\"text-align: right;\">\n",
       "      <th></th>\n",
       "      <th>userId</th>\n",
       "      <th>timestamp</th>\n",
       "      <th>rating</th>\n",
       "      <th>helpfulness</th>\n",
       "      <th>item_id</th>\n",
       "      <th>item_price</th>\n",
       "      <th>user_city</th>\n",
       "    </tr>\n",
       "  </thead>\n",
       "  <tbody>\n",
       "    <tr>\n",
       "      <th>count</th>\n",
       "      <td>2685.000000</td>\n",
       "      <td>2685.000000</td>\n",
       "      <td>2685.000000</td>\n",
       "      <td>2685.000000</td>\n",
       "      <td>2685.000000</td>\n",
       "      <td>2685.000000</td>\n",
       "      <td>2685.000000</td>\n",
       "    </tr>\n",
       "    <tr>\n",
       "      <th>mean</th>\n",
       "      <td>4673.237616</td>\n",
       "      <td>58812.687151</td>\n",
       "      <td>3.705028</td>\n",
       "      <td>3.908007</td>\n",
       "      <td>43.478585</td>\n",
       "      <td>83.091650</td>\n",
       "      <td>19.456983</td>\n",
       "    </tr>\n",
       "    <tr>\n",
       "      <th>std</th>\n",
       "      <td>3517.893437</td>\n",
       "      <td>37013.726118</td>\n",
       "      <td>1.346240</td>\n",
       "      <td>0.289069</td>\n",
       "      <td>26.630426</td>\n",
       "      <td>42.227558</td>\n",
       "      <td>11.397281</td>\n",
       "    </tr>\n",
       "    <tr>\n",
       "      <th>min</th>\n",
       "      <td>4.000000</td>\n",
       "      <td>10100.000000</td>\n",
       "      <td>1.000000</td>\n",
       "      <td>3.000000</td>\n",
       "      <td>0.000000</td>\n",
       "      <td>12.000000</td>\n",
       "      <td>0.000000</td>\n",
       "    </tr>\n",
       "    <tr>\n",
       "      <th>25%</th>\n",
       "      <td>1310.000000</td>\n",
       "      <td>22000.000000</td>\n",
       "      <td>3.000000</td>\n",
       "      <td>4.000000</td>\n",
       "      <td>21.000000</td>\n",
       "      <td>49.000000</td>\n",
       "      <td>9.000000</td>\n",
       "    </tr>\n",
       "    <tr>\n",
       "      <th>50%</th>\n",
       "      <td>4666.000000</td>\n",
       "      <td>52800.000000</td>\n",
       "      <td>4.000000</td>\n",
       "      <td>4.000000</td>\n",
       "      <td>42.000000</td>\n",
       "      <td>73.650000</td>\n",
       "      <td>19.000000</td>\n",
       "    </tr>\n",
       "    <tr>\n",
       "      <th>75%</th>\n",
       "      <td>7651.000000</td>\n",
       "      <td>91000.000000</td>\n",
       "      <td>5.000000</td>\n",
       "      <td>4.000000</td>\n",
       "      <td>67.000000</td>\n",
       "      <td>129.820000</td>\n",
       "      <td>28.000000</td>\n",
       "    </tr>\n",
       "    <tr>\n",
       "      <th>max</th>\n",
       "      <td>10779.000000</td>\n",
       "      <td>123199.000000</td>\n",
       "      <td>5.000000</td>\n",
       "      <td>4.000000</td>\n",
       "      <td>88.000000</td>\n",
       "      <td>149.000000</td>\n",
       "      <td>39.000000</td>\n",
       "    </tr>\n",
       "  </tbody>\n",
       "</table>\n",
       "</div>"
      ],
      "text/plain": [
       "             userId      timestamp       rating  helpfulness      item_id  \\\n",
       "count   2685.000000    2685.000000  2685.000000  2685.000000  2685.000000   \n",
       "mean    4673.237616   58812.687151     3.705028     3.908007    43.478585   \n",
       "std     3517.893437   37013.726118     1.346240     0.289069    26.630426   \n",
       "min        4.000000   10100.000000     1.000000     3.000000     0.000000   \n",
       "25%     1310.000000   22000.000000     3.000000     4.000000    21.000000   \n",
       "50%     4666.000000   52800.000000     4.000000     4.000000    42.000000   \n",
       "75%     7651.000000   91000.000000     5.000000     4.000000    67.000000   \n",
       "max    10779.000000  123199.000000     5.000000     4.000000    88.000000   \n",
       "\n",
       "        item_price    user_city  \n",
       "count  2685.000000  2685.000000  \n",
       "mean     83.091650    19.456983  \n",
       "std      42.227558    11.397281  \n",
       "min      12.000000     0.000000  \n",
       "25%      49.000000     9.000000  \n",
       "50%      73.650000    19.000000  \n",
       "75%     129.820000    28.000000  \n",
       "max     149.000000    39.000000  "
      ]
     },
     "execution_count": 51,
     "metadata": {},
     "output_type": "execute_result"
    }
   ],
   "source": [
    "#Define function to read the dataset\n",
    "dataset = pd.read_csv('cleaned_ecommerce_dataset.csv')\n",
    "\n",
    "#Print out the length of analysis data\n",
    "print('The total length of data set is', len(dataset))\n",
    "\n",
    "#display dataset description ('display the DataFrame')\n",
    "dataset.head()\n",
    "dataset.describe()"
   ]
  },
  {
   "cell_type": "markdown",
   "id": "aqbuU6rglA_X",
   "metadata": {
    "id": "aqbuU6rglA_X"
   },
   "source": [
    "### Explore the Dataset\n",
    "\n",
    "* Use the methods, i.e., `head()` and `info()`, to have a rough picture about the data, e.g., how many columns, and the data types of each column.\n",
    "* As our goal is to predict ratings given other columns, please get the correlations between helpfulness/gender/category/review and rating by using the `corr()` method.\n",
    "\n",
    "  Hints: To get the correlations between different features, you may need to first convert the categorical features (i.e., gender, category and review) into numerial values. For doing this, you may need to import `OrdinalEncoder` from `sklearn.preprocessing` (refer to the useful exmaples [here](https://pbpython.com/categorical-encoding.html))\n",
    "* Please provide ___necessary explanations/analysis___ on the correlations, and figure out which are the ___most___ and ___least___ corrleated features regarding rating. Try to ___discuss___ how the correlation will affect the final prediction results, if we use these features to train a regression model for rating prediction. In what follows, we will conduct experiments to verify your hypothesis."
   ]
  },
  {
   "cell_type": "code",
   "execution_count": 20,
   "id": "W3PImHiElA_X",
   "metadata": {
    "id": "W3PImHiElA_X"
   },
   "outputs": [
    {
     "data": {
      "text/html": [
       "<div>\n",
       "<style scoped>\n",
       "    .dataframe tbody tr th:only-of-type {\n",
       "        vertical-align: middle;\n",
       "    }\n",
       "\n",
       "    .dataframe tbody tr th {\n",
       "        vertical-align: top;\n",
       "    }\n",
       "\n",
       "    .dataframe thead th {\n",
       "        text-align: right;\n",
       "    }\n",
       "</style>\n",
       "<table border=\"1\" class=\"dataframe\">\n",
       "  <thead>\n",
       "    <tr style=\"text-align: right;\">\n",
       "      <th></th>\n",
       "      <th>userId</th>\n",
       "      <th>timestamp</th>\n",
       "      <th>review</th>\n",
       "      <th>item</th>\n",
       "      <th>rating</th>\n",
       "      <th>helpfulness</th>\n",
       "      <th>gender</th>\n",
       "      <th>category</th>\n",
       "      <th>item_id</th>\n",
       "      <th>item_price</th>\n",
       "      <th>user_city</th>\n",
       "    </tr>\n",
       "  </thead>\n",
       "  <tbody>\n",
       "    <tr>\n",
       "      <th>0</th>\n",
       "      <td>4081</td>\n",
       "      <td>71900</td>\n",
       "      <td>Not always McCrap</td>\n",
       "      <td>McDonald's</td>\n",
       "      <td>4.0</td>\n",
       "      <td>3.0</td>\n",
       "      <td>M</td>\n",
       "      <td>Restaurants &amp; Gourmet</td>\n",
       "      <td>41</td>\n",
       "      <td>30.74</td>\n",
       "      <td>4</td>\n",
       "    </tr>\n",
       "    <tr>\n",
       "      <th>1</th>\n",
       "      <td>4081</td>\n",
       "      <td>72000</td>\n",
       "      <td>I dropped the chalupa even before he told me to</td>\n",
       "      <td>Taco Bell</td>\n",
       "      <td>1.0</td>\n",
       "      <td>4.0</td>\n",
       "      <td>M</td>\n",
       "      <td>Restaurants &amp; Gourmet</td>\n",
       "      <td>74</td>\n",
       "      <td>108.30</td>\n",
       "      <td>4</td>\n",
       "    </tr>\n",
       "    <tr>\n",
       "      <th>2</th>\n",
       "      <td>4081</td>\n",
       "      <td>72000</td>\n",
       "      <td>The Wonderful World of Wendy</td>\n",
       "      <td>Wendy's</td>\n",
       "      <td>5.0</td>\n",
       "      <td>4.0</td>\n",
       "      <td>M</td>\n",
       "      <td>Restaurants &amp; Gourmet</td>\n",
       "      <td>84</td>\n",
       "      <td>69.00</td>\n",
       "      <td>4</td>\n",
       "    </tr>\n",
       "    <tr>\n",
       "      <th>3</th>\n",
       "      <td>4081</td>\n",
       "      <td>100399</td>\n",
       "      <td>They actually did it</td>\n",
       "      <td>South Park: Bigger, Longer &amp; Uncut</td>\n",
       "      <td>5.0</td>\n",
       "      <td>3.0</td>\n",
       "      <td>M</td>\n",
       "      <td>Movies</td>\n",
       "      <td>68</td>\n",
       "      <td>143.11</td>\n",
       "      <td>4</td>\n",
       "    </tr>\n",
       "    <tr>\n",
       "      <th>4</th>\n",
       "      <td>4081</td>\n",
       "      <td>100399</td>\n",
       "      <td>Hey! Gimme some pie!</td>\n",
       "      <td>American Pie</td>\n",
       "      <td>3.0</td>\n",
       "      <td>3.0</td>\n",
       "      <td>M</td>\n",
       "      <td>Movies</td>\n",
       "      <td>6</td>\n",
       "      <td>117.89</td>\n",
       "      <td>4</td>\n",
       "    </tr>\n",
       "  </tbody>\n",
       "</table>\n",
       "</div>"
      ],
      "text/plain": [
       "   userId  timestamp                                           review  \\\n",
       "0    4081      71900                                Not always McCrap   \n",
       "1    4081      72000  I dropped the chalupa even before he told me to   \n",
       "2    4081      72000                     The Wonderful World of Wendy   \n",
       "3    4081     100399                             They actually did it   \n",
       "4    4081     100399                             Hey! Gimme some pie!   \n",
       "\n",
       "                                 item  rating  helpfulness gender  \\\n",
       "0                          McDonald's     4.0          3.0      M   \n",
       "1                           Taco Bell     1.0          4.0      M   \n",
       "2                             Wendy's     5.0          4.0      M   \n",
       "3  South Park: Bigger, Longer & Uncut     5.0          3.0      M   \n",
       "4                        American Pie     3.0          3.0      M   \n",
       "\n",
       "                category  item_id  item_price  user_city  \n",
       "0  Restaurants & Gourmet       41       30.74          4  \n",
       "1  Restaurants & Gourmet       74      108.30          4  \n",
       "2  Restaurants & Gourmet       84       69.00          4  \n",
       "3                 Movies       68      143.11          4  \n",
       "4                 Movies        6      117.89          4  "
      ]
     },
     "execution_count": 20,
     "metadata": {},
     "output_type": "execute_result"
    }
   ],
   "source": [
    "#display dataset description to have an overall picture about the data ('display the DataFrame') \n",
    "dataset.head()"
   ]
  },
  {
   "cell_type": "code",
   "execution_count": 21,
   "id": "c156802c",
   "metadata": {},
   "outputs": [
    {
     "name": "stdout",
     "output_type": "stream",
     "text": [
      "<class 'pandas.core.frame.DataFrame'>\n",
      "RangeIndex: 2685 entries, 0 to 2684\n",
      "Data columns (total 11 columns):\n",
      " #   Column       Non-Null Count  Dtype  \n",
      "---  ------       --------------  -----  \n",
      " 0   userId       2685 non-null   int64  \n",
      " 1   timestamp    2685 non-null   int64  \n",
      " 2   review       2685 non-null   object \n",
      " 3   item         2685 non-null   object \n",
      " 4   rating       2685 non-null   float64\n",
      " 5   helpfulness  2685 non-null   float64\n",
      " 6   gender       2685 non-null   object \n",
      " 7   category     2685 non-null   object \n",
      " 8   item_id      2685 non-null   int64  \n",
      " 9   item_price   2685 non-null   float64\n",
      " 10  user_city    2685 non-null   int64  \n",
      "dtypes: float64(3), int64(4), object(4)\n",
      "memory usage: 230.9+ KB\n"
     ]
    }
   ],
   "source": [
    "# Display the overall information of dataset\n",
    "dataset.info()"
   ]
  },
  {
   "cell_type": "code",
   "execution_count": 52,
   "id": "423d80ab",
   "metadata": {},
   "outputs": [
    {
     "name": "stdout",
     "output_type": "stream",
     "text": [
      "Correlation between Gender and Rating: -0.03433661\n",
      "Correlation between Category and Rating: -0.16315765\n",
      "Correlation between Review and Rating: -0.03611839\n",
      "Correlation between Helpfulness and Rating: -0.00752334\n"
     ]
    }
   ],
   "source": [
    "# Create an instance of the OrdinalEncoder\n",
    "encoder = OrdinalEncoder()\n",
    "\n",
    "# Define the columns to be focused on for analysis\n",
    "focusing_columns = ['gender', 'category', 'review']\n",
    "\n",
    "# Create a copy of the dataset to perform analysis on\n",
    "analysis_data = dataset.copy()\n",
    "\n",
    "# Apply the OrdinalEncoder to the selected columns to convert categorical data to numerical format\n",
    "analysis_data[focusing_columns] = encoder.fit_transform(analysis_data[focusing_columns])\n",
    "\n",
    "# Generate a correlation matrix for all numerical features in the analysis data\n",
    "correlation_matrix = analysis_data.select_dtypes(include=[np.number]).corr()\n",
    "\n",
    "# Extract the correlations between the focused features and the 'helpfulness' against 'rating'\n",
    "focused_correlation = correlation_matrix.loc[focusing_columns + ['helpfulness'], 'rating']\n",
    "\n",
    "# Iterate over the focused correlation indices to print out the correlation values with 'rating'\n",
    "for feature in focused_correlation.index:\n",
    "    # Print the feature name (capitalized) along with its correlation to 'rating'\n",
    "    print('Correlation between %s and Rating: %.8f' % (feature.capitalize(), focused_correlation[feature]))\n"
   ]
  },
  {
   "cell_type": "code",
   "execution_count": 26,
   "id": "cd91d03a",
   "metadata": {},
   "outputs": [
    {
     "name": "stdout",
     "output_type": "stream",
     "text": [
      "<class 'pandas.core.frame.DataFrame'>\n",
      "RangeIndex: 2685 entries, 0 to 2684\n",
      "Data columns (total 11 columns):\n",
      " #   Column       Non-Null Count  Dtype  \n",
      "---  ------       --------------  -----  \n",
      " 0   userId       2685 non-null   int64  \n",
      " 1   timestamp    2685 non-null   int64  \n",
      " 2   review       2685 non-null   float64\n",
      " 3   item         2685 non-null   object \n",
      " 4   rating       2685 non-null   float64\n",
      " 5   helpfulness  2685 non-null   float64\n",
      " 6   gender       2685 non-null   float64\n",
      " 7   category     2685 non-null   float64\n",
      " 8   item_id      2685 non-null   int64  \n",
      " 9   item_price   2685 non-null   float64\n",
      " 10  user_city    2685 non-null   int64  \n",
      "dtypes: float64(6), int64(4), object(1)\n",
      "memory usage: 230.9+ KB\n"
     ]
    }
   ],
   "source": [
    "# Checking the data after converting if they are all numeric data\n",
    "analysis_data.info()"
   ]
  },
  {
   "cell_type": "markdown",
   "id": "4783430b",
   "metadata": {},
   "source": [
    "# Analysis correlation"
   ]
  },
  {
   "cell_type": "markdown",
   "id": "2616b704",
   "metadata": {},
   "source": [
    "The result shows the correlation coefficient (-0.007523) between \"helpfulness\" and \"rating\" is that there's essentially no linear relationship between these two variables. There appears to be no connection between the perceived helpfulness of a review and whether it has a high or low rating.\n",
    "\n",
    "It provides the inforamtion that shows the weak negative linear relationship between this two variables with the number of - 0.34337 which is close to 0 but still negative\n",
    "\n",
    "Weak Negative Correlation is seen this correlation\n",
    "\n",
    "Moreover, the most correlated feature is category\n",
    "and the least is helpfulness according to correlation result"
   ]
  },
  {
   "cell_type": "markdown",
   "id": "4myP5igslA_Y",
   "metadata": {
    "id": "4myP5igslA_Y"
   },
   "source": [
    "### Split Training and Testing Data\n",
    "* Machine learning models are trained to help make predictions for the future. Normally, we need to randomly split the dataset into training and testing sets, where we use the training set to train the model, and then leverage the well-trained model to make predictions on the testing set.\n",
    "* To further investigate whether the size of the training/testing data affects the model performance, please random split the data into training and testing sets with different sizes:\n",
    "    * Case 1: training data containing 10% of the entire data;\n",
    "    * Case 2: training data containing 90% of the entire data.\n",
    "* Print the shape of training and testing sets in the two cases."
   ]
  },
  {
   "cell_type": "code",
   "execution_count": 54,
   "id": "JIDMig9blA_Y",
   "metadata": {
    "id": "JIDMig9blA_Y"
   },
   "outputs": [
    {
     "name": "stdout",
     "output_type": "stream",
     "text": [
      "Case 1 - Training set shape, Testing set shape: ((268, 11), (2417, 11))\n",
      "Case 2 - Training set shape, Testing set shape: ((2416, 11), (269, 11))\n"
     ]
    }
   ],
   "source": [
    "# Divide the dataset into 10% training, 90% testing for Case 1\n",
    "train_data_case1, test_data_case1 = train_test_split(analysis_data, test_size=0.9, random_state=42)\n",
    "\n",
    "# Divide the dataset into 90% training, 10% testing for Case 2\n",
    "train_data_case2, test_data_case2 = train_test_split(analysis_data, test_size=0.1, random_state=42)\n",
    "\n",
    "# Record and print the shapes of the training and testing sets for both cases to verify the splits\n",
    "shapes_case1 = (train_data_case1.shape, test_data_case1.shape)\n",
    "shapes_case2 = (train_data_case2.shape, test_data_case2.shape)\n",
    "\n",
    "# Output the shapes of the data splits to the console for inspection\n",
    "print(\"Case 1 - Training set shape, Testing set shape:\", shapes_case1)\n",
    "print(\"Case 2 - Training set shape, Testing set shape:\", shapes_case2)"
   ]
  },
  {
   "cell_type": "markdown",
   "id": "DjSsgT0BlA_Y",
   "metadata": {
    "id": "DjSsgT0BlA_Y"
   },
   "source": [
    "### Train Linear Regression Models with Feature Selection under Cases 1 & 2\n",
    "* When training a machine learning model for prediction, we may need to select the most important/correlated input features for more accurate results.\n",
    "* To investigate whether feature selection affects the model performance, please select two most correlated features and two least correlated features from helpfulness/gender/category/review regarding rating, respectively.\n",
    "* Train four linear regression models by following the conditions:\n",
    "    - (model-a) using the training/testing data in case 1 with two most correlated input features\n",
    "    - (model-b) using the training/testing data in case 1 with two least correlated input features\n",
    "    - (model-c) using the training/testing data in case 2 with two most correlated input features\n",
    "    - (model-d) using the training/testing data in case 2 with two least correlated input features\n",
    "* By doing this, we can verify the impacts of the size of traing/testing data on the model performance via comparing model-a and model-c (or model-b and model-d); meanwhile the impacts of feature selection can be validated via comparing model-a and model-b (or model-c and model-d).    "
   ]
  },
  {
   "cell_type": "code",
   "execution_count": 55,
   "id": "50ef2c41",
   "metadata": {},
   "outputs": [
    {
     "data": {
      "text/html": [
       "<style>#sk-container-id-2 {color: black;}#sk-container-id-2 pre{padding: 0;}#sk-container-id-2 div.sk-toggleable {background-color: white;}#sk-container-id-2 label.sk-toggleable__label {cursor: pointer;display: block;width: 100%;margin-bottom: 0;padding: 0.3em;box-sizing: border-box;text-align: center;}#sk-container-id-2 label.sk-toggleable__label-arrow:before {content: \"▸\";float: left;margin-right: 0.25em;color: #696969;}#sk-container-id-2 label.sk-toggleable__label-arrow:hover:before {color: black;}#sk-container-id-2 div.sk-estimator:hover label.sk-toggleable__label-arrow:before {color: black;}#sk-container-id-2 div.sk-toggleable__content {max-height: 0;max-width: 0;overflow: hidden;text-align: left;background-color: #f0f8ff;}#sk-container-id-2 div.sk-toggleable__content pre {margin: 0.2em;color: black;border-radius: 0.25em;background-color: #f0f8ff;}#sk-container-id-2 input.sk-toggleable__control:checked~div.sk-toggleable__content {max-height: 200px;max-width: 100%;overflow: auto;}#sk-container-id-2 input.sk-toggleable__control:checked~label.sk-toggleable__label-arrow:before {content: \"▾\";}#sk-container-id-2 div.sk-estimator input.sk-toggleable__control:checked~label.sk-toggleable__label {background-color: #d4ebff;}#sk-container-id-2 div.sk-label input.sk-toggleable__control:checked~label.sk-toggleable__label {background-color: #d4ebff;}#sk-container-id-2 input.sk-hidden--visually {border: 0;clip: rect(1px 1px 1px 1px);clip: rect(1px, 1px, 1px, 1px);height: 1px;margin: -1px;overflow: hidden;padding: 0;position: absolute;width: 1px;}#sk-container-id-2 div.sk-estimator {font-family: monospace;background-color: #f0f8ff;border: 1px dotted black;border-radius: 0.25em;box-sizing: border-box;margin-bottom: 0.5em;}#sk-container-id-2 div.sk-estimator:hover {background-color: #d4ebff;}#sk-container-id-2 div.sk-parallel-item::after {content: \"\";width: 100%;border-bottom: 1px solid gray;flex-grow: 1;}#sk-container-id-2 div.sk-label:hover label.sk-toggleable__label {background-color: #d4ebff;}#sk-container-id-2 div.sk-serial::before {content: \"\";position: absolute;border-left: 1px solid gray;box-sizing: border-box;top: 0;bottom: 0;left: 50%;z-index: 0;}#sk-container-id-2 div.sk-serial {display: flex;flex-direction: column;align-items: center;background-color: white;padding-right: 0.2em;padding-left: 0.2em;position: relative;}#sk-container-id-2 div.sk-item {position: relative;z-index: 1;}#sk-container-id-2 div.sk-parallel {display: flex;align-items: stretch;justify-content: center;background-color: white;position: relative;}#sk-container-id-2 div.sk-item::before, #sk-container-id-2 div.sk-parallel-item::before {content: \"\";position: absolute;border-left: 1px solid gray;box-sizing: border-box;top: 0;bottom: 0;left: 50%;z-index: -1;}#sk-container-id-2 div.sk-parallel-item {display: flex;flex-direction: column;z-index: 1;position: relative;background-color: white;}#sk-container-id-2 div.sk-parallel-item:first-child::after {align-self: flex-end;width: 50%;}#sk-container-id-2 div.sk-parallel-item:last-child::after {align-self: flex-start;width: 50%;}#sk-container-id-2 div.sk-parallel-item:only-child::after {width: 0;}#sk-container-id-2 div.sk-dashed-wrapped {border: 1px dashed gray;margin: 0 0.4em 0.5em 0.4em;box-sizing: border-box;padding-bottom: 0.4em;background-color: white;}#sk-container-id-2 div.sk-label label {font-family: monospace;font-weight: bold;display: inline-block;line-height: 1.2em;}#sk-container-id-2 div.sk-label-container {text-align: center;}#sk-container-id-2 div.sk-container {/* jupyter's `normalize.less` sets `[hidden] { display: none; }` but bootstrap.min.css set `[hidden] { display: none !important; }` so we also need the `!important` here to be able to override the default hidden behavior on the sphinx rendered scikit-learn.org. See: https://github.com/scikit-learn/scikit-learn/issues/21755 */display: inline-block !important;position: relative;}#sk-container-id-2 div.sk-text-repr-fallback {display: none;}</style><div id=\"sk-container-id-2\" class=\"sk-top-container\"><div class=\"sk-text-repr-fallback\"><pre>LinearRegression()</pre><b>In a Jupyter environment, please rerun this cell to show the HTML representation or trust the notebook. <br />On GitHub, the HTML representation is unable to render, please try loading this page with nbviewer.org.</b></div><div class=\"sk-container\" hidden><div class=\"sk-item\"><div class=\"sk-estimator sk-toggleable\"><input class=\"sk-toggleable__control sk-hidden--visually\" id=\"sk-estimator-id-2\" type=\"checkbox\" checked><label for=\"sk-estimator-id-2\" class=\"sk-toggleable__label sk-toggleable__label-arrow\">LinearRegression</label><div class=\"sk-toggleable__content\"><pre>LinearRegression()</pre></div></div></div></div></div>"
      ],
      "text/plain": [
       "LinearRegression()"
      ]
     },
     "execution_count": 55,
     "metadata": {},
     "output_type": "execute_result"
    }
   ],
   "source": [
    "from sklearn.linear_model import LinearRegression \n",
    "\n",
    "# Identify the features with the highest and lowest correlation to the target variable\n",
    "most_correlated_features = ['category', 'review']\n",
    "least_correlated_features = ['gender', 'helpfulness']\n",
    "\n",
    "# Model A: Using the most correlated features and Case 1 data split\n",
    "# Initialize the Linear Regression model\n",
    "model_a = LinearRegression()\n",
    "\n",
    "# Prepare the feature matrix (X) and target vector (y) for the training data in Case 1\n",
    "X_train_case1_most = train_data_case1[most_correlated_features]\n",
    "y_train_case1 = train_data_case1['rating']\n",
    "\n",
    "# Prepare the feature matrix (X) and target vector (y) for the testing data in Case 1\n",
    "X_test_case1_most = test_data_case1[most_correlated_features]\n",
    "y_test_case1 = test_data_case1['rating']\n",
    "\n",
    "# Fit Model A to the training data\n",
    "model_a.fit(X_train_case1_most, y_train_case1)\n",
    "\n",
    "# Model B: Using the least correlated features and Case 1 data split\n",
    "# Initialize another Linear Regression model for a different set of features\n",
    "model_b = LinearRegression()\n",
    "\n",
    "# Prepare the feature matrix and target vector for the training data using least correlated features\n",
    "X_train_case1_least = train_data_case1[least_correlated_features]\n",
    "y_train_case1 = train_data_case1['rating']\n",
    "\n",
    "# Similarly prepare for the testing data\n",
    "X_test_case1_least = test_data_case1[least_correlated_features]\n",
    "y_test_case1 = test_data_case1['rating']\n",
    "\n",
    "# Fit Model B to the training data\n",
    "model_b.fit(X_train_case1_least, y_train_case1)\n",
    "\n",
    "# Model C: Using the most correlated features but with Case 2 data split\n",
    "# Initialize the model\n",
    "model_c = LinearRegression()\n",
    "\n",
    "# Prepare the feature matrix and target vector for training data in Case 2\n",
    "X_train_case2_most = train_data_case2[most_correlated_features]\n",
    "y_train_case2 = train_data_case2['rating']\n",
    "\n",
    "# Prepare for testing data in Case 2\n",
    "X_test_case2_most = test_data_case2[most_correlated_features]\n",
    "y_test_case2 = test_data_case2['rating']\n",
    "\n",
    "# Fit Model C to the Case 2 training data\n",
    "model_c.fit(X_train_case2_most, y_train_case2)\n",
    "\n",
    "# Model D: Using the least correlated features and Case 2 data split\n",
    "# Initialize the model\n",
    "model_d = LinearRegression()\n",
    "\n",
    "# Prepare the feature matrix and target vector for the Case 2 training data using least correlated features\n",
    "X_train_case2_least = train_data_case2[least_correlated_features]\n",
    "y_train_case2 = train_data_case2['rating']\n",
    "\n",
    "# And for the testing data\n",
    "X_test_case2_least = test_data_case2[least_correlated_features]\n",
    "y_test_case2 = test_data_case2['rating']\n",
    "\n",
    "# Fit Model D to the Case 2 training data\n",
    "model_d.fit(X_train_case2_least, y_train_case2)\n"
   ]
  },
  {
   "cell_type": "code",
   "execution_count": 62,
   "id": "618bd6f8",
   "metadata": {},
   "outputs": [],
   "source": [
    "# Observation: I have identified that the 'review' feature may not be suitable for correlation analysis.\n",
    "# This is due to its data type being a string, which inherently lacks numeric insight for correlation calculation.\n",
    "# Despite this, the analysis necessitates selecting features with the highest and lowest correlation to 'rating'.\n",
    "# Therefore, among the available features - helpfulness, gender, category, and review - decisions were made based on their\n",
    "# respective correlation strengths with 'rating', as demonstrated in the results provided.\n",
    "# This approach underscores the importance of considering data types and their relevance in statistical analyses."
   ]
  },
  {
   "cell_type": "markdown",
   "id": "KATSn7hYlA_Z",
   "metadata": {
    "id": "KATSn7hYlA_Z"
   },
   "source": [
    "### Evaluate Models\n",
    "* Evaluate the performance of the four models with two metrics, including MSE and Root MSE\n",
    "* Print the results of the four models regarding the two metrics"
   ]
  },
  {
   "cell_type": "code",
   "execution_count": 63,
   "id": "bb877f04",
   "metadata": {},
   "outputs": [
    {
     "name": "stdout",
     "output_type": "stream",
     "text": [
      "Model-a: MSE = 1.776581354691434 , RMSE = 1.3328845991650717\n",
      "Model-b: MSE = 1.860535990321889 , RMSE = 1.3640146591301316\n",
      "Model-c: MSE = 1.681992500504392 , RMSE = 1.2969165356739007\n",
      "Model-d: MSE = 1.7245375467700421 , RMSE = 1.3132164889194935\n"
     ]
    }
   ],
   "source": [
    "# Calculate the Root Mean Square Error (RMSE) for each model as a measure of prediction accuracy\n",
    "# RMSE provides a scale-sensitive accuracy metric by taking the square root of the Mean Squared Error (MSE)\n",
    "rmse_model_a = math.sqrt(mse_a)\n",
    "rmse_model_b = math.sqrt(mse_b)  # Corrected typo in variable name\n",
    "rmse_model_c = math.sqrt(mse_c)\n",
    "rmse_model_d = math.sqrt(mse_d)\n",
    "\n",
    "# Output the performance metrics for each model to provide insights into their predictive accuracy\n",
    "# MSE (Mean Squared Error) indicates the average squared difference between the estimated values and the actual value\n",
    "# RMSE (Root Mean Squared Error) adjusts MSE to the scale of the data, providing a more interpretable result\n",
    "print(\"Model-a: MSE =\", mse_a, \", RMSE =\", rmse_model_a)\n",
    "print(\"Model-b: MSE =\", mse_b, \", RMSE =\", rmse_model_b)\n",
    "print(\"Model-c: MSE =\", mse_c, \", RMSE =\", rmse_model_c)\n",
    "print(\"Model-d: MSE =\", mse_d, \", RMSE =\", rmse_model_d)"
   ]
  },
  {
   "cell_type": "markdown",
   "id": "Y9jx-eY6lA_a",
   "metadata": {
    "id": "Y9jx-eY6lA_a"
   },
   "source": [
    "### Visualize, Compare and Analyze the Results\n",
    "* Visulize the results, and perform ___insightful analysis___ on the obtained results. For better visualization, you may need to carefully set the scale for the y-axis.\n",
    "* Normally, the model trained with most correlated features and more training data will get better results. Do you obtain the similar observations? If not, please ___explain the possible reasons___."
   ]
  },
  {
   "cell_type": "code",
   "execution_count": 64,
   "id": "3TNAIGDilA_a",
   "metadata": {
    "id": "3TNAIGDilA_a"
   },
   "outputs": [
    {
     "data": {
      "image/png": "[encoded data removed]",
      "text/plain": [
       "<Figure size 1000x500 with 1 Axes>"
      ]
     },
     "metadata": {},
     "output_type": "display_data"
    }
   ],
   "source": [
    "# Prepare the data for visualization.\n",
    "# calculated from previous evaluations of four different models. Similarly, rmse_a, rmse_b, rmse_c, and rmse_d \n",
    "# are the corresponding Root Mean Squared Error (RMSE) values.\n",
    "mse_values = [mse_a, mse_b, mse_c, mse_d]\n",
    "rmse_values = [rmse_a, rmse_b, rmse_c, rmse_d]\n",
    "model_labels = ['Model-a', 'Model-b', 'Model-c', 'Model-d']\n",
    "\n",
    "# Define the positions for the bar chart and the width of each bar to differentiate between the MSE and RMSE values visually.\n",
    "pos = np.arange(len(model_labels))\n",
    "width = 0.25  # Optimal width for clear distinction between bars\n",
    "\n",
    "# Initialize a figure for plotting with a specified size to ensure clarity and sufficient space for all elements.\n",
    "plt.figure(figsize=(10, 5))\n",
    "\n",
    "# Plot the MSE values for each model using light green bars.\n",
    "# The bars are positioned to the left of the center for each model label by subtracting half the width.\n",
    "plt.bar(pos - width/2, mse_values, width, label='MSE', color='lightgreen')\n",
    "\n",
    "# Plot the RMSE values for each model using light blue bars.\n",
    "# These bars are positioned to the right of the center by adding half the width, creating a side-by-side comparison.\n",
    "plt.bar(pos + width/2, rmse_values, width, label='RMSE', color='lightblue')\n",
    "\n",
    "# Enhance the chart with a title, labels, and a legend.\n",
    "# This includes setting y-axis label as 'Error', adding a descriptive title, and customizing tick labels on the x-axis.\n",
    "plt.ylabel('Error')\n",
    "plt.title('Evaluation of MSE Versus RMSE Across Different Models')\n",
    "plt.xticks(pos, model_labels)\n",
    "plt.legend()\n",
    "\n",
    "# Display the plot. This visual comparison facilitates a clearer understanding of the models' performance metrics.\n",
    "plt.show()\n"
   ]
  },
  {
   "cell_type": "markdown",
   "id": "f9ee01ac",
   "metadata": {
    "id": "f9ee01ac"
   },
   "source": [
    "### Data Science Ethics\n",
    "*Please read the following examples [Click here to read the example_1.](https://www.vox.com/covid-19-coronavirus-us-response-trump/2020/5/18/21262265/georgia-covid-19-cases-declining-reopening) [Click here to read the example_2.](https://viborc.com/ethics-and-ethical-data-visualization-a-complete-guide/)\n",
    "\n",
    "*Then view the picture ![My Image](figure_portfolio2.png \"This is my image\")\n",
    "Please compose an analysis of 100-200 words that evaluates potential ethical concerns associated with the infographic, detailing the reasons behind these issues.\n"
   ]
  },
  {
   "cell_type": "code",
   "execution_count": 65,
   "id": "d172177a",
   "metadata": {
    "id": "44f30e9b"
   },
   "outputs": [
    {
     "name": "stdout",
     "output_type": "stream",
     "text": [
      "The lenght of the answer is 166 words\n"
     ]
    },
    {
     "data": {
      "text/plain": [
       "\"The two medal tables from the 2008 Summer Olympics demonstrate alternate ranking methods. Table 1 lists countries by their total medal haul, with the United States at the top due to the sum of their medals. Table 2 uses a 'gold first' system that places China ahead because of their superior gold medal count. These rankings affect perceptions of Olympic success. Traditionally, the gold-first method is preferred to decide the leading nation; thus, China is viewed as the victor in Table 2. In cases where gold, silver, and bronze counts are equal, the IOC's rule is to order countries alphabetically by IOC country code. The discrepancy between these tables can send conflicting messages about which country truly 'led' the Olympics, hinging on whether total medals or golds are emphasized. It's crucial to present this data neutrally for a clear understanding of the outcomes. This summary provides an objective look at how different presentation methods can influence interpretations of Olympic success, while adhering to IOC tie-breaking procedures.\""
      ]
     },
     "execution_count": 65,
     "metadata": {},
     "output_type": "execute_result"
    }
   ],
   "source": [
    "# Convert the answer into a string variable to present and print out the lenght of answer\n",
    "\n",
    "answer_datascience_ethics = (\"The two medal tables from the 2008 Summer Olympics demonstrate alternate ranking methods. \"\n",
    "                   \"Table 1 lists countries by their total medal haul, with the United States at the top due to the sum \"\n",
    "                   \"of their medals. Table 2 uses a 'gold first' system that places China ahead because of their superior \"\n",
    "                   \"gold medal count. These rankings affect perceptions of Olympic success. Traditionally, the gold-first \"\n",
    "                   \"method is preferred to decide the leading nation; thus, China is viewed as the victor in Table 2. In \"\n",
    "                   \"cases where gold, silver, and bronze counts are equal, the IOC's rule is to order countries alphabetically \"\n",
    "                   \"by IOC country code. The discrepancy between these tables can send conflicting messages about which \"\n",
    "                   \"country truly 'led' the Olympics, hinging on whether total medals or golds are emphasized. It's crucial \"\n",
    "                   \"to present this data neutrally for a clear understanding of the outcomes. This summary provides an \"\n",
    "                   \"objective look at how different presentation methods can influence interpretations of Olympic success, \"\n",
    "                   \"while adhering to IOC tie-breaking procedures.\")\n",
    "\n",
    "print(\"The lenght of the answer is\" ,len(answer_datascience_ethics.split()), \"words\")\n",
    "\n",
    "\n",
    "answer_datascience_ethics\n"
   ]
  }
 ],
 "metadata": {
  "colab": {
   "provenance": []
  },
  "kernelspec": {
   "display_name": "Python 3 (ipykernel)",
   "language": "python",
   "name": "python3"
  },
  "language_info": {
   "codemirror_mode": {
    "name": "ipython",
    "version": 3
   },
   "file_extension": ".py",
   "mimetype": "text/x-python",
   "name": "python",
   "nbconvert_exporter": "python",
   "pygments_lexer": "ipython3",
   "version": "3.11.5"
  }
 },
 "nbformat": 4,
 "nbformat_minor": 5
}
