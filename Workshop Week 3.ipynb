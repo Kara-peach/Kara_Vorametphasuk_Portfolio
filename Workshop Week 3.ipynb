{
 "cells": [
  {
   "cell_type": "markdown",
   "metadata": {},
   "source": [
    "The goal of this week's workshop is to become familiar with the Pandas `DataFrame` data structure and begin looking at some simple data analysis and visualisation.   We'll look at two sample data sets and perform some analysis on them."
   ]
  },
  {
   "cell_type": "code",
   "execution_count": 8,
   "metadata": {},
   "outputs": [],
   "source": [
    "student_name = \"Kanrawee Vorametphasuk\"\n",
    "student_id = \"48088544\""
   ]
  },
  {
   "cell_type": "code",
   "execution_count": 9,
   "metadata": {},
   "outputs": [],
   "source": [
    "import pandas as pd\n",
    "import numpy as np\n",
    "import matplotlib.pyplot as plt\n",
    "%matplotlib inline"
   ]
  },
  {
   "cell_type": "markdown",
   "metadata": {},
   "source": [
    "## Auto MPG Data\n",
    "\n",
    "Our first exercise is with some data on cars from the US containing information about car size and power and fuel consumption (miles per gallon or mpg).   We'll use this to explore the Pandas `DataFrame` options for selecting and plotting data and for computing statistics over columns. \n",
    "\n",
    "First we read the data using `pd.read_table` since the data ([auto-mpg.data](files/auto-mpg.data)) is in a \n",
    "space separated tabular format (take a look at the raw data to see what this means).   I've added an \n",
    "explicit list of column headings and some options to `read_table` to get the data in the right format."
   ]
  },
  {
   "cell_type": "code",
   "execution_count": 10,
   "metadata": {},
   "outputs": [
    {
     "data": {
      "text/html": [
       "<div>\n",
       "<style scoped>\n",
       "    .dataframe tbody tr th:only-of-type {\n",
       "        vertical-align: middle;\n",
       "    }\n",
       "\n",
       "    .dataframe tbody tr th {\n",
       "        vertical-align: top;\n",
       "    }\n",
       "\n",
       "    .dataframe thead th {\n",
       "        text-align: right;\n",
       "    }\n",
       "</style>\n",
       "<table border=\"1\" class=\"dataframe\">\n",
       "  <thead>\n",
       "    <tr style=\"text-align: right;\">\n",
       "      <th></th>\n",
       "      <th>mpg</th>\n",
       "      <th>cylinders</th>\n",
       "      <th>displacement</th>\n",
       "      <th>horsepower</th>\n",
       "      <th>weight</th>\n",
       "      <th>acceleration</th>\n",
       "      <th>modelyear</th>\n",
       "      <th>origin</th>\n",
       "      <th>name</th>\n",
       "    </tr>\n",
       "  </thead>\n",
       "  <tbody>\n",
       "    <tr>\n",
       "      <th>0</th>\n",
       "      <td>18.0</td>\n",
       "      <td>8</td>\n",
       "      <td>307.0</td>\n",
       "      <td>130.0</td>\n",
       "      <td>3504.0</td>\n",
       "      <td>12.0</td>\n",
       "      <td>70</td>\n",
       "      <td>1</td>\n",
       "      <td>chevrolet chevelle malibu</td>\n",
       "    </tr>\n",
       "    <tr>\n",
       "      <th>1</th>\n",
       "      <td>15.0</td>\n",
       "      <td>8</td>\n",
       "      <td>350.0</td>\n",
       "      <td>165.0</td>\n",
       "      <td>3693.0</td>\n",
       "      <td>11.5</td>\n",
       "      <td>70</td>\n",
       "      <td>1</td>\n",
       "      <td>buick skylark 320</td>\n",
       "    </tr>\n",
       "    <tr>\n",
       "      <th>2</th>\n",
       "      <td>18.0</td>\n",
       "      <td>8</td>\n",
       "      <td>318.0</td>\n",
       "      <td>150.0</td>\n",
       "      <td>3436.0</td>\n",
       "      <td>11.0</td>\n",
       "      <td>70</td>\n",
       "      <td>1</td>\n",
       "      <td>plymouth satellite</td>\n",
       "    </tr>\n",
       "    <tr>\n",
       "      <th>3</th>\n",
       "      <td>16.0</td>\n",
       "      <td>8</td>\n",
       "      <td>304.0</td>\n",
       "      <td>150.0</td>\n",
       "      <td>3433.0</td>\n",
       "      <td>12.0</td>\n",
       "      <td>70</td>\n",
       "      <td>1</td>\n",
       "      <td>amc rebel sst</td>\n",
       "    </tr>\n",
       "    <tr>\n",
       "      <th>4</th>\n",
       "      <td>17.0</td>\n",
       "      <td>8</td>\n",
       "      <td>302.0</td>\n",
       "      <td>140.0</td>\n",
       "      <td>3449.0</td>\n",
       "      <td>10.5</td>\n",
       "      <td>70</td>\n",
       "      <td>1</td>\n",
       "      <td>ford torino</td>\n",
       "    </tr>\n",
       "  </tbody>\n",
       "</table>\n",
       "</div>"
      ],
      "text/plain": [
       "    mpg  cylinders  displacement  horsepower  weight  acceleration  modelyear  \\\n",
       "0  18.0          8         307.0       130.0  3504.0          12.0         70   \n",
       "1  15.0          8         350.0       165.0  3693.0          11.5         70   \n",
       "2  18.0          8         318.0       150.0  3436.0          11.0         70   \n",
       "3  16.0          8         304.0       150.0  3433.0          12.0         70   \n",
       "4  17.0          8         302.0       140.0  3449.0          10.5         70   \n",
       "\n",
       "   origin                       name  \n",
       "0       1  chevrolet chevelle malibu  \n",
       "1       1          buick skylark 320  \n",
       "2       1         plymouth satellite  \n",
       "3       1              amc rebel sst  \n",
       "4       1                ford torino  "
      ]
     },
     "execution_count": 10,
     "metadata": {},
     "output_type": "execute_result"
    }
   ],
   "source": [
    "columns = ['mpg', 'cylinders', 'displacement', 'horsepower', 'weight', 'acceleration', 'modelyear', 'origin', 'name']\n",
    "auto = pd.read_table('files/auto-mpg.data', delim_whitespace=True, header=None, names=columns)\n",
    "auto.head()"
   ]
  },
  {
   "cell_type": "markdown",
   "metadata": {},
   "source": [
    "Now that you have the data in a DataFrame, write code in cells below to do the following:\n",
    "\n",
    "* show the size of the data - how many rows and columns are there?\n",
    "* select just the `mpg` column, find the mean value of MPG for all cars\n",
    "* select all rows where the value of cylinders is 6, how many are there?\n",
    "* what is the mean MPG for 6 cylinder cars?\n",
    "* create a scatter plot of `mpg` vs `weight`\n",
    "* create a similar plot but just for the 8 cylinder cars\n",
    "\n",
    "You might want to refer to the [Pandas Tutorials](http://pandas.pydata.org/pandas-docs/stable/tutorials.html) or \n",
    " [10 Minutes to Pandas](http://pandas.pydata.org/pandas-docs/stable/10min.html) for some hints."
   ]
  },
  {
   "cell_type": "code",
   "execution_count": 11,
   "metadata": {},
   "outputs": [
    {
     "data": {
      "text/plain": [
       "(392, 9)"
      ]
     },
     "execution_count": 11,
     "metadata": {},
     "output_type": "execute_result"
    }
   ],
   "source": [
    "auto.shape"
   ]
  },
  {
   "cell_type": "code",
   "execution_count": 12,
   "metadata": {},
   "outputs": [
    {
     "name": "stdout",
     "output_type": "stream",
     "text": [
      "23.445918367346938\n",
      "23.445918367346938\n"
     ]
    }
   ],
   "source": [
    "# 2 ways to select a column\n",
    "print(auto.mpg.mean())\n",
    "print(auto[\"mpg\"].mean())"
   ]
  },
  {
   "cell_type": "code",
   "execution_count": 13,
   "metadata": {},
   "outputs": [
    {
     "data": {
      "text/html": [
       "<div>\n",
       "<style scoped>\n",
       "    .dataframe tbody tr th:only-of-type {\n",
       "        vertical-align: middle;\n",
       "    }\n",
       "\n",
       "    .dataframe tbody tr th {\n",
       "        vertical-align: top;\n",
       "    }\n",
       "\n",
       "    .dataframe thead th {\n",
       "        text-align: right;\n",
       "    }\n",
       "</style>\n",
       "<table border=\"1\" class=\"dataframe\">\n",
       "  <thead>\n",
       "    <tr style=\"text-align: right;\">\n",
       "      <th></th>\n",
       "      <th>mpg</th>\n",
       "      <th>cylinders</th>\n",
       "      <th>displacement</th>\n",
       "      <th>horsepower</th>\n",
       "      <th>weight</th>\n",
       "      <th>acceleration</th>\n",
       "      <th>modelyear</th>\n",
       "      <th>origin</th>\n",
       "      <th>name</th>\n",
       "    </tr>\n",
       "  </thead>\n",
       "  <tbody>\n",
       "    <tr>\n",
       "      <th>15</th>\n",
       "      <td>22.0</td>\n",
       "      <td>6</td>\n",
       "      <td>198.0</td>\n",
       "      <td>95.0</td>\n",
       "      <td>2833.0</td>\n",
       "      <td>15.5</td>\n",
       "      <td>70</td>\n",
       "      <td>1</td>\n",
       "      <td>plymouth duster</td>\n",
       "    </tr>\n",
       "    <tr>\n",
       "      <th>16</th>\n",
       "      <td>18.0</td>\n",
       "      <td>6</td>\n",
       "      <td>199.0</td>\n",
       "      <td>97.0</td>\n",
       "      <td>2774.0</td>\n",
       "      <td>15.5</td>\n",
       "      <td>70</td>\n",
       "      <td>1</td>\n",
       "      <td>amc hornet</td>\n",
       "    </tr>\n",
       "    <tr>\n",
       "      <th>17</th>\n",
       "      <td>21.0</td>\n",
       "      <td>6</td>\n",
       "      <td>200.0</td>\n",
       "      <td>85.0</td>\n",
       "      <td>2587.0</td>\n",
       "      <td>16.0</td>\n",
       "      <td>70</td>\n",
       "      <td>1</td>\n",
       "      <td>ford maverick</td>\n",
       "    </tr>\n",
       "    <tr>\n",
       "      <th>24</th>\n",
       "      <td>21.0</td>\n",
       "      <td>6</td>\n",
       "      <td>199.0</td>\n",
       "      <td>90.0</td>\n",
       "      <td>2648.0</td>\n",
       "      <td>15.0</td>\n",
       "      <td>70</td>\n",
       "      <td>1</td>\n",
       "      <td>amc gremlin</td>\n",
       "    </tr>\n",
       "    <tr>\n",
       "      <th>32</th>\n",
       "      <td>19.0</td>\n",
       "      <td>6</td>\n",
       "      <td>232.0</td>\n",
       "      <td>100.0</td>\n",
       "      <td>2634.0</td>\n",
       "      <td>13.0</td>\n",
       "      <td>71</td>\n",
       "      <td>1</td>\n",
       "      <td>amc gremlin</td>\n",
       "    </tr>\n",
       "    <tr>\n",
       "      <th>...</th>\n",
       "      <td>...</td>\n",
       "      <td>...</td>\n",
       "      <td>...</td>\n",
       "      <td>...</td>\n",
       "      <td>...</td>\n",
       "      <td>...</td>\n",
       "      <td>...</td>\n",
       "      <td>...</td>\n",
       "      <td>...</td>\n",
       "    </tr>\n",
       "    <tr>\n",
       "      <th>360</th>\n",
       "      <td>20.2</td>\n",
       "      <td>6</td>\n",
       "      <td>200.0</td>\n",
       "      <td>88.0</td>\n",
       "      <td>3060.0</td>\n",
       "      <td>17.1</td>\n",
       "      <td>81</td>\n",
       "      <td>1</td>\n",
       "      <td>ford granada gl</td>\n",
       "    </tr>\n",
       "    <tr>\n",
       "      <th>361</th>\n",
       "      <td>17.6</td>\n",
       "      <td>6</td>\n",
       "      <td>225.0</td>\n",
       "      <td>85.0</td>\n",
       "      <td>3465.0</td>\n",
       "      <td>16.6</td>\n",
       "      <td>81</td>\n",
       "      <td>1</td>\n",
       "      <td>chrysler lebaron salon</td>\n",
       "    </tr>\n",
       "    <tr>\n",
       "      <th>380</th>\n",
       "      <td>25.0</td>\n",
       "      <td>6</td>\n",
       "      <td>181.0</td>\n",
       "      <td>110.0</td>\n",
       "      <td>2945.0</td>\n",
       "      <td>16.4</td>\n",
       "      <td>82</td>\n",
       "      <td>1</td>\n",
       "      <td>buick century limited</td>\n",
       "    </tr>\n",
       "    <tr>\n",
       "      <th>381</th>\n",
       "      <td>38.0</td>\n",
       "      <td>6</td>\n",
       "      <td>262.0</td>\n",
       "      <td>85.0</td>\n",
       "      <td>3015.0</td>\n",
       "      <td>17.0</td>\n",
       "      <td>82</td>\n",
       "      <td>1</td>\n",
       "      <td>oldsmobile cutlass ciera (diesel)</td>\n",
       "    </tr>\n",
       "    <tr>\n",
       "      <th>383</th>\n",
       "      <td>22.0</td>\n",
       "      <td>6</td>\n",
       "      <td>232.0</td>\n",
       "      <td>112.0</td>\n",
       "      <td>2835.0</td>\n",
       "      <td>14.7</td>\n",
       "      <td>82</td>\n",
       "      <td>1</td>\n",
       "      <td>ford granada l</td>\n",
       "    </tr>\n",
       "  </tbody>\n",
       "</table>\n",
       "<p>83 rows × 9 columns</p>\n",
       "</div>"
      ],
      "text/plain": [
       "      mpg  cylinders  displacement  horsepower  weight  acceleration  \\\n",
       "15   22.0          6         198.0        95.0  2833.0          15.5   \n",
       "16   18.0          6         199.0        97.0  2774.0          15.5   \n",
       "17   21.0          6         200.0        85.0  2587.0          16.0   \n",
       "24   21.0          6         199.0        90.0  2648.0          15.0   \n",
       "32   19.0          6         232.0       100.0  2634.0          13.0   \n",
       "..    ...        ...           ...         ...     ...           ...   \n",
       "360  20.2          6         200.0        88.0  3060.0          17.1   \n",
       "361  17.6          6         225.0        85.0  3465.0          16.6   \n",
       "380  25.0          6         181.0       110.0  2945.0          16.4   \n",
       "381  38.0          6         262.0        85.0  3015.0          17.0   \n",
       "383  22.0          6         232.0       112.0  2835.0          14.7   \n",
       "\n",
       "     modelyear  origin                               name  \n",
       "15          70       1                    plymouth duster  \n",
       "16          70       1                         amc hornet  \n",
       "17          70       1                      ford maverick  \n",
       "24          70       1                        amc gremlin  \n",
       "32          71       1                        amc gremlin  \n",
       "..         ...     ...                                ...  \n",
       "360         81       1                    ford granada gl  \n",
       "361         81       1             chrysler lebaron salon  \n",
       "380         82       1              buick century limited  \n",
       "381         82       1  oldsmobile cutlass ciera (diesel)  \n",
       "383         82       1                     ford granada l  \n",
       "\n",
       "[83 rows x 9 columns]"
      ]
     },
     "execution_count": 13,
     "metadata": {},
     "output_type": "execute_result"
    }
   ],
   "source": [
    "auto[auto[\"cylinders\"]==6]"
   ]
  },
  {
   "cell_type": "code",
   "execution_count": 14,
   "metadata": {},
   "outputs": [
    {
     "data": {
      "text/plain": [
       "19.973493975903615"
      ]
     },
     "execution_count": 14,
     "metadata": {},
     "output_type": "execute_result"
    }
   ],
   "source": [
    "auto[auto[\"cylinders\"]==6].mpg.mean()"
   ]
  },
  {
   "cell_type": "code",
   "execution_count": 20,
   "metadata": {},
   "outputs": [
    {
     "data": {
      "text/plain": [
       "<Axes: xlabel='mpg', ylabel='weight'>"
      ]
     },
     "execution_count": 20,
     "metadata": {},
     "output_type": "execute_result"
    },
    {
     "data": {
      "image/png": "[encoded data removed]",
      "text/plain": [
       "<Figure size 500x500 with 1 Axes>"
      ]
     },
     "metadata": {},
     "output_type": "display_data"
    }
   ],
   "source": [
    "auto.plot(x=\"mpg\" ,y=\"weight\" ,kind=\"scatter\" ,figsize=(5,5))"
   ]
  },
  {
   "cell_type": "markdown",
   "metadata": {},
   "source": [
    "## Adult Data Analysis\n",
    "\n",
    "Next we'll work with a dataset described in Chapter 3 of the text - the [Adult](https://archive.ics.uci.edu/ml/datasets/Adult) dataset:\n",
    "\n",
    "> \"hosted on the UCI’s Machine Learning Repository.1 It contains approximately 32,000 observations concerning different financial parameters related to the US population: age, sex, marital (marital status of the individual), country, income (Boolean variable: whether the person makes more than $50,000 per annum), education (the highest level of education achieved by the individual), occupation, capital gain, etc.\n",
    "\n",
    "The data is stored in a file 'files/adult.data' in this repository. It is in CSV format but the text uses a\n",
    "different method to read it in to a dataframe - the reason is that it is a slightly non-standard format with spaces after the commas.  I've shown an alternate way to read the data below that uses read_csv with appropriate arguments to read the data.  This ensures that it doesn't try to read a header line (since there isn't one) and skips initial spaces in values.  We explicitly set the column names from a list of strings."
   ]
  },
  {
   "cell_type": "code",
   "execution_count": 21,
   "metadata": {},
   "outputs": [
    {
     "data": {
      "text/html": [
       "<div>\n",
       "<style scoped>\n",
       "    .dataframe tbody tr th:only-of-type {\n",
       "        vertical-align: middle;\n",
       "    }\n",
       "\n",
       "    .dataframe tbody tr th {\n",
       "        vertical-align: top;\n",
       "    }\n",
       "\n",
       "    .dataframe thead th {\n",
       "        text-align: right;\n",
       "    }\n",
       "</style>\n",
       "<table border=\"1\" class=\"dataframe\">\n",
       "  <thead>\n",
       "    <tr style=\"text-align: right;\">\n",
       "      <th></th>\n",
       "      <th>age</th>\n",
       "      <th>type_employer</th>\n",
       "      <th>fnlwgt</th>\n",
       "      <th>education</th>\n",
       "      <th>education_num</th>\n",
       "      <th>marital</th>\n",
       "      <th>occupation</th>\n",
       "      <th>relationship</th>\n",
       "      <th>race</th>\n",
       "      <th>sex</th>\n",
       "      <th>capital_gain</th>\n",
       "      <th>capital_loss</th>\n",
       "      <th>hr_per_week</th>\n",
       "      <th>country</th>\n",
       "      <th>income</th>\n",
       "    </tr>\n",
       "  </thead>\n",
       "  <tbody>\n",
       "    <tr>\n",
       "      <th>0</th>\n",
       "      <td>39</td>\n",
       "      <td>State-gov</td>\n",
       "      <td>77516</td>\n",
       "      <td>Bachelors</td>\n",
       "      <td>13</td>\n",
       "      <td>Never-married</td>\n",
       "      <td>Adm-clerical</td>\n",
       "      <td>Not-in-family</td>\n",
       "      <td>White</td>\n",
       "      <td>Male</td>\n",
       "      <td>2174</td>\n",
       "      <td>0</td>\n",
       "      <td>40</td>\n",
       "      <td>United-States</td>\n",
       "      <td>&lt;=50K</td>\n",
       "    </tr>\n",
       "    <tr>\n",
       "      <th>1</th>\n",
       "      <td>50</td>\n",
       "      <td>Self-emp-not-inc</td>\n",
       "      <td>83311</td>\n",
       "      <td>Bachelors</td>\n",
       "      <td>13</td>\n",
       "      <td>Married-civ-spouse</td>\n",
       "      <td>Exec-managerial</td>\n",
       "      <td>Husband</td>\n",
       "      <td>White</td>\n",
       "      <td>Male</td>\n",
       "      <td>0</td>\n",
       "      <td>0</td>\n",
       "      <td>13</td>\n",
       "      <td>United-States</td>\n",
       "      <td>&lt;=50K</td>\n",
       "    </tr>\n",
       "    <tr>\n",
       "      <th>2</th>\n",
       "      <td>38</td>\n",
       "      <td>Private</td>\n",
       "      <td>215646</td>\n",
       "      <td>HS-grad</td>\n",
       "      <td>9</td>\n",
       "      <td>Divorced</td>\n",
       "      <td>Handlers-cleaners</td>\n",
       "      <td>Not-in-family</td>\n",
       "      <td>White</td>\n",
       "      <td>Male</td>\n",
       "      <td>0</td>\n",
       "      <td>0</td>\n",
       "      <td>40</td>\n",
       "      <td>United-States</td>\n",
       "      <td>&lt;=50K</td>\n",
       "    </tr>\n",
       "    <tr>\n",
       "      <th>3</th>\n",
       "      <td>53</td>\n",
       "      <td>Private</td>\n",
       "      <td>234721</td>\n",
       "      <td>11th</td>\n",
       "      <td>7</td>\n",
       "      <td>Married-civ-spouse</td>\n",
       "      <td>Handlers-cleaners</td>\n",
       "      <td>Husband</td>\n",
       "      <td>Black</td>\n",
       "      <td>Male</td>\n",
       "      <td>0</td>\n",
       "      <td>0</td>\n",
       "      <td>40</td>\n",
       "      <td>United-States</td>\n",
       "      <td>&lt;=50K</td>\n",
       "    </tr>\n",
       "    <tr>\n",
       "      <th>4</th>\n",
       "      <td>28</td>\n",
       "      <td>Private</td>\n",
       "      <td>338409</td>\n",
       "      <td>Bachelors</td>\n",
       "      <td>13</td>\n",
       "      <td>Married-civ-spouse</td>\n",
       "      <td>Prof-specialty</td>\n",
       "      <td>Wife</td>\n",
       "      <td>Black</td>\n",
       "      <td>Female</td>\n",
       "      <td>0</td>\n",
       "      <td>0</td>\n",
       "      <td>40</td>\n",
       "      <td>Cuba</td>\n",
       "      <td>&lt;=50K</td>\n",
       "    </tr>\n",
       "  </tbody>\n",
       "</table>\n",
       "</div>"
      ],
      "text/plain": [
       "   age     type_employer  fnlwgt  education  education_num  \\\n",
       "0   39         State-gov   77516  Bachelors             13   \n",
       "1   50  Self-emp-not-inc   83311  Bachelors             13   \n",
       "2   38           Private  215646    HS-grad              9   \n",
       "3   53           Private  234721       11th              7   \n",
       "4   28           Private  338409  Bachelors             13   \n",
       "\n",
       "              marital         occupation   relationship   race     sex  \\\n",
       "0       Never-married       Adm-clerical  Not-in-family  White    Male   \n",
       "1  Married-civ-spouse    Exec-managerial        Husband  White    Male   \n",
       "2            Divorced  Handlers-cleaners  Not-in-family  White    Male   \n",
       "3  Married-civ-spouse  Handlers-cleaners        Husband  Black    Male   \n",
       "4  Married-civ-spouse     Prof-specialty           Wife  Black  Female   \n",
       "\n",
       "   capital_gain  capital_loss  hr_per_week        country income  \n",
       "0          2174             0           40  United-States  <=50K  \n",
       "1             0             0           13  United-States  <=50K  \n",
       "2             0             0           40  United-States  <=50K  \n",
       "3             0             0           40  United-States  <=50K  \n",
       "4             0             0           40           Cuba  <=50K  "
      ]
     },
     "execution_count": 21,
     "metadata": {},
     "output_type": "execute_result"
    }
   ],
   "source": [
    "column_names = ['age', 'type_employer', 'fnlwgt', 'education', 'education_num', \n",
    "                'marital', 'occupation',' relationship', 'race', 'sex', 'capital_gain', \n",
    "                'capital_loss', 'hr_per_week', 'country', 'income']\n",
    "\n",
    "adult = pd.read_csv('files/adult.data', header=None, names=column_names, skipinitialspace=True)\n",
    "adult.head()"
   ]
  },
  {
   "cell_type": "markdown",
   "metadata": {},
   "source": [
    "Follow the textbook examples to complete the tasks below.  Note that cutting and pasting from the text\n",
    "is a bit problematic since they use special quote character in the code - if you try to copy-paste the code you'll get syntax errors. Instead, type out the commands, it might help you remember them better too.\n",
    "\n",
    "The first task is to create separate dataframes for males and females, and for males and females earning over 50K (four dataframes in all).  When you have done this, **display the mean, median and standard deviation of age for each group** (Section 3.3.1).\n",
    "\n",
    "One criticism I have of the code in the text is that they use very short variable names like df and ml2.  I've called the main dataframe `adult`; I suggest you use slightly longer varible names (`males`, `males_high`) to make your code easier to read - although avoid really long names (`males_with_high_income`) as they can make your code hard to read."
   ]
  },
  {
   "cell_type": "code",
   "execution_count": 32,
   "metadata": {},
   "outputs": [],
   "source": [
    "# Q1\n",
    "males = adult[adult.sex == \"Male\"]\n",
    "females = adult[adult.sex == \"Female\"]\n",
    "\n",
    "males_high = males[males.income == \">50K\"]\n",
    "females_high = females[females.income == \">50K\"]"
   ]
  },
  {
   "cell_type": "code",
   "execution_count": 31,
   "metadata": {},
   "outputs": [
    {
     "data": {
      "text/plain": [
       "array(['<=50K', '>50K'], dtype=object)"
      ]
     },
     "execution_count": 31,
     "metadata": {},
     "output_type": "execute_result"
    }
   ],
   "source": [
    "adult.income.unique()"
   ]
  },
  {
   "cell_type": "code",
   "execution_count": 33,
   "metadata": {},
   "outputs": [
    {
     "name": "stdout",
     "output_type": "stream",
     "text": [
      "               age        fnlwgt  education_num  capital_gain  capital_loss  \\\n",
      "count  6662.000000  6.662000e+03    6662.000000   6662.000000   6662.000000   \n",
      "mean     44.625788  1.887691e+05      11.580606   3971.765836    198.780396   \n",
      "std      10.485469  1.031073e+05       2.408706  14640.362450    598.709469   \n",
      "min      19.000000  1.487800e+04       2.000000      0.000000      0.000000   \n",
      "25%      37.000000  1.196150e+05       9.000000      0.000000      0.000000   \n",
      "50%      44.000000  1.767400e+05      12.000000      0.000000      0.000000   \n",
      "75%      51.000000  2.331868e+05      13.000000      0.000000      0.000000   \n",
      "max      90.000000  1.226583e+06      16.000000  99999.000000   3004.000000   \n",
      "\n",
      "       hr_per_week  \n",
      "count  6662.000000  \n",
      "mean     46.366106  \n",
      "std      10.729019  \n",
      "min       1.000000  \n",
      "25%      40.000000  \n",
      "50%      44.000000  \n",
      "75%      50.000000  \n",
      "max      99.000000  \n"
     ]
    }
   ],
   "source": [
    "print(males_high.describe())"
   ]
  },
  {
   "cell_type": "code",
   "execution_count": 56,
   "metadata": {},
   "outputs": [
    {
     "name": "stdout",
     "output_type": "stream",
     "text": [
      "               age         fnlwgt  education_num  capital_gain  capital_loss  \\\n",
      "count  1179.000000    1179.000000    1179.000000   1179.000000   1179.000000   \n",
      "mean     42.125530  183687.406277      11.787108   4200.389313    173.648855   \n",
      "std      10.460104   99217.678731       2.240158  14172.945728    576.726339   \n",
      "min      19.000000   19700.000000       3.000000      0.000000      0.000000   \n",
      "25%      34.000000  116459.000000      10.000000      0.000000      0.000000   \n",
      "50%      41.000000  172274.000000      13.000000      0.000000      0.000000   \n",
      "75%      49.000000  221731.000000      13.000000      0.000000      0.000000   \n",
      "max      90.000000  953588.000000      16.000000  99999.000000   3683.000000   \n",
      "\n",
      "       hr_per_week  \n",
      "count  1179.000000  \n",
      "mean     40.426633  \n",
      "std      11.238290  \n",
      "min       2.000000  \n",
      "25%      38.000000  \n",
      "50%      40.000000  \n",
      "75%      45.000000  \n",
      "max      99.000000  \n"
     ]
    }
   ],
   "source": [
    "print(females_high.describe())"
   ]
  },
  {
   "cell_type": "code",
   "execution_count": 36,
   "metadata": {},
   "outputs": [
    {
     "name": "stdout",
     "output_type": "stream",
     "text": [
      "               age        fnlwgt  education_num  capital_gain  capital_loss  \\\n",
      "count  6662.000000  6.662000e+03    6662.000000   6662.000000   6662.000000   \n",
      "mean     44.625788  1.887691e+05      11.580606   3971.765836    198.780396   \n",
      "std      10.485469  1.031073e+05       2.408706  14640.362450    598.709469   \n",
      "min      19.000000  1.487800e+04       2.000000      0.000000      0.000000   \n",
      "25%      37.000000  1.196150e+05       9.000000      0.000000      0.000000   \n",
      "50%      44.000000  1.767400e+05      12.000000      0.000000      0.000000   \n",
      "75%      51.000000  2.331868e+05      13.000000      0.000000      0.000000   \n",
      "max      90.000000  1.226583e+06      16.000000  99999.000000   3004.000000   \n",
      "\n",
      "       hr_per_week  \n",
      "count  6662.000000  \n",
      "mean     46.366106  \n",
      "std      10.729019  \n",
      "min       1.000000  \n",
      "25%      40.000000  \n",
      "50%      44.000000  \n",
      "75%      50.000000  \n",
      "max      99.000000  \n",
      "                age        fnlwgt  education_num  capital_gain  capital_loss  \\\n",
      "count  10771.000000  1.077100e+04   10771.000000  10771.000000  10771.000000   \n",
      "mean      36.858230  1.857463e+05      10.035744    568.410547     61.187633   \n",
      "std       14.013697  1.029861e+05       2.379954   4924.262944    340.907518   \n",
      "min       17.000000  1.228500e+04       1.000000      0.000000      0.000000   \n",
      "25%       25.000000  1.173630e+05       9.000000      0.000000      0.000000   \n",
      "50%       35.000000  1.760770e+05      10.000000      0.000000      0.000000   \n",
      "75%       46.000000  2.283315e+05      12.000000      0.000000      0.000000   \n",
      "max       90.000000  1.484705e+06      16.000000  99999.000000   4356.000000   \n",
      "\n",
      "        hr_per_week  \n",
      "count  10771.000000  \n",
      "mean      36.410361  \n",
      "std       11.811300  \n",
      "min        1.000000  \n",
      "25%       30.000000  \n",
      "50%       40.000000  \n",
      "75%       40.000000  \n",
      "max       99.000000  \n"
     ]
    }
   ],
   "source": [
    "#Q2\n",
    "males.describe()\n",
    "females.describe()\n",
    "adult_high.describe()\n",
    "print(males_high.describe())\n",
    "print(females.describe())"
   ]
  },
  {
   "cell_type": "markdown",
   "metadata": {},
   "source": [
    "Plot the distributions of the ages of males and females in the dataset on a single graph (Section 3.3.2 figure 3.2).  Note that you can do without using the seaborn module as in the example, just use `color='indianred'` instead.  Work out ([from the pandas documentation](http://pandas.pydata.org/docs/)) how to add labels to the axes in your plot - the code in the chapter doesn't show this.\n",
    "\n",
    "Compare your plot with the plot in the textbook.  Does it look the same? If it does, then you made the same error as they did. Compare the y-axis in Figures 3.1 and 3.2 (left) for Males; are there more males or females between ages 30 and 40? \n",
    "\n",
    "**This week's first checkpoint is to identify the bug in the textbook code.  Tell your tutor where you've found the bug.**"
   ]
  },
  {
   "cell_type": "code",
   "execution_count": 57,
   "metadata": {},
   "outputs": [
    {
     "data": {
      "text/plain": [
       "<Axes: xlabel='Age', ylabel='Samples'>"
      ]
     },
     "execution_count": 57,
     "metadata": {},
     "output_type": "execute_result"
    },
    {
     "data": {
      "image/png": "[encoded data removed]",
      "text/plain": [
       "<Figure size 640x480 with 1 Axes>"
      ]
     },
     "metadata": {},
     "output_type": "display_data"
    }
   ],
   "source": [
    "# your code here\n",
    "#Q3 Plot\n",
    "plt.axes(xlabel =\"Age\", ylabel=\"Samples\")\n",
    "males.age.hist(histtype=\"stepfilled\", bins=20, alpha=0.5)\n",
    "females.age.hist(histtype=\"stepfilled\", bins=20, alpha=0.5)"
   ]
  },
  {
   "cell_type": "markdown",
   "metadata": {},
   "source": [
    "## Outliers\n",
    "\n",
    "The text book Section 3.3.3 talks about removing outliers from the data, discarding values that lie a long way from the median or mean value.   For this dataset, they talk about removing any rows where the income is >50K but the age is below 22 or above 72 - basically saying that these values are unlikely to be real.   This is a reasonable thing to do but the code they give for it is buggy.  \n",
    "\n",
    "They show this formula:\n",
    "\n",
    "```\n",
    "df2 = df.drop(df.index[\n",
    "                      (df.income == ’>50K\\n’) &\n",
    "                      (df[’age’] > df[’age’].median() + 35) & (df[’age’] > df[’age’].median() -15)\n",
    "])\n",
    "```\n",
    "\n",
    "Note that they are dropping from the dataframe `df` any rows where the income is high AND the age is greater than 72 (median + 35) AND the age is greater than 22 (median - 15).   So effectively the last term will have no effect.  \n",
    "What they really mean is (age > 72) OR (age < 22).  Here are some expressions that express these constraints. I've printed the length of the dataframe after using the boolean expression to select the rows:"
   ]
  },
  {
   "cell_type": "code",
   "execution_count": 40,
   "metadata": {},
   "outputs": [
    {
     "name": "stdout",
     "output_type": "stream",
     "text": [
      "7841\n",
      "401\n",
      "3130\n",
      "74\n"
     ]
    }
   ],
   "source": [
    "print( len( adult[(adult.income == '>50K')] ))\n",
    "print( len( adult[(adult.age > 72)] ))\n",
    "print( len( adult[(adult.age < 22)] ))\n",
    "print( len( adult[(adult.income == '>50K')  & ((adult.age > 72) | (adult.age < 22))] ))"
   ]
  },
  {
   "cell_type": "markdown",
   "metadata": {},
   "source": [
    "Based on these expressions, we can drop rows outside of the target range using the `drop` method as in the textbook.  Note the use of `adult.index`.  The argument to drop is a series giving the indexes of the rows we want to remove from the dataframe.   So we filter the index of the dataframe using the boolean expression to get this."
   ]
  },
  {
   "cell_type": "code",
   "execution_count": 41,
   "metadata": {},
   "outputs": [
    {
     "data": {
      "text/plain": [
       "count    7767.000000\n",
       "mean       43.965495\n",
       "std        10.044728\n",
       "min        22.000000\n",
       "25%        36.000000\n",
       "50%        43.000000\n",
       "75%        51.000000\n",
       "max        72.000000\n",
       "Name: age, dtype: float64"
      ]
     },
     "execution_count": 41,
     "metadata": {},
     "output_type": "execute_result"
    }
   ],
   "source": [
    "# remove outliers - people with high income who are too old or too young\n",
    "adult_clean = adult.drop( adult.index[(adult.income == '>50K') & \n",
    "                                      ((adult['age'] > 72) | \n",
    "                                       (adult['age'] < 22))]\n",
    "                        )\n",
    "\n",
    "# confirm that we have restricted the range of ages for high earners, should see \n",
    "adult_clean[adult_clean.income=='>50K'].age.describe()"
   ]
  },
  {
   "cell_type": "markdown",
   "metadata": {},
   "source": [
    "Note that unlike in the textbook, the minimum age is now 22 (not 19).\n",
    "\n",
    "Given this filtered dataset, repeat the analysis in the remainder of section 3.3.3 to **determine whether the difference between males and females is changed once outliers are removed**. To do this you will need to compute versions of the male and female high earners age series with and without outliers removed.  You can do this directly from the `adult` and `adult_clean` dataframes."
   ]
  },
  {
   "cell_type": "code",
   "execution_count": 43,
   "metadata": {},
   "outputs": [
    {
     "name": "stdout",
     "output_type": "stream",
     "text": [
      "                age        fnlwgt  education_num  capital_gain  capital_loss  \\\n",
      "count  21727.000000  2.172700e+04   21727.000000  21727.000000  21727.000000   \n",
      "mean      39.327243  1.918457e+05      10.098863   1311.389745     99.786809   \n",
      "std       13.229444  1.067505e+05       2.660062   8272.420052    428.647844   \n",
      "min       17.000000  1.376900e+04       1.000000      0.000000      0.000000   \n",
      "25%       29.000000  1.183190e+05       9.000000      0.000000      0.000000   \n",
      "50%       38.000000  1.801950e+05      10.000000      0.000000      0.000000   \n",
      "75%       48.000000  2.412220e+05      13.000000      0.000000      0.000000   \n",
      "max       90.000000  1.455435e+06      16.000000  99999.000000   3770.000000   \n",
      "\n",
      "        hr_per_week  \n",
      "count  21727.000000  \n",
      "mean      42.448336  \n",
      "std       12.093456  \n",
      "min        1.000000  \n",
      "25%       40.000000  \n",
      "50%       40.000000  \n",
      "75%       49.000000  \n",
      "max       99.000000  \n",
      "                age        fnlwgt  education_num  capital_gain  capital_loss  \\\n",
      "count  10760.000000  1.076000e+04   10760.000000  10760.000000  10760.000000   \n",
      "mean      36.831877  1.857722e+05      10.034294    552.632063     60.907900   \n",
      "std       13.970788  1.030107e+05       2.379552   4818.862025    339.284519   \n",
      "min       17.000000  1.228500e+04       1.000000      0.000000      0.000000   \n",
      "25%       25.000000  1.173848e+05       9.000000      0.000000      0.000000   \n",
      "50%       35.000000  1.760780e+05      10.000000      0.000000      0.000000   \n",
      "75%       46.000000  2.283960e+05      12.000000      0.000000      0.000000   \n",
      "max       90.000000  1.484705e+06      16.000000  99999.000000   4356.000000   \n",
      "\n",
      "        hr_per_week  \n",
      "count  10760.000000  \n",
      "mean      36.415799  \n",
      "std       11.808545  \n",
      "min        1.000000  \n",
      "25%       30.000000  \n",
      "50%       40.000000  \n",
      "75%       40.000000  \n",
      "max       99.000000  \n"
     ]
    }
   ],
   "source": [
    "# your code here\n",
    "males_clean = adult_clean[adult_clean.sex==\"Male\"]\n",
    "females_clean = adult_clean[adult_clean.sex==\"Female\"]\n",
    "print(males_clean.describe())\n",
    "print(females_clean.describe())"
   ]
  },
  {
   "cell_type": "code",
   "execution_count": null,
   "metadata": {},
   "outputs": [],
   "source": [
    "males_clean_high = males_clean[males_clean.income == \">50K\"]\n",
    "females_clean_high = females_clean[females_clean.income == \">50K\"]"
   ]
  },
  {
   "cell_type": "markdown",
   "metadata": {},
   "source": [
    "Generate figure 3.5 from the textbook that shows the relative frequency of male an female high earners as a function of age.  Again, label your axes and the plot overall."
   ]
  },
  {
   "cell_type": "code",
   "execution_count": 46,
   "metadata": {},
   "outputs": [],
   "source": [
    "# use np.histogram to count NO. ages in different divisions\n",
    "countm, divisionm = np.histogram(males_clean_high.age, density=True)\n",
    "countf, divisionf = np.histogram(females_clean_high.age, density=True)"
   ]
  },
  {
   "cell_type": "code",
   "execution_count": 47,
   "metadata": {},
   "outputs": [
    {
     "name": "stdout",
     "output_type": "stream",
     "text": [
      "[0.00390968 0.01642673 0.02773147 0.03545992 0.03661161 0.03206546\n",
      " 0.02182149 0.01557812 0.00691014 0.00348538]\n"
     ]
    }
   ],
   "source": [
    "print(countm)"
   ]
  },
  {
   "cell_type": "code",
   "execution_count": 48,
   "metadata": {},
   "outputs": [
    {
     "name": "stdout",
     "output_type": "stream",
     "text": [
      "[22. 27. 32. 37. 42. 47. 52. 57. 62. 67. 72.]\n"
     ]
    }
   ],
   "source": [
    "print(divisionm)"
   ]
  },
  {
   "cell_type": "code",
   "execution_count": 51,
   "metadata": {},
   "outputs": [
    {
     "data": {
      "text/plain": [
       "[<matplotlib.lines.Line2D at 0x143948e10>]"
      ]
     },
     "execution_count": 51,
     "metadata": {},
     "output_type": "execute_result"
    },
    {
     "data": {
      "image/png": "[encoded data removed]",
      "text/plain": [
       "<Figure size 1000x600 with 1 Axes>"
      ]
     },
     "metadata": {},
     "output_type": "display_data"
    }
   ],
   "source": [
    "# calculate midpoint\n",
    "midpoints = divisionm[1:] - np.diff(divisionm)/2\n",
    "\n",
    "plt.figure(figsize=(10,6))\n",
    "plt.axes(xlabel=\"Age\" ,ylabel=\"Differences\" ,title=\"Differences in promoting men V.S. women\")\n",
    "plt.plot(midpoints, countm-countf, \"x-\")"
   ]
  },
  {
   "cell_type": "markdown",
   "metadata": {},
   "source": [
    "Finally, use the **Pearson’s median skewness coefficient** from Section 3.3.4 to confirm the difference in the shape of the distribution of male and female age distributions. "
   ]
  },
  {
   "cell_type": "code",
   "execution_count": 55,
   "metadata": {},
   "outputs": [
    {
     "data": {
      "text/plain": [
       "9.772577960962293"
      ]
     },
     "execution_count": 55,
     "metadata": {},
     "output_type": "execute_result"
    }
   ],
   "source": [
    "# your code here\n",
    "def person(x):\n",
    "    return 3 * (x.mean() - x.median())* x.std()\n",
    "\n",
    "person(males_clean_high.age)"
   ]
  },
  {
   "cell_type": "markdown",
   "metadata": {},
   "source": [
    "Summarise the results of your analysis. Do you reach the same conclusion as the textbook? What if any differences do you observe with the correct removal of outliers?"
   ]
  },
  {
   "cell_type": "markdown",
   "metadata": {},
   "source": [
    "## Write your analysis here"
   ]
  },
  {
   "cell_type": "markdown",
   "metadata": {},
   "source": [
    "**This week's final checkpoint is to complete this notebook and also writing your analysis. Writing a brief commentary regarding numbers and plots is very important to highlight what you can conclude from your data exploration.**\n",
    "\n",
    "**If you need help in finishing this week's notebook, kindly take help from your tutor. Also, refer to Chapter 3 of your textbook**"
   ]
  },
  {
   "cell_type": "markdown",
   "metadata": {},
   "source": [
    "## Challenge\n",
    "\n",
    "If you complete this work in plenty of time, explore the dataset a little more to \n",
    "familiarise yourself with some other features of Pandas dataframes. Example questions might be:\n",
    "\n",
    "- does education level have an effect on income? Use [groupby](http://pandas.pydata.org/pandas-docs/stable/groupby.html) to look at the different values of the education variable and the number\n",
    "of records in each group.  Select one or two groups and compare the low and high income bands for these. \n",
    "- The `education_num` column is (I think) a numerical measure of the level of education of the person - higher for a higher level of qualification.  Look at the difference in this variable for groups defined by the `marital` variable: are married people more or less highly educated than those who are single?\n"
   ]
  }
 ],
 "metadata": {
  "kernelspec": {
   "display_name": "Python 3 (ipykernel)",
   "language": "python",
   "name": "python3"
  },
  "language_info": {
   "codemirror_mode": {
    "name": "ipython",
    "version": 3
   },
   "file_extension": ".py",
   "mimetype": "text/x-python",
   "name": "python",
   "nbconvert_exporter": "python",
   "pygments_lexer": "ipython3",
   "version": "3.11.5"
  }
 },
 "nbformat": 4,
 "nbformat_minor": 2
}
